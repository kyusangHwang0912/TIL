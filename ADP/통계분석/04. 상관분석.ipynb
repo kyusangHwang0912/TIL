{
 "cells": [
  {
   "cell_type": "markdown",
   "metadata": {},
   "source": [
    "# 1장-3절. 상관분석\n",
    "- 두 변수 간 관계의 정도를 알아보기 위한 분석방법\n",
    "- 상관계수는 데이터 간 상관관계가 얼마나 강한지를 수치화한 값으로 두 변수 간 관련성의 정도를 의미\n",
    "- 종류\n",
    "    - 피어슨 상관계수\n",
    "    - 스피어만 상관계수\n",
    "    - 켄달의 순위 상관계수"
   ]
  },
  {
   "cell_type": "markdown",
   "metadata": {},
   "source": [
    "- 상관계수 해석\n",
    "\n",
    "<img src=\"https://user-images.githubusercontent.com/80219821/131305314-14fe274a-7e45-4dcd-84df-6a1c069443ed.png\" height=\"300px\" width=\"600px\" align=\"left\">"
   ]
  },
  {
   "cell_type": "markdown",
   "metadata": {},
   "source": [
    "## 공분산?\n",
    "- 두 확률변수가 함께 변화하는지의 정도를 측정하는 값\n",
    "- 양의 상관관계가 존재할 시 양수값을 가지고 반대로 음의 상관관계가 존재할 시 음수 값을 가진다.\n",
    "- 공분산을 통해 상관성의 경향을 파악할 수는 있지만, 두 변수의 측정 단위 크기에 따라 음의 무한대에서 양의 무한대 사이에 존재하게 됨으로 상관성의 정도 파악에는 한계가 있음.\n",
    "- 따라서 공분산을 두 변수의 표준편차 곱으로 나누어 표준화 시킨 상관계수를 이요해 두 변수간 상관성의 정도를 파악하는 것"
   ]
  },
  {
   "cell_type": "markdown",
   "metadata": {},
   "source": [
    "---\n",
    "---"
   ]
  },
  {
   "cell_type": "markdown",
   "metadata": {},
   "source": [
    "### 공분산 확인"
   ]
  },
  {
   "cell_type": "code",
   "execution_count": 12,
   "metadata": {},
   "outputs": [
    {
     "data": {
      "text/html": [
       "<div>\n",
       "<style scoped>\n",
       "    .dataframe tbody tr th:only-of-type {\n",
       "        vertical-align: middle;\n",
       "    }\n",
       "\n",
       "    .dataframe tbody tr th {\n",
       "        vertical-align: top;\n",
       "    }\n",
       "\n",
       "    .dataframe thead th {\n",
       "        text-align: right;\n",
       "    }\n",
       "</style>\n",
       "<table border=\"1\" class=\"dataframe\">\n",
       "  <thead>\n",
       "    <tr style=\"text-align: right;\">\n",
       "      <th></th>\n",
       "      <th>survived</th>\n",
       "      <th>pclass</th>\n",
       "      <th>sex</th>\n",
       "      <th>age</th>\n",
       "      <th>sibsp</th>\n",
       "      <th>parch</th>\n",
       "      <th>fare</th>\n",
       "    </tr>\n",
       "  </thead>\n",
       "  <tbody>\n",
       "    <tr>\n",
       "      <th>885</th>\n",
       "      <td>0</td>\n",
       "      <td>3</td>\n",
       "      <td>female</td>\n",
       "      <td>39.0</td>\n",
       "      <td>0</td>\n",
       "      <td>5</td>\n",
       "      <td>29.125</td>\n",
       "    </tr>\n",
       "    <tr>\n",
       "      <th>886</th>\n",
       "      <td>0</td>\n",
       "      <td>2</td>\n",
       "      <td>male</td>\n",
       "      <td>27.0</td>\n",
       "      <td>0</td>\n",
       "      <td>0</td>\n",
       "      <td>13.000</td>\n",
       "    </tr>\n",
       "    <tr>\n",
       "      <th>887</th>\n",
       "      <td>1</td>\n",
       "      <td>1</td>\n",
       "      <td>female</td>\n",
       "      <td>19.0</td>\n",
       "      <td>0</td>\n",
       "      <td>0</td>\n",
       "      <td>30.000</td>\n",
       "    </tr>\n",
       "    <tr>\n",
       "      <th>889</th>\n",
       "      <td>1</td>\n",
       "      <td>1</td>\n",
       "      <td>male</td>\n",
       "      <td>26.0</td>\n",
       "      <td>0</td>\n",
       "      <td>0</td>\n",
       "      <td>30.000</td>\n",
       "    </tr>\n",
       "    <tr>\n",
       "      <th>890</th>\n",
       "      <td>0</td>\n",
       "      <td>3</td>\n",
       "      <td>male</td>\n",
       "      <td>32.0</td>\n",
       "      <td>0</td>\n",
       "      <td>0</td>\n",
       "      <td>7.750</td>\n",
       "    </tr>\n",
       "  </tbody>\n",
       "</table>\n",
       "</div>"
      ],
      "text/plain": [
       "     survived  pclass     sex   age  sibsp  parch    fare\n",
       "885         0       3  female  39.0      0      5  29.125\n",
       "886         0       2    male  27.0      0      0  13.000\n",
       "887         1       1  female  19.0      0      0  30.000\n",
       "889         1       1    male  26.0      0      0  30.000\n",
       "890         0       3    male  32.0      0      0   7.750"
      ]
     },
     "execution_count": 12,
     "metadata": {},
     "output_type": "execute_result"
    }
   ],
   "source": [
    "# 데이터 불러오기\n",
    "\n",
    "import seaborn as sns\n",
    "titanic = sns.load_dataset('titanic')\n",
    "titanic = titanic.iloc[:,0:7]\n",
    "titanic.dropna(axis=0, inplace = True)\n",
    "titanic.tail()"
   ]
  },
  {
   "cell_type": "code",
   "execution_count": 34,
   "metadata": {},
   "outputs": [
    {
     "name": "stdout",
     "output_type": "stream",
     "text": [
      "\n",
      "* 공분산\n",
      "\n",
      "[[ 0.2415328  -0.14816474]\n",
      " [-0.14816474  0.70266283]]\n",
      "[[  0.2415328   -0.5512961 ]\n",
      " [ -0.5512961  211.01912475]]\n"
     ]
    },
    {
     "data": {
      "text/html": [
       "<div>\n",
       "<style scoped>\n",
       "    .dataframe tbody tr th:only-of-type {\n",
       "        vertical-align: middle;\n",
       "    }\n",
       "\n",
       "    .dataframe tbody tr th {\n",
       "        vertical-align: top;\n",
       "    }\n",
       "\n",
       "    .dataframe thead th {\n",
       "        text-align: right;\n",
       "    }\n",
       "</style>\n",
       "<table border=\"1\" class=\"dataframe\">\n",
       "  <thead>\n",
       "    <tr style=\"text-align: right;\">\n",
       "      <th></th>\n",
       "      <th>survived</th>\n",
       "      <th>pclass</th>\n",
       "      <th>age</th>\n",
       "      <th>sibsp</th>\n",
       "      <th>parch</th>\n",
       "      <th>fare</th>\n",
       "    </tr>\n",
       "  </thead>\n",
       "  <tbody>\n",
       "    <tr>\n",
       "      <th>survived</th>\n",
       "      <td>0.241533</td>\n",
       "      <td>-0.148165</td>\n",
       "      <td>-0.551296</td>\n",
       "      <td>-0.007932</td>\n",
       "      <td>0.039133</td>\n",
       "      <td>6.974923</td>\n",
       "    </tr>\n",
       "    <tr>\n",
       "      <th>pclass</th>\n",
       "      <td>-0.148165</td>\n",
       "      <td>0.702663</td>\n",
       "      <td>-4.496004</td>\n",
       "      <td>0.052412</td>\n",
       "      <td>0.018370</td>\n",
       "      <td>-24.583138</td>\n",
       "    </tr>\n",
       "    <tr>\n",
       "      <th>age</th>\n",
       "      <td>-0.551296</td>\n",
       "      <td>-4.496004</td>\n",
       "      <td>211.019125</td>\n",
       "      <td>-4.163334</td>\n",
       "      <td>-2.344191</td>\n",
       "      <td>73.849030</td>\n",
       "    </tr>\n",
       "    <tr>\n",
       "      <th>sibsp</th>\n",
       "      <td>-0.007932</td>\n",
       "      <td>0.052412</td>\n",
       "      <td>-4.163334</td>\n",
       "      <td>0.864497</td>\n",
       "      <td>0.304513</td>\n",
       "      <td>6.806212</td>\n",
       "    </tr>\n",
       "    <tr>\n",
       "      <th>parch</th>\n",
       "      <td>0.039133</td>\n",
       "      <td>0.018370</td>\n",
       "      <td>-2.344191</td>\n",
       "      <td>0.304513</td>\n",
       "      <td>0.728103</td>\n",
       "      <td>9.262176</td>\n",
       "    </tr>\n",
       "    <tr>\n",
       "      <th>fare</th>\n",
       "      <td>6.974923</td>\n",
       "      <td>-24.583138</td>\n",
       "      <td>73.849030</td>\n",
       "      <td>6.806212</td>\n",
       "      <td>9.262176</td>\n",
       "      <td>2800.413100</td>\n",
       "    </tr>\n",
       "  </tbody>\n",
       "</table>\n",
       "</div>"
      ],
      "text/plain": [
       "          survived     pclass         age     sibsp     parch         fare\n",
       "survived  0.241533  -0.148165   -0.551296 -0.007932  0.039133     6.974923\n",
       "pclass   -0.148165   0.702663   -4.496004  0.052412  0.018370   -24.583138\n",
       "age      -0.551296  -4.496004  211.019125 -4.163334 -2.344191    73.849030\n",
       "sibsp    -0.007932   0.052412   -4.163334  0.864497  0.304513     6.806212\n",
       "parch     0.039133   0.018370   -2.344191  0.304513  0.728103     9.262176\n",
       "fare      6.974923 -24.583138   73.849030  6.806212  9.262176  2800.413100"
      ]
     },
     "execution_count": 34,
     "metadata": {},
     "output_type": "execute_result"
    }
   ],
   "source": [
    "# 공분산\n",
    "import numpy as np \n",
    "\n",
    "print('\\n* 공분산')\n",
    "print('')\n",
    "print(np.cov(titanic.survived, titanic.pclass))\n",
    "print(np.cov(titanic.survived, titanic.age))\n",
    "\n",
    "titanic.cov()"
   ]
  },
  {
   "cell_type": "markdown",
   "metadata": {},
   "source": [
    "=> 사실, survived와 pclass도 상관성이 있지만, 값의 크기가 차이나기 때문에 훨씬 낮은 공분산을 가진다."
   ]
  },
  {
   "cell_type": "markdown",
   "metadata": {},
   "source": [
    "---"
   ]
  },
  {
   "cell_type": "markdown",
   "metadata": {},
   "source": [
    "### 상관계수 확인(피어슨, 스피어만, 켄달)"
   ]
  },
  {
   "cell_type": "code",
   "execution_count": 14,
   "metadata": {},
   "outputs": [
    {
     "data": {
      "text/html": [
       "<div>\n",
       "<style scoped>\n",
       "    .dataframe tbody tr th:only-of-type {\n",
       "        vertical-align: middle;\n",
       "    }\n",
       "\n",
       "    .dataframe tbody tr th {\n",
       "        vertical-align: top;\n",
       "    }\n",
       "\n",
       "    .dataframe thead th {\n",
       "        text-align: right;\n",
       "    }\n",
       "</style>\n",
       "<table border=\"1\" class=\"dataframe\">\n",
       "  <thead>\n",
       "    <tr style=\"text-align: right;\">\n",
       "      <th></th>\n",
       "      <th>survived</th>\n",
       "      <th>pclass</th>\n",
       "      <th>age</th>\n",
       "      <th>sibsp</th>\n",
       "      <th>parch</th>\n",
       "      <th>fare</th>\n",
       "    </tr>\n",
       "  </thead>\n",
       "  <tbody>\n",
       "    <tr>\n",
       "      <th>survived</th>\n",
       "      <td>1.000000</td>\n",
       "      <td>-0.359653</td>\n",
       "      <td>-0.077221</td>\n",
       "      <td>-0.017358</td>\n",
       "      <td>0.093317</td>\n",
       "      <td>0.268189</td>\n",
       "    </tr>\n",
       "    <tr>\n",
       "      <th>pclass</th>\n",
       "      <td>-0.359653</td>\n",
       "      <td>1.000000</td>\n",
       "      <td>-0.369226</td>\n",
       "      <td>0.067247</td>\n",
       "      <td>0.025683</td>\n",
       "      <td>-0.554182</td>\n",
       "    </tr>\n",
       "    <tr>\n",
       "      <th>age</th>\n",
       "      <td>-0.077221</td>\n",
       "      <td>-0.369226</td>\n",
       "      <td>1.000000</td>\n",
       "      <td>-0.308247</td>\n",
       "      <td>-0.189119</td>\n",
       "      <td>0.096067</td>\n",
       "    </tr>\n",
       "    <tr>\n",
       "      <th>sibsp</th>\n",
       "      <td>-0.017358</td>\n",
       "      <td>0.067247</td>\n",
       "      <td>-0.308247</td>\n",
       "      <td>1.000000</td>\n",
       "      <td>0.383820</td>\n",
       "      <td>0.138329</td>\n",
       "    </tr>\n",
       "    <tr>\n",
       "      <th>parch</th>\n",
       "      <td>0.093317</td>\n",
       "      <td>0.025683</td>\n",
       "      <td>-0.189119</td>\n",
       "      <td>0.383820</td>\n",
       "      <td>1.000000</td>\n",
       "      <td>0.205119</td>\n",
       "    </tr>\n",
       "    <tr>\n",
       "      <th>fare</th>\n",
       "      <td>0.268189</td>\n",
       "      <td>-0.554182</td>\n",
       "      <td>0.096067</td>\n",
       "      <td>0.138329</td>\n",
       "      <td>0.205119</td>\n",
       "      <td>1.000000</td>\n",
       "    </tr>\n",
       "  </tbody>\n",
       "</table>\n",
       "</div>"
      ],
      "text/plain": [
       "          survived    pclass       age     sibsp     parch      fare\n",
       "survived  1.000000 -0.359653 -0.077221 -0.017358  0.093317  0.268189\n",
       "pclass   -0.359653  1.000000 -0.369226  0.067247  0.025683 -0.554182\n",
       "age      -0.077221 -0.369226  1.000000 -0.308247 -0.189119  0.096067\n",
       "sibsp    -0.017358  0.067247 -0.308247  1.000000  0.383820  0.138329\n",
       "parch     0.093317  0.025683 -0.189119  0.383820  1.000000  0.205119\n",
       "fare      0.268189 -0.554182  0.096067  0.138329  0.205119  1.000000"
      ]
     },
     "execution_count": 14,
     "metadata": {},
     "output_type": "execute_result"
    }
   ],
   "source": [
    "titanic.corr(method='pearson')"
   ]
  },
  {
   "cell_type": "code",
   "execution_count": 17,
   "metadata": {},
   "outputs": [
    {
     "data": {
      "text/html": [
       "<div>\n",
       "<style scoped>\n",
       "    .dataframe tbody tr th:only-of-type {\n",
       "        vertical-align: middle;\n",
       "    }\n",
       "\n",
       "    .dataframe tbody tr th {\n",
       "        vertical-align: top;\n",
       "    }\n",
       "\n",
       "    .dataframe thead th {\n",
       "        text-align: right;\n",
       "    }\n",
       "</style>\n",
       "<table border=\"1\" class=\"dataframe\">\n",
       "  <thead>\n",
       "    <tr style=\"text-align: right;\">\n",
       "      <th></th>\n",
       "      <th>survived</th>\n",
       "      <th>pclass</th>\n",
       "      <th>age</th>\n",
       "      <th>sibsp</th>\n",
       "      <th>parch</th>\n",
       "      <th>fare</th>\n",
       "    </tr>\n",
       "  </thead>\n",
       "  <tbody>\n",
       "    <tr>\n",
       "      <th>survived</th>\n",
       "      <td>1.000000</td>\n",
       "      <td>-0.360656</td>\n",
       "      <td>-0.052565</td>\n",
       "      <td>0.073244</td>\n",
       "      <td>0.156444</td>\n",
       "      <td>0.339027</td>\n",
       "    </tr>\n",
       "    <tr>\n",
       "      <th>pclass</th>\n",
       "      <td>-0.360656</td>\n",
       "      <td>1.000000</td>\n",
       "      <td>-0.361666</td>\n",
       "      <td>-0.050959</td>\n",
       "      <td>-0.018489</td>\n",
       "      <td>-0.730578</td>\n",
       "    </tr>\n",
       "    <tr>\n",
       "      <th>age</th>\n",
       "      <td>-0.052565</td>\n",
       "      <td>-0.361666</td>\n",
       "      <td>1.000000</td>\n",
       "      <td>-0.182061</td>\n",
       "      <td>-0.254212</td>\n",
       "      <td>0.135051</td>\n",
       "    </tr>\n",
       "    <tr>\n",
       "      <th>sibsp</th>\n",
       "      <td>0.073244</td>\n",
       "      <td>-0.050959</td>\n",
       "      <td>-0.182061</td>\n",
       "      <td>1.000000</td>\n",
       "      <td>0.426955</td>\n",
       "      <td>0.422994</td>\n",
       "    </tr>\n",
       "    <tr>\n",
       "      <th>parch</th>\n",
       "      <td>0.156444</td>\n",
       "      <td>-0.018489</td>\n",
       "      <td>-0.254212</td>\n",
       "      <td>0.426955</td>\n",
       "      <td>1.000000</td>\n",
       "      <td>0.407150</td>\n",
       "    </tr>\n",
       "    <tr>\n",
       "      <th>fare</th>\n",
       "      <td>0.339027</td>\n",
       "      <td>-0.730578</td>\n",
       "      <td>0.135051</td>\n",
       "      <td>0.422994</td>\n",
       "      <td>0.407150</td>\n",
       "      <td>1.000000</td>\n",
       "    </tr>\n",
       "  </tbody>\n",
       "</table>\n",
       "</div>"
      ],
      "text/plain": [
       "          survived    pclass       age     sibsp     parch      fare\n",
       "survived  1.000000 -0.360656 -0.052565  0.073244  0.156444  0.339027\n",
       "pclass   -0.360656  1.000000 -0.361666 -0.050959 -0.018489 -0.730578\n",
       "age      -0.052565 -0.361666  1.000000 -0.182061 -0.254212  0.135051\n",
       "sibsp     0.073244 -0.050959 -0.182061  1.000000  0.426955  0.422994\n",
       "parch     0.156444 -0.018489 -0.254212  0.426955  1.000000  0.407150\n",
       "fare      0.339027 -0.730578  0.135051  0.422994  0.407150  1.000000"
      ]
     },
     "execution_count": 17,
     "metadata": {},
     "output_type": "execute_result"
    }
   ],
   "source": [
    "titanic.corr(method='spearman')"
   ]
  },
  {
   "cell_type": "code",
   "execution_count": 18,
   "metadata": {},
   "outputs": [
    {
     "data": {
      "text/html": [
       "<div>\n",
       "<style scoped>\n",
       "    .dataframe tbody tr th:only-of-type {\n",
       "        vertical-align: middle;\n",
       "    }\n",
       "\n",
       "    .dataframe tbody tr th {\n",
       "        vertical-align: top;\n",
       "    }\n",
       "\n",
       "    .dataframe thead th {\n",
       "        text-align: right;\n",
       "    }\n",
       "</style>\n",
       "<table border=\"1\" class=\"dataframe\">\n",
       "  <thead>\n",
       "    <tr style=\"text-align: right;\">\n",
       "      <th></th>\n",
       "      <th>survived</th>\n",
       "      <th>pclass</th>\n",
       "      <th>age</th>\n",
       "      <th>sibsp</th>\n",
       "      <th>parch</th>\n",
       "      <th>fare</th>\n",
       "    </tr>\n",
       "  </thead>\n",
       "  <tbody>\n",
       "    <tr>\n",
       "      <th>survived</th>\n",
       "      <td>1.000000</td>\n",
       "      <td>-0.342105</td>\n",
       "      <td>-0.043385</td>\n",
       "      <td>0.070775</td>\n",
       "      <td>0.150952</td>\n",
       "      <td>0.278785</td>\n",
       "    </tr>\n",
       "    <tr>\n",
       "      <th>pclass</th>\n",
       "      <td>-0.342105</td>\n",
       "      <td>1.000000</td>\n",
       "      <td>-0.286081</td>\n",
       "      <td>-0.046724</td>\n",
       "      <td>-0.016988</td>\n",
       "      <td>-0.611963</td>\n",
       "    </tr>\n",
       "    <tr>\n",
       "      <th>age</th>\n",
       "      <td>-0.043385</td>\n",
       "      <td>-0.286081</td>\n",
       "      <td>1.000000</td>\n",
       "      <td>-0.142746</td>\n",
       "      <td>-0.200112</td>\n",
       "      <td>0.093249</td>\n",
       "    </tr>\n",
       "    <tr>\n",
       "      <th>sibsp</th>\n",
       "      <td>0.070775</td>\n",
       "      <td>-0.046724</td>\n",
       "      <td>-0.142746</td>\n",
       "      <td>1.000000</td>\n",
       "      <td>0.401108</td>\n",
       "      <td>0.336681</td>\n",
       "    </tr>\n",
       "    <tr>\n",
       "      <th>parch</th>\n",
       "      <td>0.150952</td>\n",
       "      <td>-0.016988</td>\n",
       "      <td>-0.200112</td>\n",
       "      <td>0.401108</td>\n",
       "      <td>1.000000</td>\n",
       "      <td>0.326439</td>\n",
       "    </tr>\n",
       "    <tr>\n",
       "      <th>fare</th>\n",
       "      <td>0.278785</td>\n",
       "      <td>-0.611963</td>\n",
       "      <td>0.093249</td>\n",
       "      <td>0.336681</td>\n",
       "      <td>0.326439</td>\n",
       "      <td>1.000000</td>\n",
       "    </tr>\n",
       "  </tbody>\n",
       "</table>\n",
       "</div>"
      ],
      "text/plain": [
       "          survived    pclass       age     sibsp     parch      fare\n",
       "survived  1.000000 -0.342105 -0.043385  0.070775  0.150952  0.278785\n",
       "pclass   -0.342105  1.000000 -0.286081 -0.046724 -0.016988 -0.611963\n",
       "age      -0.043385 -0.286081  1.000000 -0.142746 -0.200112  0.093249\n",
       "sibsp     0.070775 -0.046724 -0.142746  1.000000  0.401108  0.336681\n",
       "parch     0.150952 -0.016988 -0.200112  0.401108  1.000000  0.326439\n",
       "fare      0.278785 -0.611963  0.093249  0.336681  0.326439  1.000000"
      ]
     },
     "execution_count": 18,
     "metadata": {},
     "output_type": "execute_result"
    }
   ],
   "source": [
    "titanic.corr(method='kendall')"
   ]
  },
  {
   "cell_type": "markdown",
   "metadata": {},
   "source": [
    "- 시각화"
   ]
  },
  {
   "cell_type": "code",
   "execution_count": 42,
   "metadata": {},
   "outputs": [
    {
     "data": {
      "text/plain": [
       "<Figure size 1008x576 with 0 Axes>"
      ]
     },
     "metadata": {},
     "output_type": "display_data"
    },
    {
     "data": {
      "image/png": "[encoded data removed]",
      "text/plain": [
       "<Figure size 1080x1080 with 42 Axes>"
      ]
     },
     "metadata": {
      "needs_background": "light"
     },
     "output_type": "display_data"
    }
   ],
   "source": [
    "import seaborn as sns\n",
    "plt.figure(figsize=(14,8))\n",
    "sns.pairplot(data = titanic.corr())\n",
    "plt.show()"
   ]
  },
  {
   "cell_type": "code",
   "execution_count": 36,
   "metadata": {},
   "outputs": [
    {
     "data": {
      "image/png": "[encoded data removed]",
      "text/plain": [
       "<Figure size 1008x576 with 2 Axes>"
      ]
     },
     "metadata": {
      "needs_background": "light"
     },
     "output_type": "display_data"
    }
   ],
   "source": [
    "import seaborn as sns\n",
    "plt.figure(figsize=(14, 8))\n",
    "sns.heatmap(titanic.corr(method='pearson'),\n",
    "           annot = True, #실제 값 화면에 나타내기\n",
    "           cmap='RdYlGn', #색상\n",
    "           vmin = -1, vmax=1 , #컬러차트 영역 -1 ~ +1\n",
    "          )\n",
    "plt.show()"
   ]
  },
  {
   "cell_type": "markdown",
   "metadata": {},
   "source": [
    "---"
   ]
  },
  {
   "cell_type": "markdown",
   "metadata": {},
   "source": [
    "### survived와 pclass의 상관분석하고 검정결과 해석\n",
    "- 가설\n",
    "    - 귀무가설 : 변수1과 변수2 간에는 상관관계가 없다. (상관계수=0)\n",
    "    - 대립가설 : 변수1과 변수2 간에는 상관관계가 있다. (상관계수!=0)"
   ]
  },
  {
   "cell_type": "code",
   "execution_count": 26,
   "metadata": {
    "scrolled": true
   },
   "outputs": [
    {
     "data": {
      "text/plain": [
       "(-0.35965268208684575, 3.1621035416647744e-23)"
      ]
     },
     "execution_count": 26,
     "metadata": {},
     "output_type": "execute_result"
    }
   ],
   "source": [
    "import scipy.stats as stats\n",
    "\n",
    "# 피어슨 상관계수 검정\n",
    "corr = stats.pearsonr(titanic.survived, titanic.pclass)\n",
    "corr #(상관계수, p-value)"
   ]
  },
  {
   "cell_type": "code",
   "execution_count": 9,
   "metadata": {},
   "outputs": [
    {
     "data": {
      "text/plain": [
       "SpearmanrResult(correlation=-0.36065641974949025, pvalue=2.346106779238448e-23)"
      ]
     },
     "execution_count": 9,
     "metadata": {},
     "output_type": "execute_result"
    }
   ],
   "source": [
    "# 스피어만 상관계수 검정\n",
    "rho = stats.spearmanr(titanic.survived, titanic.pclass)\n",
    "rho"
   ]
  },
  {
   "cell_type": "code",
   "execution_count": 10,
   "metadata": {},
   "outputs": [
    {
     "data": {
      "text/plain": [
       "KendalltauResult(correlation=-0.3421051759132117, pvalue=5.957314337487773e-22)"
      ]
     },
     "execution_count": 10,
     "metadata": {},
     "output_type": "execute_result"
    }
   ],
   "source": [
    "# 캔달 상관계수 검정\n",
    "tau = stats.kendalltau(titanic.survived, titanic.pclass)\n",
    "tau"
   ]
  },
  {
   "cell_type": "markdown",
   "metadata": {},
   "source": [
    "=> -0.35정도로 약한 음의 상관관계가 있다고 볼 수 있다.\n",
    "\n",
    "=> 세 결과 모두 p-value가 0.05보다 작음으로 귀무가설을 기각한다.즉, survived와 pclass 변수 간에는 상관관계가 있다."
   ]
  }
 ],
 "metadata": {
  "kernelspec": {
   "display_name": "Python 3",
   "language": "python",
   "name": "python3"
  },
  "language_info": {
   "codemirror_mode": {
    "name": "ipython",
    "version": 3
   },
   "file_extension": ".py",
   "mimetype": "text/x-python",
   "name": "python",
   "nbconvert_exporter": "python",
   "pygments_lexer": "ipython3",
   "version": "3.8.5"
  }
 },
 "nbformat": 4,
 "nbformat_minor": 4
}
