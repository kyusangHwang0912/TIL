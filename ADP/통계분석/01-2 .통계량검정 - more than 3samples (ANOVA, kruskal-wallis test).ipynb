{
 "cells": [
  {
   "cell_type": "markdown",
   "metadata": {},
   "source": [
    "## 06. 통계량 검정 - more than 3samples\n",
    "- 모수 : ANOVA\n",
    "- 비모수 : kruskal-walis test"
   ]
  },
  {
   "cell_type": "markdown",
   "metadata": {},
   "source": [
    "### 06-1. ANOVA(분산분석)"
   ]
  },
  {
   "cell_type": "markdown",
   "metadata": {},
   "source": [
    "![image](https://user-images.githubusercontent.com/80219821/131296259-5cbc7143-66f0-4fa9-85da-e89c53ad2d07.png)"
   ]
  },
  {
   "cell_type": "markdown",
   "metadata": {},
   "source": [
    "#### 06-1-1. One-way ANOVA (일원배치 분산분석)\n",
    "- 하나의 범주형 변수의 영향을 알아보기 위해 사용\n",
    "- 모집단의 수는 제한 없으며, 각 표본의 수는 달라도 된다. \n",
    "- 가정\n",
    "    - 각 집단의 측정치는 서로 독립적이며, 정규분포를 따른다.\n",
    "    - 각 집단 측정치의 분산은 값다. (등분산)\n",
    "- 가설\n",
    "    - 귀무가설 : k집단간 모평균에는 차이가 없음\n",
    "    - 대립가설 : k집단간 모평균에는 차이가 있음"
   ]
  },
  {
   "cell_type": "code",
   "execution_count": 9,
   "metadata": {},
   "outputs": [
    {
     "name": "stdout",
     "output_type": "stream",
     "text": [
      "   no  method  survey  score\n",
      "0   1       1       1     72\n",
      "1   2       3       1     87\n",
      "2   3       2       1     78\n",
      "3   4       1       1     54\n",
      "4   5       2       0     84\n",
      "            no     method     survey       score\n",
      "count  80.0000  80.000000  80.000000   80.000000\n",
      "mean   40.5000   1.962500   0.650000   78.212500\n",
      "std    23.2379   0.802587   0.479979   64.886404\n",
      "min     1.0000   1.000000   0.000000   33.000000\n",
      "25%    20.7500   1.000000   0.000000   58.000000\n",
      "50%    40.5000   2.000000   1.000000   65.000000\n",
      "75%    60.2500   3.000000   1.000000   79.500000\n",
      "max    80.0000   3.000000   1.000000  500.000000\n"
     ]
    }
   ],
   "source": [
    "# 데이터 불러오기\n",
    "\n",
    "import pandas as pd\n",
    "data = pd.read_csv(\"https://raw.githubusercontent.com/wjddyd66/R/master/Data/three_sample.csv\")\n",
    "print(data.head())\n",
    "print(data.describe())"
   ]
  },
  {
   "cell_type": "code",
   "execution_count": 10,
   "metadata": {},
   "outputs": [
    {
     "data": {
      "image/png": "[encoded data removed]",
      "text/plain": [
       "<Figure size 1080x432 with 2 Axes>"
      ]
     },
     "metadata": {
      "needs_background": "light"
     },
     "output_type": "display_data"
    }
   ],
   "source": [
    "# 시각화로 데이터 확인 => 이상치 존재\n",
    "\n",
    "import seaborn as sns\n",
    "import matplotlib.pyplot as plt\n",
    "f, ax = plt.subplots(1,2, figsize = (15,6))\n",
    "ax[0].boxplot(data.score)\n",
    "ax[0].set_title('boxplot')\n",
    "ax[1].hist(data.score)\n",
    "ax[1].set_ylim(0,100)\n",
    "ax[1].set_title('histogram')\n",
    "plt.show()"
   ]
  },
  {
   "cell_type": "code",
   "execution_count": 11,
   "metadata": {},
   "outputs": [
    {
     "name": "stdout",
     "output_type": "stream",
     "text": [
      "80\n",
      "78\n"
     ]
    },
    {
     "data": {
      "image/png": "[encoded data removed]",
      "text/plain": [
       "<Figure size 432x288 with 1 Axes>"
      ]
     },
     "metadata": {
      "needs_background": "light"
     },
     "output_type": "display_data"
    }
   ],
   "source": [
    "# 이상치 제거\n",
    "print(len(data))\n",
    "data = data.query(\"score <= 100\")\n",
    "print(len(data))\n",
    "plt.hist(data.score)\n",
    "plt.show()"
   ]
  },
  {
   "cell_type": "code",
   "execution_count": 18,
   "metadata": {},
   "outputs": [
    {
     "name": "stdout",
     "output_type": "stream",
     "text": [
      "ShapiroResult(statistic=0.9447869658470154, pvalue=0.1746741086244583)\n",
      "ShapiroResult(statistic=0.9591007232666016, pvalue=0.33189886808395386)\n",
      "ShapiroResult(statistic=0.9333066940307617, pvalue=0.1155870258808136)\n"
     ]
    }
   ],
   "source": [
    "# 정규성 확인\n",
    "\n",
    "from scipy.stats import shapiro\n",
    "\n",
    "print(shapiro(data[data['method']==1].score))\n",
    "print(shapiro(data[data['method']==2].score))\n",
    "print(shapiro(data[data['method']==3].score))"
   ]
  },
  {
   "cell_type": "code",
   "execution_count": 14,
   "metadata": {},
   "outputs": [
    {
     "data": {
      "text/plain": [
       "BartlettResult(statistic=3.760993476436484, pvalue=0.15251432724222921)"
      ]
     },
     "execution_count": 14,
     "metadata": {},
     "output_type": "execute_result"
    }
   ],
   "source": [
    "# 각 종속변수 데이터들의 등분산성 확인\n",
    "\n",
    "import numpy as np\n",
    "from scipy.stats import bartlett, levene\n",
    "\n",
    "data_method1 = np.array(data[data['method']==1].score)\n",
    "data_method2 = np.array(data[data['method']==2].score)\n",
    "data_method3 = np.array(data[data['method']==3].score)\n",
    "\n",
    "bartlett(data_method1,data_method2,data_method3)"
   ]
  },
  {
   "cell_type": "code",
   "execution_count": 28,
   "metadata": {},
   "outputs": [
    {
     "name": "stdout",
     "output_type": "stream",
     "text": [
      "                     df        sum_sq     mean_sq         F    PR(>F)\n",
      "C(data['method'])   2.0     28.907967   14.453984  0.062312  0.939639\n",
      "Residual           75.0  17397.207418  231.962766       NaN       NaN\n",
      "------------------------------------------------------------------------------------------\n",
      "67.38461538461539\n",
      "68.35714285714286\n",
      "68.875\n"
     ]
    }
   ],
   "source": [
    "# ANOVA 분석\n",
    "\n",
    "from statsmodels.stats.anova import anova_lm\n",
    "import statsmodels.formula.api as smf\n",
    "\n",
    "reg = smf.ols(\"data['score']~ C(data['method'])\",data=data).fit()\n",
    "result = anova_lm(reg)\n",
    "\n",
    "print(result)\n",
    "print('-'*90)\n",
    "print(np.mean(data[data['method']==1].score))\n",
    "print(np.mean(data[data['method']==2].score))\n",
    "print(np.mean(data[data['method']==3].score))"
   ]
  },
  {
   "cell_type": "markdown",
   "metadata": {},
   "source": [
    "=> p-value가 0.05 보다 크므로 귀무가설을 기각하지 못한다.\n",
    "\n",
    "즉, 평균은 서로 같다고 볼 수 있다."
   ]
  },
  {
   "cell_type": "markdown",
   "metadata": {},
   "source": [
    "---"
   ]
  },
  {
   "cell_type": "markdown",
   "metadata": {},
   "source": [
    "#### 06-1-2. two-way ANOVA (이원배치 분산분석)\n",
    "- 종속변수에 대해 두개의 범주형 변수 A,B의 영향을 알아보기 위해 사용\n",
    "- 두 독립변수 A,B 사이에 상관관계가 있는지를 살펴보는 교호작용에 대한 검증이 필요\n",
    "- 가정\n",
    "    - 각 집단 측정치의 분포는 정규분포이며, 분산은 같다(등분산성)\n",
    "- 주효과와 교호작용 효과에 대한 검정 수행\n",
    "    - 주효과 : 독립변수가 종속변수에 미치는 효과\n",
    "    - 교호작용효과 : 여러 독립변수의 조합이 종속변수에 주는 효과\n",
    "- 가설\n",
    "    - 귀무가설 : a와 b 변수에 따른 종속변수의 값에 차이 없음. a와 b 변수의 상호작용 효과가 없음\n",
    "    - 대립가설 : a와 b 변수에 따른 종속변수의 값에 차이 있음. a와 b 변수의 상호작용 효과가 있음"
   ]
  },
  {
   "cell_type": "code",
   "execution_count": 29,
   "metadata": {},
   "outputs": [
    {
     "data": {
      "text/html": [
       "<div>\n",
       "<style scoped>\n",
       "    .dataframe tbody tr th:only-of-type {\n",
       "        vertical-align: middle;\n",
       "    }\n",
       "\n",
       "    .dataframe tbody tr th {\n",
       "        vertical-align: top;\n",
       "    }\n",
       "\n",
       "    .dataframe thead th {\n",
       "        text-align: right;\n",
       "    }\n",
       "</style>\n",
       "<table border=\"1\" class=\"dataframe\">\n",
       "  <thead>\n",
       "    <tr style=\"text-align: right;\">\n",
       "      <th></th>\n",
       "      <th>cyl</th>\n",
       "      <th>am</th>\n",
       "      <th>mpg</th>\n",
       "    </tr>\n",
       "  </thead>\n",
       "  <tbody>\n",
       "    <tr>\n",
       "      <th>Mazda RX4</th>\n",
       "      <td>6</td>\n",
       "      <td>1</td>\n",
       "      <td>21.0</td>\n",
       "    </tr>\n",
       "    <tr>\n",
       "      <th>Mazda RX4 Wag</th>\n",
       "      <td>6</td>\n",
       "      <td>1</td>\n",
       "      <td>21.0</td>\n",
       "    </tr>\n",
       "    <tr>\n",
       "      <th>Datsun 710</th>\n",
       "      <td>4</td>\n",
       "      <td>1</td>\n",
       "      <td>22.8</td>\n",
       "    </tr>\n",
       "    <tr>\n",
       "      <th>Hornet 4 Drive</th>\n",
       "      <td>6</td>\n",
       "      <td>0</td>\n",
       "      <td>21.4</td>\n",
       "    </tr>\n",
       "    <tr>\n",
       "      <th>Hornet Sportabout</th>\n",
       "      <td>8</td>\n",
       "      <td>0</td>\n",
       "      <td>18.7</td>\n",
       "    </tr>\n",
       "  </tbody>\n",
       "</table>\n",
       "</div>"
      ],
      "text/plain": [
       "                   cyl  am   mpg\n",
       "Mazda RX4            6   1  21.0\n",
       "Mazda RX4 Wag        6   1  21.0\n",
       "Datsun 710           4   1  22.8\n",
       "Hornet 4 Drive       6   0  21.4\n",
       "Hornet Sportabout    8   0  18.7"
      ]
     },
     "execution_count": 29,
     "metadata": {},
     "output_type": "execute_result"
    }
   ],
   "source": [
    "# 데이터 불러와서, 변수 3개 뽑아내기 (독립2, 종속1)\n",
    "\n",
    "mtcars = pd.read_csv('https://t1.daumcdn.net/cfile/blog/99F8633E5E8ECB130D?download' ,index_col=0)\n",
    "\n",
    "mtcars_sam = mtcars.loc[:,['cyl','am','mpg']]\n",
    "mtcars_sam.head()"
   ]
  },
  {
   "cell_type": "code",
   "execution_count": 31,
   "metadata": {},
   "outputs": [
    {
     "data": {
      "text/html": [
       "<div>\n",
       "<style scoped>\n",
       "    .dataframe tbody tr th:only-of-type {\n",
       "        vertical-align: middle;\n",
       "    }\n",
       "\n",
       "    .dataframe tbody tr th {\n",
       "        vertical-align: top;\n",
       "    }\n",
       "\n",
       "    .dataframe thead th {\n",
       "        text-align: right;\n",
       "    }\n",
       "</style>\n",
       "<table border=\"1\" class=\"dataframe\">\n",
       "  <thead>\n",
       "    <tr style=\"text-align: right;\">\n",
       "      <th></th>\n",
       "      <th>df</th>\n",
       "      <th>sum_sq</th>\n",
       "      <th>mean_sq</th>\n",
       "      <th>F</th>\n",
       "      <th>PR(&gt;F)</th>\n",
       "    </tr>\n",
       "  </thead>\n",
       "  <tbody>\n",
       "    <tr>\n",
       "      <th>C(cyl)</th>\n",
       "      <td>2.0</td>\n",
       "      <td>824.784590</td>\n",
       "      <td>412.392295</td>\n",
       "      <td>44.851657</td>\n",
       "      <td>3.725274e-09</td>\n",
       "    </tr>\n",
       "    <tr>\n",
       "      <th>C(am)</th>\n",
       "      <td>1.0</td>\n",
       "      <td>36.766919</td>\n",
       "      <td>36.766919</td>\n",
       "      <td>3.998759</td>\n",
       "      <td>5.608373e-02</td>\n",
       "    </tr>\n",
       "    <tr>\n",
       "      <th>C(cyl):C(am)</th>\n",
       "      <td>2.0</td>\n",
       "      <td>25.436511</td>\n",
       "      <td>12.718256</td>\n",
       "      <td>1.383233</td>\n",
       "      <td>2.686140e-01</td>\n",
       "    </tr>\n",
       "    <tr>\n",
       "      <th>Residual</th>\n",
       "      <td>26.0</td>\n",
       "      <td>239.059167</td>\n",
       "      <td>9.194583</td>\n",
       "      <td>NaN</td>\n",
       "      <td>NaN</td>\n",
       "    </tr>\n",
       "  </tbody>\n",
       "</table>\n",
       "</div>"
      ],
      "text/plain": [
       "                df      sum_sq     mean_sq          F        PR(>F)\n",
       "C(cyl)         2.0  824.784590  412.392295  44.851657  3.725274e-09\n",
       "C(am)          1.0   36.766919   36.766919   3.998759  5.608373e-02\n",
       "C(cyl):C(am)   2.0   25.436511   12.718256   1.383233  2.686140e-01\n",
       "Residual      26.0  239.059167    9.194583        NaN           NaN"
      ]
     },
     "execution_count": 31,
     "metadata": {},
     "output_type": "execute_result"
    }
   ],
   "source": [
    "# 이원배치 분산분석\n",
    "\n",
    "from statsmodels.stats.anova import anova_lm\n",
    "import statsmodels.formula.api as smf\n",
    "\n",
    "formula = 'mpg~ C(cyl) + C(am) + C(cyl):C(am)'\n",
    "lm = smf.ols(formula, data=mtcars_sam).fit()\n",
    "anova_lm(lm)"
   ]
  },
  {
   "cell_type": "markdown",
   "metadata": {},
   "source": [
    "=> cyl 변수의 p-value는 0.05보다 작다. 즉, cyl(실린더개수)에 따른 주행거리간 차이가 존재하지 않는다는 귀무가설을 기각한다.\n",
    "\n",
    "=> am 변수의 p-value는 0.05보다 크다. 즉, am(변속기종류)에 따른 주행거리간 차이가 존재하지 않는다.\n",
    "\n",
    "=> cyl:am(교호작용)dml p-valusms 0.05보다 작다. 즉, cyl과 am의 종류간에는 교호작용이 존재하지 않는다.(상관관계 없음)"
   ]
  },
  {
   "cell_type": "markdown",
   "metadata": {},
   "source": [
    "### @ 독립변수가 3개인 다원배치 분산분석도 마찬가지 방법으로 진행하면 된다!"
   ]
  },
  {
   "cell_type": "markdown",
   "metadata": {},
   "source": [
    "#### 06-1-3. 사후검정\n",
    "- 분산분석때 귀무가설이 기각되어서 세 변수의 평균이 같지 않다는 결론이 나온 데이터가 있다고 할 때 사용\n",
    "- 그때는 사후검정을 통해 어떤 변수들의 관계가 귀무가설을 기각하게 되었는지 알 수 있다."
   ]
  },
  {
   "cell_type": "code",
   "execution_count": 34,
   "metadata": {},
   "outputs": [
    {
     "data": {
      "text/html": [
       "<div>\n",
       "<style scoped>\n",
       "    .dataframe tbody tr th:only-of-type {\n",
       "        vertical-align: middle;\n",
       "    }\n",
       "\n",
       "    .dataframe tbody tr th {\n",
       "        vertical-align: top;\n",
       "    }\n",
       "\n",
       "    .dataframe thead th {\n",
       "        text-align: right;\n",
       "    }\n",
       "</style>\n",
       "<table border=\"1\" class=\"dataframe\">\n",
       "  <thead>\n",
       "    <tr style=\"text-align: right;\">\n",
       "      <th></th>\n",
       "      <th>value</th>\n",
       "      <th>treatment</th>\n",
       "    </tr>\n",
       "  </thead>\n",
       "  <tbody>\n",
       "    <tr>\n",
       "      <th>0</th>\n",
       "      <td>243</td>\n",
       "      <td>1</td>\n",
       "    </tr>\n",
       "    <tr>\n",
       "      <th>1</th>\n",
       "      <td>251</td>\n",
       "      <td>1</td>\n",
       "    </tr>\n",
       "    <tr>\n",
       "      <th>2</th>\n",
       "      <td>275</td>\n",
       "      <td>1</td>\n",
       "    </tr>\n",
       "    <tr>\n",
       "      <th>3</th>\n",
       "      <td>291</td>\n",
       "      <td>1</td>\n",
       "    </tr>\n",
       "    <tr>\n",
       "      <th>4</th>\n",
       "      <td>347</td>\n",
       "      <td>1</td>\n",
       "    </tr>\n",
       "  </tbody>\n",
       "</table>\n",
       "</div>"
      ],
      "text/plain": [
       "   value  treatment\n",
       "0    243          1\n",
       "1    251          1\n",
       "2    275          1\n",
       "3    291          1\n",
       "4    347          1"
      ]
     },
     "execution_count": 34,
     "metadata": {},
     "output_type": "execute_result"
    }
   ],
   "source": [
    "# 데이터 불러오기\n",
    "\n",
    "url = 'https://raw.githubusercontent.com/thomas-haslwanter/statsintro_python/master/ipynb/Data/data_altman/altman_910.txt'\n",
    "data = pd.read_csv(url, delimiter=',', header=None)\n",
    "\n",
    "df = pd.DataFrame(data)\n",
    "df.columns = ['value', 'treatment']\n",
    "df.head()"
   ]
  },
  {
   "cell_type": "code",
   "execution_count": 38,
   "metadata": {},
   "outputs": [
    {
     "data": {
      "text/html": [
       "<div>\n",
       "<style scoped>\n",
       "    .dataframe tbody tr th:only-of-type {\n",
       "        vertical-align: middle;\n",
       "    }\n",
       "\n",
       "    .dataframe tbody tr th {\n",
       "        vertical-align: top;\n",
       "    }\n",
       "\n",
       "    .dataframe thead th {\n",
       "        text-align: right;\n",
       "    }\n",
       "</style>\n",
       "<table border=\"1\" class=\"dataframe\">\n",
       "  <thead>\n",
       "    <tr style=\"text-align: right;\">\n",
       "      <th></th>\n",
       "      <th>df</th>\n",
       "      <th>sum_sq</th>\n",
       "      <th>mean_sq</th>\n",
       "      <th>F</th>\n",
       "      <th>PR(&gt;F)</th>\n",
       "    </tr>\n",
       "  </thead>\n",
       "  <tbody>\n",
       "    <tr>\n",
       "      <th>C(data['treatment'])</th>\n",
       "      <td>2.0</td>\n",
       "      <td>15515.766414</td>\n",
       "      <td>7757.883207</td>\n",
       "      <td>3.711336</td>\n",
       "      <td>0.043589</td>\n",
       "    </tr>\n",
       "    <tr>\n",
       "      <th>Residual</th>\n",
       "      <td>19.0</td>\n",
       "      <td>39716.097222</td>\n",
       "      <td>2090.320906</td>\n",
       "      <td>NaN</td>\n",
       "      <td>NaN</td>\n",
       "    </tr>\n",
       "  </tbody>\n",
       "</table>\n",
       "</div>"
      ],
      "text/plain": [
       "                        df        sum_sq      mean_sq         F    PR(>F)\n",
       "C(data['treatment'])   2.0  15515.766414  7757.883207  3.711336  0.043589\n",
       "Residual              19.0  39716.097222  2090.320906       NaN       NaN"
      ]
     },
     "execution_count": 38,
     "metadata": {},
     "output_type": "execute_result"
    }
   ],
   "source": [
    "# 분산분석 (일원배치분산분석)\n",
    "from statsmodels.stats.anova import anova_lm\n",
    "import statsmodels.formula.api as smf\n",
    "\n",
    "reg = smf.ols(\"data['value']~ C(data['treatment'])\",data=data).fit()\n",
    "result = anova_lm(reg)\n",
    "result"
   ]
  },
  {
   "cell_type": "markdown",
   "metadata": {},
   "source": [
    "=> p-value가 0.05보다 작음으로 귀무가설이 기각된다.\n",
    "\n",
    "즉, k 집단 간 모평균이 모두 같다고 할 수 없다."
   ]
  },
  {
   "cell_type": "code",
   "execution_count": 36,
   "metadata": {
    "scrolled": false
   },
   "outputs": [
    {
     "name": "stdout",
     "output_type": "stream",
     "text": [
      " Multiple Comparison of Means - Tukey HSD, FWER=0.05  \n",
      "======================================================\n",
      "group1 group2 meandiff p-adj    lower    upper  reject\n",
      "------------------------------------------------------\n",
      "     1      2 -60.1806 0.0354 -116.6056 -3.7555   True\n",
      "     1      3  -38.625 0.3217 -104.8246 27.5746  False\n",
      "     2      3  21.5556 0.6706  -43.2141 86.3252  False\n",
      "------------------------------------------------------\n"
     ]
    }
   ],
   "source": [
    "# 사후검정\n",
    "from statsmodels.stats.multicomp import pairwise_tukeyhsd\n",
    "\n",
    "posthoc = pairwise_tukeyhsd(df['value'], df['treatment'], alpha=0.05)\n",
    "\n",
    "print(posthoc)"
   ]
  },
  {
   "cell_type": "markdown",
   "metadata": {},
   "source": [
    "=> 귀무가설이 기각된 2개의 집단 (1,2)의 평균이 다르다는 것을 확인할 수 있다."
   ]
  },
  {
   "cell_type": "markdown",
   "metadata": {},
   "source": [
    "#### 06-1-4. 이항검정\n",
    "- t검정이나 ANOVA는 모두 분포의 평균을 비교하는 가설검정이다. 그러나 만약 범주가 2개로 구성된 자료의 경우 이항검정을 사용해야 한다.\n",
    "    - 예) 성공 or 실패의 범주로 나뉜 경우"
   ]
  },
  {
   "cell_type": "code",
   "execution_count": 39,
   "metadata": {},
   "outputs": [
    {
     "name": "stdout",
     "output_type": "stream",
     "text": [
      "0.21744829320424017\n"
     ]
    }
   ],
   "source": [
    "# scipy의 binom_test 활용\n",
    "\n",
    "from scipy.stats import binom_test\n",
    "\n",
    "pval = binom_test(520, n=1000, p=0.5)\n",
    "print(pval)"
   ]
  },
  {
   "cell_type": "markdown",
   "metadata": {},
   "source": [
    "=> pval의 뜻은 1000번 시도해서 520번 성공했을 때, 기대성공확률이 0.5라고 하는 것이다.\n",
    "\n",
    "=> p-value가 0.05보다 작으면 귀무가설 \"실제성공확률은 기대성공확률과 같다\"를 기각할 수 있다.\n",
    "\n",
    "즉, 귀무가설을 기각하지 함으로 실제성공확률과 기대성공확률이 같지않다고 할 수 없다.\n",
    "\n",
    "::위에서 p-value가 큰 이유는 520/1000은 520과 비슷하기 때문이다."
   ]
  },
  {
   "cell_type": "markdown",
   "metadata": {},
   "source": [
    "---"
   ]
  },
  {
   "cell_type": "markdown",
   "metadata": {},
   "source": [
    "### 06-2 Kruskal Wallis(비모수 검정)\n",
    "- 3개 이상 집단의 중위값 검정"
   ]
  },
  {
   "cell_type": "code",
   "execution_count": 41,
   "metadata": {},
   "outputs": [
    {
     "data": {
      "text/html": [
       "<div>\n",
       "<style scoped>\n",
       "    .dataframe tbody tr th:only-of-type {\n",
       "        vertical-align: middle;\n",
       "    }\n",
       "\n",
       "    .dataframe tbody tr th {\n",
       "        vertical-align: top;\n",
       "    }\n",
       "\n",
       "    .dataframe thead th {\n",
       "        text-align: right;\n",
       "    }\n",
       "</style>\n",
       "<table border=\"1\" class=\"dataframe\">\n",
       "  <thead>\n",
       "    <tr style=\"text-align: right;\">\n",
       "      <th></th>\n",
       "      <th>0</th>\n",
       "      <th>1</th>\n",
       "    </tr>\n",
       "  </thead>\n",
       "  <tbody>\n",
       "    <tr>\n",
       "      <th>0</th>\n",
       "      <td>243</td>\n",
       "      <td>1</td>\n",
       "    </tr>\n",
       "    <tr>\n",
       "      <th>1</th>\n",
       "      <td>251</td>\n",
       "      <td>1</td>\n",
       "    </tr>\n",
       "    <tr>\n",
       "      <th>2</th>\n",
       "      <td>275</td>\n",
       "      <td>1</td>\n",
       "    </tr>\n",
       "    <tr>\n",
       "      <th>3</th>\n",
       "      <td>291</td>\n",
       "      <td>1</td>\n",
       "    </tr>\n",
       "    <tr>\n",
       "      <th>4</th>\n",
       "      <td>347</td>\n",
       "      <td>1</td>\n",
       "    </tr>\n",
       "    <tr>\n",
       "      <th>5</th>\n",
       "      <td>354</td>\n",
       "      <td>1</td>\n",
       "    </tr>\n",
       "    <tr>\n",
       "      <th>6</th>\n",
       "      <td>380</td>\n",
       "      <td>1</td>\n",
       "    </tr>\n",
       "    <tr>\n",
       "      <th>7</th>\n",
       "      <td>392</td>\n",
       "      <td>1</td>\n",
       "    </tr>\n",
       "    <tr>\n",
       "      <th>8</th>\n",
       "      <td>206</td>\n",
       "      <td>2</td>\n",
       "    </tr>\n",
       "    <tr>\n",
       "      <th>9</th>\n",
       "      <td>210</td>\n",
       "      <td>2</td>\n",
       "    </tr>\n",
       "    <tr>\n",
       "      <th>10</th>\n",
       "      <td>226</td>\n",
       "      <td>2</td>\n",
       "    </tr>\n",
       "    <tr>\n",
       "      <th>11</th>\n",
       "      <td>249</td>\n",
       "      <td>2</td>\n",
       "    </tr>\n",
       "    <tr>\n",
       "      <th>12</th>\n",
       "      <td>255</td>\n",
       "      <td>2</td>\n",
       "    </tr>\n",
       "    <tr>\n",
       "      <th>13</th>\n",
       "      <td>273</td>\n",
       "      <td>2</td>\n",
       "    </tr>\n",
       "    <tr>\n",
       "      <th>14</th>\n",
       "      <td>285</td>\n",
       "      <td>2</td>\n",
       "    </tr>\n",
       "    <tr>\n",
       "      <th>15</th>\n",
       "      <td>295</td>\n",
       "      <td>2</td>\n",
       "    </tr>\n",
       "    <tr>\n",
       "      <th>16</th>\n",
       "      <td>309</td>\n",
       "      <td>2</td>\n",
       "    </tr>\n",
       "    <tr>\n",
       "      <th>17</th>\n",
       "      <td>241</td>\n",
       "      <td>3</td>\n",
       "    </tr>\n",
       "    <tr>\n",
       "      <th>18</th>\n",
       "      <td>258</td>\n",
       "      <td>3</td>\n",
       "    </tr>\n",
       "    <tr>\n",
       "      <th>19</th>\n",
       "      <td>270</td>\n",
       "      <td>3</td>\n",
       "    </tr>\n",
       "    <tr>\n",
       "      <th>20</th>\n",
       "      <td>293</td>\n",
       "      <td>3</td>\n",
       "    </tr>\n",
       "    <tr>\n",
       "      <th>21</th>\n",
       "      <td>328</td>\n",
       "      <td>3</td>\n",
       "    </tr>\n",
       "  </tbody>\n",
       "</table>\n",
       "</div>"
      ],
      "text/plain": [
       "      0  1\n",
       "0   243  1\n",
       "1   251  1\n",
       "2   275  1\n",
       "3   291  1\n",
       "4   347  1\n",
       "5   354  1\n",
       "6   380  1\n",
       "7   392  1\n",
       "8   206  2\n",
       "9   210  2\n",
       "10  226  2\n",
       "11  249  2\n",
       "12  255  2\n",
       "13  273  2\n",
       "14  285  2\n",
       "15  295  2\n",
       "16  309  2\n",
       "17  241  3\n",
       "18  258  3\n",
       "19  270  3\n",
       "20  293  3\n",
       "21  328  3"
      ]
     },
     "execution_count": 41,
     "metadata": {},
     "output_type": "execute_result"
    }
   ],
   "source": [
    "# 데이터 불러오기\n",
    "\n",
    "url = 'https://raw.githubusercontent.com/thomas-haslwanter/statsintro_python/master/ipynb/Data/data_altman/altman_910.txt'\n",
    "data = pd.read_csv(url, delimiter=',', header=None)\n",
    "data"
   ]
  },
  {
   "cell_type": "code",
   "execution_count": 43,
   "metadata": {},
   "outputs": [
    {
     "name": "stdout",
     "output_type": "stream",
     "text": [
      "122.0\n",
      "104.0\n",
      "122.0\n"
     ]
    }
   ],
   "source": [
    "# 그룹 나누고 중위값 확인\n",
    "group1 = data[data[1]==1]\n",
    "group2 = data[data[1]==2]\n",
    "group3 = data[data[1]==3]\n",
    "\n",
    "print(np.median(group1))\n",
    "print(np.median(group2))\n",
    "print(np.median(group3))"
   ]
  },
  {
   "cell_type": "code",
   "execution_count": 44,
   "metadata": {},
   "outputs": [
    {
     "data": {
      "text/plain": [
       "KruskalResult(statistic=148.8656364213711, pvalue=4.723215691129366e-33)"
      ]
     },
     "execution_count": 44,
     "metadata": {},
     "output_type": "execute_result"
    }
   ],
   "source": [
    "# 비모수검정 (kruskal)\n",
    "\n",
    "from scipy.stats import kruskal\n",
    "kruskal(group1, group2, group3)"
   ]
  },
  {
   "cell_type": "markdown",
   "metadata": {},
   "source": [
    "=> p-value가 0.05보다 작으므로 3개의 중위값이 모두 같다는 귀무가설을 기각한다."
   ]
  }
 ],
 "metadata": {
  "kernelspec": {
   "display_name": "Python 3",
   "language": "python",
   "name": "python3"
  },
  "language_info": {
   "codemirror_mode": {
    "name": "ipython",
    "version": 3
   },
   "file_extension": ".py",
   "mimetype": "text/x-python",
   "name": "python",
   "nbconvert_exporter": "python",
   "pygments_lexer": "ipython3",
   "version": "3.8.5"
  }
 },
 "nbformat": 4,
 "nbformat_minor": 4
}
