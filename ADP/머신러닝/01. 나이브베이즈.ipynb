{
 "cells": [
  {
   "cell_type": "markdown",
   "metadata": {},
   "source": [
    "# 3장 머신러닝\n",
    "\n",
    "## 3장-1절. Naive bayes classifier\n",
    "- 조건부 확률기반의 베이즈정리를 이용한 분류기\n",
    "- 종류\n",
    "    - Gaussian Naive Bayes\n",
    "        - 설명변수가 연속형\n",
    "    - Multinomial Naive Bayes\n",
    "        - 설명변수가 범주형\n",
    "- 튜닝할 파라미터 없음\n",
    "- 하지만, prior 줄 수 있다."
   ]
  },
  {
   "cell_type": "markdown",
   "metadata": {},
   "source": [
    "---\n",
    "---"
   ]
  },
  {
   "cell_type": "markdown",
   "metadata": {},
   "source": [
    "## 01. Gaussian Naive Bayes"
   ]
  },
  {
   "cell_type": "code",
   "execution_count": 2,
   "metadata": {},
   "outputs": [],
   "source": [
    "import warnings\n",
    "warnings.filterwarnings('ignore')\n",
    "import pandas as pd\n",
    "import numpy as np\n",
    "import matplotlib.pyplot as plt\n",
    "%matplotlib inline\n",
    "import seaborn as sns\n"
   ]
  },
  {
   "cell_type": "code",
   "execution_count": 3,
   "metadata": {},
   "outputs": [],
   "source": [
    "# 데이터 불러오기\n",
    "\n",
    "from sklearn import datasets\n",
    "\n",
    "iris = datasets.load_iris()\n",
    "df_X = pd.DataFrame(iris.data)\n",
    "df_y = pd.DataFrame(iris.target)"
   ]
  },
  {
   "cell_type": "code",
   "execution_count": 6,
   "metadata": {},
   "outputs": [],
   "source": [
    "# 모델 fitting\n",
    "\n",
    "from sklearn.naive_bayes import GaussianNB\n",
    "\n",
    "gnb = GaussianNB()\n",
    "fitted_model = gnb.fit(iris.data, iris.target)\n",
    "y_pred = fitted_model.predict(iris.data)"
   ]
  },
  {
   "cell_type": "code",
   "execution_count": 7,
   "metadata": {},
   "outputs": [
    {
     "data": {
      "text/plain": [
       "array([[1.00000000e+000, 1.51480769e-017, 2.34820051e-025],\n",
       "       [1.00000000e+000, 2.63876217e-018, 2.79566024e-025],\n",
       "       [7.27347795e-102, 9.45169639e-001, 5.48303606e-002],\n",
       "       [3.23245181e-254, 6.35381031e-011, 1.00000000e+000]])"
      ]
     },
     "execution_count": 7,
     "metadata": {},
     "output_type": "execute_result"
    }
   ],
   "source": [
    "# target이 0,1,2 인데 그 확률을 보여주는 것\n",
    "fitted_model.predict_proba(iris.data)[[1,48,51,100]]\n",
    "\n",
    "## 0일 확률 1, 0일 확률 1, 1일 확률 0.94, 2일확률 1"
   ]
  },
  {
   "cell_type": "code",
   "execution_count": 8,
   "metadata": {},
   "outputs": [
    {
     "data": {
      "text/plain": [
       "array([0, 0, 1, 2])"
      ]
     },
     "execution_count": 8,
     "metadata": {},
     "output_type": "execute_result"
    }
   ],
   "source": [
    "# 위 확률 결과 확인\n",
    "fitted_model.predict(iris.data)[[1,48,51,100]]"
   ]
  },
  {
   "cell_type": "code",
   "execution_count": 11,
   "metadata": {},
   "outputs": [
    {
     "data": {
      "text/plain": [
       "array([[50,  0,  0],\n",
       "       [ 0, 47,  3],\n",
       "       [ 0,  3, 47]], dtype=int64)"
      ]
     },
     "execution_count": 11,
     "metadata": {},
     "output_type": "execute_result"
    }
   ],
   "source": [
    "# Confusion matrix\n",
    "\n",
    "from sklearn.metrics import confusion_matrix\n",
    "\n",
    "cfmat = confusion_matrix(iris.target, y_pred)\n",
    "cfmat"
   ]
  },
  {
   "cell_type": "markdown",
   "metadata": {},
   "source": [
    "### @ prior 설정해주기\n",
    "- 각 y의 나올 확률을 지정해줄 수 있음(우선순위 지정)"
   ]
  },
  {
   "cell_type": "markdown",
   "metadata": {},
   "source": [
    "#### 범주 3 나올 확률 높게 해주었을 때"
   ]
  },
  {
   "cell_type": "code",
   "execution_count": 12,
   "metadata": {},
   "outputs": [],
   "source": [
    "gnb_prior3 = GaussianNB(priors=[1/100,1/100,98/100])\n",
    "fitted_prior3 = gnb_prior3.fit(iris.data, iris.target)\n",
    "y_pred_prior3 = fitted_prior3.predict(iris.data)"
   ]
  },
  {
   "cell_type": "code",
   "execution_count": 13,
   "metadata": {},
   "outputs": [
    {
     "data": {
      "text/plain": [
       "array([[50,  0,  0],\n",
       "       [ 0, 33, 17],\n",
       "       [ 0,  0, 50]], dtype=int64)"
      ]
     },
     "execution_count": 13,
     "metadata": {},
     "output_type": "execute_result"
    }
   ],
   "source": [
    "confusion_matrix(iris.target, y_pred_prior3)"
   ]
  },
  {
   "cell_type": "markdown",
   "metadata": {},
   "source": [
    "#### 해석\n",
    "1. 범주 3은 100%의 정확도가 되었지만, 범주 2의 정확도는 매우 떨어졌다."
   ]
  },
  {
   "cell_type": "markdown",
   "metadata": {},
   "source": [
    "---"
   ]
  },
  {
   "cell_type": "markdown",
   "metadata": {},
   "source": [
    "#### 범주 2 나올 확률 높게 해주었을 때"
   ]
  },
  {
   "cell_type": "code",
   "execution_count": 14,
   "metadata": {},
   "outputs": [],
   "source": [
    "gnb_prior2 = GaussianNB(priors=[1/100,98/100,1/100])\n",
    "fitted_prior2 = gnb_prior2.fit(iris.data, iris.target)\n",
    "y_pred_prior2 = fitted_prior2.predict(iris.data)"
   ]
  },
  {
   "cell_type": "code",
   "execution_count": 17,
   "metadata": {},
   "outputs": [
    {
     "data": {
      "text/plain": [
       "array([[50,  0,  0],\n",
       "       [ 0, 50,  0],\n",
       "       [ 0, 14, 36]], dtype=int64)"
      ]
     },
     "execution_count": 17,
     "metadata": {},
     "output_type": "execute_result"
    }
   ],
   "source": [
    "confusion_matrix(iris.target, y_pred_prior2)"
   ]
  },
  {
   "cell_type": "markdown",
   "metadata": {},
   "source": [
    "#### 해석\n",
    "1. 범주 2는 100%의 정화도가 되었지만, 범주3의 정확도는 매우 떨어졌다."
   ]
  },
  {
   "cell_type": "markdown",
   "metadata": {},
   "source": [
    "#### 최종해석\n",
    "- 만약 1,2,3 범주가 어떻게 출현할지 미리 알고있으면, 이 정보(prior)를 넣어주면 결과에 반영시켜서 좀 더 좋은 결과 만들 수 있다."
   ]
  },
  {
   "cell_type": "markdown",
   "metadata": {},
   "source": [
    "---\n",
    "---"
   ]
  },
  {
   "cell_type": "markdown",
   "metadata": {},
   "source": [
    "## 02.  Multinomial Naive Bayes "
   ]
  },
  {
   "cell_type": "code",
   "execution_count": 19,
   "metadata": {},
   "outputs": [],
   "source": [
    "# 데이터 생성 => 설명변수는 5개의 범주형데이터, 종속변수는 6개의 범주로 말도안되는 데이터이지만, 나이브베이즈는 이것으로도 모델 생성가능\n",
    "\n",
    "X = np.random.randint(5, size=(6,100)) # 범주형 설명변수\n",
    "y = np.array([1, 2, 3, 4, 5, 6])"
   ]
  },
  {
   "cell_type": "code",
   "execution_count": 22,
   "metadata": {},
   "outputs": [
    {
     "data": {
      "text/plain": [
       "MultinomialNB()"
      ]
     },
     "execution_count": 22,
     "metadata": {},
     "output_type": "execute_result"
    }
   ],
   "source": [
    "# 모델 fitting\n",
    "\n",
    "from sklearn.naive_bayes import MultinomialNB\n",
    "\n",
    "MulNB = MultinomialNB()\n",
    "MulNB.fit(X, y)"
   ]
  },
  {
   "cell_type": "code",
   "execution_count": 23,
   "metadata": {},
   "outputs": [
    {
     "data": {
      "text/plain": [
       "array([1, 2, 3, 4, 5, 6])"
      ]
     },
     "execution_count": 23,
     "metadata": {},
     "output_type": "execute_result"
    }
   ],
   "source": [
    "MulNB.predict(X)"
   ]
  },
  {
   "cell_type": "code",
   "execution_count": 25,
   "metadata": {},
   "outputs": [
    {
     "data": {
      "text/plain": [
       "array([[1.00000000e+00, 3.77756520e-32, 7.20436998e-37, 4.77761302e-38,\n",
       "        8.33430262e-27, 3.30229178e-38],\n",
       "       [1.59229512e-29, 1.00000000e+00, 5.89930392e-31, 2.26161717e-35,\n",
       "        1.62945052e-28, 3.82333493e-34],\n",
       "       [1.35580949e-36, 1.11798563e-33, 1.00000000e+00, 3.71401299e-38,\n",
       "        7.32036722e-35, 6.42478691e-37],\n",
       "       [4.76002115e-36, 6.39089635e-38, 2.72769055e-37, 1.00000000e+00,\n",
       "        1.29571324e-31, 2.07924951e-38],\n",
       "       [6.26450873e-26, 3.42949280e-31, 4.05876048e-35, 3.55477175e-31,\n",
       "        1.00000000e+00, 3.08045680e-36],\n",
       "       [6.66986897e-38, 1.31336998e-37, 8.69995059e-39, 3.51159483e-41,\n",
       "        4.75832793e-36, 1.00000000e+00]])"
      ]
     },
     "execution_count": 25,
     "metadata": {},
     "output_type": "execute_result"
    }
   ],
   "source": [
    "MulNB.predict_proba(X)"
   ]
  },
  {
   "cell_type": "markdown",
   "metadata": {},
   "source": [
    "### prior 변경"
   ]
  },
  {
   "cell_type": "code",
   "execution_count": 27,
   "metadata": {},
   "outputs": [
    {
     "data": {
      "text/plain": [
       "array([3])"
      ]
     },
     "execution_count": 27,
     "metadata": {},
     "output_type": "execute_result"
    }
   ],
   "source": [
    "MulNB.predict(X[2:3])"
   ]
  },
  {
   "cell_type": "code",
   "execution_count": 28,
   "metadata": {},
   "outputs": [
    {
     "data": {
      "text/plain": [
       "array([[1.35580949e-36, 1.11798563e-33, 1.00000000e+00, 3.71401299e-38,\n",
       "        7.32036722e-35, 6.42478691e-37]])"
      ]
     },
     "execution_count": 28,
     "metadata": {},
     "output_type": "execute_result"
    }
   ],
   "source": [
    "MulNB.predict_proba(X[2:3])"
   ]
  },
  {
   "cell_type": "code",
   "execution_count": 29,
   "metadata": {},
   "outputs": [
    {
     "data": {
      "text/plain": [
       "MultinomialNB(class_prior=[0.1, 0.1999, 0.0001, 0.1, 0.1, 0.1])"
      ]
     },
     "execution_count": 29,
     "metadata": {},
     "output_type": "execute_result"
    }
   ],
   "source": [
    "# 3 나올 확률을 매우 줄이고, 2 나올 확률을 높인다.\n",
    "MulNB2 = MultinomialNB(class_prior=[0.1, 0.1999, 0.0001, 0.1, 0.1, 0.1])\n",
    "MulNB2.fit(X,y)"
   ]
  },
  {
   "cell_type": "code",
   "execution_count": 30,
   "metadata": {},
   "outputs": [
    {
     "data": {
      "text/plain": [
       "array([[1.35580949e-33, 2.23485327e-30, 1.00000000e+00, 3.71401299e-35,\n",
       "        7.32036722e-32, 6.42478691e-34]])"
      ]
     },
     "execution_count": 30,
     "metadata": {},
     "output_type": "execute_result"
    }
   ],
   "source": [
    "MulNB2.predict_proba(X[2:3])"
   ]
  },
  {
   "cell_type": "markdown",
   "metadata": {},
   "source": [
    "#### 해석\n",
    "1. weight를 높게 준 두번째 범주의 확률은 높아진 것 확인 가능하다. (나머지는 비슷하게 주었기 때문에 변화없음)"
   ]
  }
 ],
 "metadata": {
  "kernelspec": {
   "display_name": "Python 3",
   "language": "python",
   "name": "python3"
  },
  "language_info": {
   "codemirror_mode": {
    "name": "ipython",
    "version": 3
   },
   "file_extension": ".py",
   "mimetype": "text/x-python",
   "name": "python",
   "nbconvert_exporter": "python",
   "pygments_lexer": "ipython3",
   "version": "3.8.5"
  }
 },
 "nbformat": 4,
 "nbformat_minor": 4
}
