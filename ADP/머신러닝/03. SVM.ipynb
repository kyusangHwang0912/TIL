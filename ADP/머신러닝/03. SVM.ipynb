{
 "cells": [
  {
   "cell_type": "markdown",
   "metadata": {},
   "source": [
    "## 3장-3절. Support Vector Machine(SVM)\n",
    "- 정의\n",
    "    - 데이터 분포를 가정하기 힘들 때, margin을 최대화하는 boundary(초평면)찾는 방법\n",
    "        - 초명면 : 어떤 n차원의 공간보다 한 차원이 낮은 n-1차원의 하위공간을 의미. 즉, 3차원 공간에서 초명면은 면이며, 2차원 공간에서 초명면은 선이된다.\n",
    "\n",
    "- 서포트벡터 \n",
    "    - 초평면에 가장 가까이 위치한 점을 support vector라고 한다. 즉, 서포트벡터는 margin 끝에 위치한 점인데, 이 점들과 초명면사이의 수직거리가 마진이 된다.\n",
    "- C(Cost)\n",
    "    - default = 1\n",
    "    - 선으로 정확히 구분되지 않는 경우가 존재한다면 적당한 error를 허용하고, 이를 최소화 하도록 boundary를 결정하는데, 이것과 관련된 파라미터가 바로 Cost(C)이다.\n",
    "        - C를 높게잡을수록 에러를 작게 허용하고, 낮을수록 높게 허용한다.\n",
    "        - C를 낮게잡으면 이상치가 있을 가능성을 높게 봐서 일반적인 결정경계를 찾아낸다.(Soft Margin)\n",
    "        - C를 높게 잡으면 이상치가 있을 가능성을 작게 보아서 더 세심한 결정경계를 찾아내는 것이다. (Hard Margin)\n",
    "        - 즉, C가 너무 높으면 overfitting 될 가능성이 크고, C가 너무 낮으면 underfitting 될 가능성이 크다.\n",
    "    \n",
    "- 커널기법\n",
    "    - Linear SVM(2차원) 으로는 데이터를 제대로 분류할 수 없는 상황들이 굉장히 많다. 이런 경우를 해결하기 위해 주어진 데이터를 고차원 특징 공간에서 사상해주는 것을 커널 기법이라고 한다.\n",
    "    \n",
    "- 종류\n",
    "    - 2차원\n",
    "        - Linear SVM\n",
    "    - 커널기법 이용\n",
    "        - RBF(radial basis function) SVM\n",
    "        - polynomial kernel SVM\n",
    "- 종속 변수 데이터 형태에 둘로 나뉜다.\n",
    "    - 범주형 변수 : SVC (Support Vector Classifier)\n",
    "    - 연속형 변수 : SVR (Support Vector Regression)\n",
    "    - SVC : 마진안에 포함되거나, 반대방향으로 분류된 점들\n",
    "    - SVR : margin 바깥에 위치한 점들 "
   ]
  },
  {
   "cell_type": "markdown",
   "metadata": {},
   "source": [
    "## 01. Lienar SVM\n",
    "- 하이퍼파리미터\n",
    "    - C\n",
    "        - 오차 허용기준. 작은 값을수록 많이 허용한다.\n",
    "        - 과적합일 경우 값을 감소시키고, 과소적합을 경우 값을 증가시키면 된다."
   ]
  },
  {
   "cell_type": "code",
   "execution_count": 1,
   "metadata": {},
   "outputs": [],
   "source": [
    "# 기본 패키지\n",
    "import warnings\n",
    "warnings.filterwarnings('ignore')\n",
    "import pandas as pd\n",
    "import numpy as np\n",
    "import matplotlib.pyplot as plt\n",
    "%matplotlib inline\n",
    "import seaborn as sns\n",
    "\n",
    "# 데이터\n",
    "from sklearn.datasets import load_breast_cancer\n",
    "from sklearn.model_selection import train_test_split\n",
    "from sklearn.preprocessing import StandardScaler"
   ]
  },
  {
   "cell_type": "markdown",
   "metadata": {},
   "source": [
    "### 01-1. 데이터 불러오기 및 전처리"
   ]
  },
  {
   "cell_type": "code",
   "execution_count": 2,
   "metadata": {},
   "outputs": [],
   "source": [
    "cancer = load_breast_cancer()\n",
    "\n",
    "X_train, X_test, y_train, y_test = train_test_split(cancer.data, cancer.target, test_size=0.3, stratify=cancer.target)\n",
    "\n",
    "scaler = StandardScaler()\n",
    "X_train_scaled = scaler.fit_transform(X_train)\n",
    "X_test_scaled = scaler.transform(X_test)"
   ]
  },
  {
   "cell_type": "markdown",
   "metadata": {},
   "source": [
    "### 01-2. 모델 fitting 및 평가"
   ]
  },
  {
   "cell_type": "code",
   "execution_count": 3,
   "metadata": {},
   "outputs": [
    {
     "name": "stdout",
     "output_type": "stream",
     "text": [
      "train 정확도: 0.9849246231155779\n",
      "test 정확도: 0.9824561403508771\n"
     ]
    }
   ],
   "source": [
    "from sklearn.svm import SVC, LinearSVC\n",
    "svm = SVC(kernel='linear')\n",
    "# svm = LineraSVC 와 같음\n",
    "\n",
    "svm.fit(X_train_scaled, y_train)\n",
    "pred_train = svm.predict(X_train_scaled)\n",
    "pred_test = svm.predict(X_test_scaled)\n",
    "\n",
    "from sklearn.metrics import accuracy_score\n",
    "print(\"train 정확도:\",accuracy_score(y_train, pred_train))\n",
    "print(\"test 정확도:\",accuracy_score(y_test, pred_test))"
   ]
  },
  {
   "cell_type": "markdown",
   "metadata": {},
   "source": [
    "### 01-3. C에 변화에 따른 성능 확인"
   ]
  },
  {
   "cell_type": "code",
   "execution_count": 4,
   "metadata": {},
   "outputs": [],
   "source": [
    "C_list = [0.01, 0.05, 0.1, 0.5, 1, 10]\n",
    "\n",
    "train_acc_list = []\n",
    "test_acc_list = []\n",
    "\n",
    "for C in C_list:\n",
    "    svc = SVC(kernel='linear', C=C)\n",
    "    svc.fit(X_train_scaled, y_train)\n",
    "    \n",
    "    train_acc_list.append(accuracy_score(y_train, svc.predict(X_train_scaled)))\n",
    "    test_acc_list.append(accuracy_score(y_test, svc.predict(X_test_scaled)))"
   ]
  },
  {
   "cell_type": "code",
   "execution_count": 5,
   "metadata": {},
   "outputs": [
    {
     "data": {
      "text/html": [
       "<div>\n",
       "<style scoped>\n",
       "    .dataframe tbody tr th:only-of-type {\n",
       "        vertical-align: middle;\n",
       "    }\n",
       "\n",
       "    .dataframe tbody tr th {\n",
       "        vertical-align: top;\n",
       "    }\n",
       "\n",
       "    .dataframe thead th {\n",
       "        text-align: right;\n",
       "    }\n",
       "</style>\n",
       "<table border=\"1\" class=\"dataframe\">\n",
       "  <thead>\n",
       "    <tr style=\"text-align: right;\">\n",
       "      <th></th>\n",
       "      <th>C</th>\n",
       "      <th>train_accuracy</th>\n",
       "      <th>test_accuracy</th>\n",
       "    </tr>\n",
       "  </thead>\n",
       "  <tbody>\n",
       "    <tr>\n",
       "      <th>0</th>\n",
       "      <td>0.01</td>\n",
       "      <td>0.967337</td>\n",
       "      <td>0.982456</td>\n",
       "    </tr>\n",
       "    <tr>\n",
       "      <th>1</th>\n",
       "      <td>0.05</td>\n",
       "      <td>0.977387</td>\n",
       "      <td>0.988304</td>\n",
       "    </tr>\n",
       "    <tr>\n",
       "      <th>2</th>\n",
       "      <td>0.10</td>\n",
       "      <td>0.979899</td>\n",
       "      <td>0.988304</td>\n",
       "    </tr>\n",
       "    <tr>\n",
       "      <th>3</th>\n",
       "      <td>0.50</td>\n",
       "      <td>0.982412</td>\n",
       "      <td>0.982456</td>\n",
       "    </tr>\n",
       "    <tr>\n",
       "      <th>4</th>\n",
       "      <td>1.00</td>\n",
       "      <td>0.984925</td>\n",
       "      <td>0.982456</td>\n",
       "    </tr>\n",
       "    <tr>\n",
       "      <th>5</th>\n",
       "      <td>10.00</td>\n",
       "      <td>0.989950</td>\n",
       "      <td>0.970760</td>\n",
       "    </tr>\n",
       "  </tbody>\n",
       "</table>\n",
       "</div>"
      ],
      "text/plain": [
       "       C  train_accuracy  test_accuracy\n",
       "0   0.01        0.967337       0.982456\n",
       "1   0.05        0.977387       0.988304\n",
       "2   0.10        0.979899       0.988304\n",
       "3   0.50        0.982412       0.982456\n",
       "4   1.00        0.984925       0.982456\n",
       "5  10.00        0.989950       0.970760"
      ]
     },
     "execution_count": 5,
     "metadata": {},
     "output_type": "execute_result"
    }
   ],
   "source": [
    "d = dict(C=C_list,\n",
    "        train_accuracy = train_acc_list,\n",
    "        test_accuracy = test_acc_list)\n",
    "df = pd.DataFrame(d)\n",
    "df"
   ]
  },
  {
   "cell_type": "code",
   "execution_count": 6,
   "metadata": {},
   "outputs": [
    {
     "data": {
      "image/png": "[encoded data removed]",
      "text/plain": [
       "<Figure size 504x504 with 1 Axes>"
      ]
     },
     "metadata": {
      "needs_background": "light"
     },
     "output_type": "display_data"
    }
   ],
   "source": [
    "df.set_index('C').plot(figsize=(7,7))\n",
    "plt.xlim(0,1.5)\n",
    "plt.ylim(0.96,0.99)\n",
    "plt.show()"
   ]
  },
  {
   "cell_type": "markdown",
   "metadata": {},
   "source": [
    "---\n",
    "---"
   ]
  },
  {
   "cell_type": "markdown",
   "metadata": {},
   "source": [
    "## 02. 커널 서포트 벡터 머신 : RBF SVM\n",
    "- 방사기저(RBF) 함수란?\n",
    "    - 커널 서포트 벡터 머신의 기본 커널 함수\n",
    "    - 기준점들이 되는 위치를 지정하고 각 샘플이 그 기준점들과 얼마나 떨어졌는지를 계산한다. => 유사도(거리)\n",
    "    - 기준점 별 유사도 계산한 값은 원래 값보다 차원이 커지고 선형저으로 구분될 가능성이 커진다.\n",
    "\n",
    "- 하이퍼파라미터\n",
    "    - C\n",
    "        - 오차 허용기준. 작은 값을수록 많이 허용한다.\n",
    "        - 과적합일 경우 값을 감소시키고, 과소적합을 경우 값을 증가시키면 된다.\n",
    "    - gamma\n",
    "        - 방사기저함수의 규제의 역할을 한다.\n",
    "        - 데이터 샘플이 영향력을 행사하는 거리를 결정한다.\n",
    "        - gamma는 gussian 함수의 표준편차와 관련이 있는데, 클수록 작은 표준편차를 가진다. 즉, gamma가 클수록 한 데이터 포인터들이 영향력을 행사하는 거리가 짧아지는 반면 gamma가 낮을수록 거리가 커진다.\n",
    "        - 즉, 모델이 과대적합일 경우 값을 감소시키고, 과소적합일 경우 값을 증가시키면 된다."
   ]
  },
  {
   "cell_type": "markdown",
   "metadata": {},
   "source": [
    "### 02-1. 모델 fitting"
   ]
  },
  {
   "cell_type": "code",
   "execution_count": 27,
   "metadata": {},
   "outputs": [
    {
     "data": {
      "text/plain": [
       "SVC(gamma='auto', probability=True)"
      ]
     },
     "execution_count": 27,
     "metadata": {},
     "output_type": "execute_result"
    }
   ],
   "source": [
    "from sklearn.svm import SVC\n",
    "\n",
    "rbf_model = SVC(kernel='rbf',\n",
    "               gamma='auto',\n",
    "               probability=True)\n",
    "rbf_model.fit(X_train_scaled, y_train)"
   ]
  },
  {
   "cell_type": "markdown",
   "metadata": {},
   "source": [
    "### 02-2. 모델 평가"
   ]
  },
  {
   "cell_type": "code",
   "execution_count": 28,
   "metadata": {},
   "outputs": [
    {
     "name": "stdout",
     "output_type": "stream",
     "text": [
      "train 정확도: 0.9899497487437185\n",
      "test 정확도: 0.9649122807017544\n"
     ]
    }
   ],
   "source": [
    "from sklearn.metrics import accuracy_score, confusion_matrix, roc_auc_score\n",
    "\n",
    "pred_train = rbf_model.predict(X_train_scaled)\n",
    "pred_test = rbf_model.predict(X_test_scaled)\n",
    "\n",
    "print(\"train 정확도:\",accuracy_score(y_train, pred_train))\n",
    "print(\"test 정확도:\",accuracy_score(y_test, pred_test))"
   ]
  },
  {
   "cell_type": "code",
   "execution_count": 29,
   "metadata": {},
   "outputs": [
    {
     "data": {
      "text/plain": [
       "array([[144,   4],\n",
       "       [  0, 250]], dtype=int64)"
      ]
     },
     "execution_count": 29,
     "metadata": {},
     "output_type": "execute_result"
    }
   ],
   "source": [
    "confusion_matrix(y_train, pred_train)"
   ]
  },
  {
   "cell_type": "code",
   "execution_count": 30,
   "metadata": {},
   "outputs": [
    {
     "data": {
      "text/plain": [
       "array([[ 62,   2],\n",
       "       [  4, 103]], dtype=int64)"
      ]
     },
     "execution_count": 30,
     "metadata": {},
     "output_type": "execute_result"
    }
   ],
   "source": [
    "confusion_matrix(y_test, pred_test)"
   ]
  },
  {
   "cell_type": "markdown",
   "metadata": {},
   "source": [
    "---\n",
    "---"
   ]
  },
  {
   "cell_type": "markdown",
   "metadata": {},
   "source": [
    "## 03. 커널 서포트 벡터 머신 : Polinomial kernerl SVM\n",
    "- 하이퍼파라미터\n",
    "    - C\n",
    "    - degree\n",
    "        - 차원(d)를 올림에 따라 모형의 복잡도를 올리 수 있음.\n",
    "    - 위 내용들과 마찬가지로 C와 degree가 너무 높으면 과적합의 위험이 있고, 너무 낮으면 과소적합의 위험이 있다."
   ]
  },
  {
   "cell_type": "markdown",
   "metadata": {},
   "source": [
    "### 03-1. 모델 fitting"
   ]
  },
  {
   "cell_type": "code",
   "execution_count": 41,
   "metadata": {},
   "outputs": [],
   "source": [
    "from sklearn.svm import SVC\n",
    "\n",
    "poly_model = SVC(kernel='poly', degree=3, max_iter=10000)\n",
    "poly_model.fit(X_train_scaled,y_train)"
   ]
  },
  {
   "cell_type": "markdown",
   "metadata": {},
   "source": [
    "### 03-2. 모델 평가"
   ]
  },
  {
   "cell_type": "code",
   "execution_count": 42,
   "metadata": {},
   "outputs": [
    {
     "name": "stdout",
     "output_type": "stream",
     "text": [
      "train 정확도: 0.9120603015075377\n",
      "test 정확도: 0.9239766081871345\n"
     ]
    }
   ],
   "source": [
    "pred_train = poly_model.predict(X_train_scaled)\n",
    "pred_test = poly_model.predict(X_test_scaled)\n",
    "\n",
    "print(\"train 정확도:\",accuracy_score(y_train, pred_train))\n",
    "print(\"test 정확도:\",accuracy_score(y_test, pred_test))"
   ]
  },
  {
   "cell_type": "code",
   "execution_count": 43,
   "metadata": {},
   "outputs": [
    {
     "data": {
      "text/plain": [
       "array([[113,  35],\n",
       "       [  0, 250]], dtype=int64)"
      ]
     },
     "execution_count": 43,
     "metadata": {},
     "output_type": "execute_result"
    }
   ],
   "source": [
    "confusion_matrix(y_train, pred_train)"
   ]
  },
  {
   "cell_type": "code",
   "execution_count": 44,
   "metadata": {},
   "outputs": [
    {
     "data": {
      "text/plain": [
       "array([[ 51,  13],\n",
       "       [  0, 107]], dtype=int64)"
      ]
     },
     "execution_count": 44,
     "metadata": {},
     "output_type": "execute_result"
    }
   ],
   "source": [
    "confusion_matrix(y_test, pred_test)"
   ]
  },
  {
   "cell_type": "markdown",
   "metadata": {},
   "source": [
    "### 02-3. GridSearchCV로 하이퍼파라미터 튜닝"
   ]
  },
  {
   "cell_type": "code",
   "execution_count": 48,
   "metadata": {},
   "outputs": [],
   "source": [
    "from sklearn.model_selection import GridSearchCV\n",
    "kernel = ['rbf','linear', 'poly']\n",
    "C = [0.001, 0.01, 0.1, 1, 10, 100]\n",
    "gamma = [0.001, 0.01, 0.1, 1, 10, 100]\n",
    "degree = [1,2,3,4,5]\n",
    "\n",
    "hyperparams = {'kernel':kernel,\n",
    "              'C':C,\n",
    "              'gamma':gamma,\n",
    "              'degree':degree}\n",
    "\n",
    "svc = SVC()\n",
    "gs = GridSearchCV(svc,\n",
    "                  hyperparams,\n",
    "                  scoring='accuracy',\n",
    "                  cv=5,\n",
    "                  n_jobs=-1)"
   ]
  },
  {
   "cell_type": "code",
   "execution_count": 49,
   "metadata": {},
   "outputs": [
    {
     "data": {
      "text/plain": [
       "GridSearchCV(cv=5, estimator=SVC(), n_jobs=-1,\n",
       "             param_grid={'C': [0.001, 0.01, 0.1, 1, 10, 100],\n",
       "                         'degree': [1, 2, 3, 4, 5],\n",
       "                         'gamma': [0.001, 0.01, 0.1, 1, 10, 100],\n",
       "                         'kernel': ['rbf', 'linear', 'poly']},\n",
       "             scoring='accuracy')"
      ]
     },
     "execution_count": 49,
     "metadata": {},
     "output_type": "execute_result"
    }
   ],
   "source": [
    "gs.fit(X_train_scaled, y_train)"
   ]
  },
  {
   "cell_type": "code",
   "execution_count": 50,
   "metadata": {},
   "outputs": [
    {
     "name": "stdout",
     "output_type": "stream",
     "text": [
      "GridSearchCV 최적 파라미터: {'C': 0.001, 'degree': 1, 'gamma': 100, 'kernel': 'poly'}\n",
      "GridSearchCV 최고 정확도: 0.9749367088607596\n",
      "GridSearchCV 최고성능 모델: SVC(C=0.001, degree=1, gamma=100, kernel='poly')\n"
     ]
    }
   ],
   "source": [
    "print('GridSearchCV 최적 파라미터:',gs.best_params_)\n",
    "print('GridSearchCV 최고 정확도:',gs.best_score_)\n",
    "print('GridSearchCV 최고성능 모델:',gs.best_estimator_)"
   ]
  },
  {
   "cell_type": "code",
   "execution_count": 51,
   "metadata": {},
   "outputs": [
    {
     "name": "stdout",
     "output_type": "stream",
     "text": [
      "0.9824120603015075\n",
      "0.9707602339181286\n"
     ]
    }
   ],
   "source": [
    "pred_train = gs.predict(X_train_scaled)\n",
    "pred_test = gs.predict(X_test_scaled)\n",
    "\n",
    "print(accuracy_score(y_train,pred_train))\n",
    "print(accuracy_score(y_test,pred_test))"
   ]
  },
  {
   "cell_type": "code",
   "execution_count": 52,
   "metadata": {},
   "outputs": [
    {
     "data": {
      "text/plain": [
       "array([[ 61,   3],\n",
       "       [  2, 105]], dtype=int64)"
      ]
     },
     "execution_count": 52,
     "metadata": {},
     "output_type": "execute_result"
    }
   ],
   "source": [
    "confusion_matrix(y_test,pred_test)"
   ]
  },
  {
   "cell_type": "code",
   "execution_count": 53,
   "metadata": {},
   "outputs": [
    {
     "name": "stdout",
     "output_type": "stream",
     "text": [
      "              precision    recall  f1-score   support\n",
      "\n",
      "           0       0.97      0.95      0.96        64\n",
      "           1       0.97      0.98      0.98       107\n",
      "\n",
      "    accuracy                           0.97       171\n",
      "   macro avg       0.97      0.97      0.97       171\n",
      "weighted avg       0.97      0.97      0.97       171\n",
      "\n"
     ]
    }
   ],
   "source": [
    "from sklearn.metrics import classification_report\n",
    "print(classification_report(y_test,pred_test))"
   ]
  }
 ],
 "metadata": {
  "kernelspec": {
   "display_name": "Python 3",
   "language": "python",
   "name": "python3"
  },
  "language_info": {
   "codemirror_mode": {
    "name": "ipython",
    "version": 3
   },
   "file_extension": ".py",
   "mimetype": "text/x-python",
   "name": "python",
   "nbconvert_exporter": "python",
   "pygments_lexer": "ipython3",
   "version": "3.8.5"
  }
 },
 "nbformat": 4,
 "nbformat_minor": 4
}
