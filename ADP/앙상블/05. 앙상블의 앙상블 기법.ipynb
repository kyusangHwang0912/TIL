{
 "cells": [
  {
   "cell_type": "markdown",
   "metadata": {},
   "source": [
    "## 5장-4절. 앙상블의 앙상블 기법"
   ]
  },
  {
   "cell_type": "code",
   "execution_count": 92,
   "metadata": {},
   "outputs": [],
   "source": [
    "import warnings\n",
    "warnings.filterwarnings('ignore')\n",
    "import os\n",
    "import pandas as pd\n",
    "import numpy as np"
   ]
  },
  {
   "cell_type": "markdown",
   "metadata": {},
   "source": [
    "## 데이터 불러오기"
   ]
  },
  {
   "cell_type": "code",
   "execution_count": 93,
   "metadata": {},
   "outputs": [
    {
     "data": {
      "text/html": [
       "<div>\n",
       "<style scoped>\n",
       "    .dataframe tbody tr th:only-of-type {\n",
       "        vertical-align: middle;\n",
       "    }\n",
       "\n",
       "    .dataframe tbody tr th {\n",
       "        vertical-align: top;\n",
       "    }\n",
       "\n",
       "    .dataframe thead th {\n",
       "        text-align: right;\n",
       "    }\n",
       "</style>\n",
       "<table border=\"1\" class=\"dataframe\">\n",
       "  <thead>\n",
       "    <tr style=\"text-align: right;\">\n",
       "      <th></th>\n",
       "      <th>id</th>\n",
       "      <th>date</th>\n",
       "      <th>price</th>\n",
       "      <th>bedrooms</th>\n",
       "      <th>bathrooms</th>\n",
       "      <th>floors</th>\n",
       "      <th>waterfront</th>\n",
       "      <th>condition</th>\n",
       "      <th>grade</th>\n",
       "      <th>yr_built</th>\n",
       "      <th>yr_renovated</th>\n",
       "      <th>zipcode</th>\n",
       "      <th>lat</th>\n",
       "      <th>long</th>\n",
       "    </tr>\n",
       "  </thead>\n",
       "  <tbody>\n",
       "    <tr>\n",
       "      <th>0</th>\n",
       "      <td>7129300520</td>\n",
       "      <td>20141013T000000</td>\n",
       "      <td>221900.0</td>\n",
       "      <td>3</td>\n",
       "      <td>1.00</td>\n",
       "      <td>1.0</td>\n",
       "      <td>0</td>\n",
       "      <td>3</td>\n",
       "      <td>7</td>\n",
       "      <td>1955</td>\n",
       "      <td>0</td>\n",
       "      <td>98178</td>\n",
       "      <td>47.5112</td>\n",
       "      <td>-122.257</td>\n",
       "    </tr>\n",
       "    <tr>\n",
       "      <th>1</th>\n",
       "      <td>6414100192</td>\n",
       "      <td>20141209T000000</td>\n",
       "      <td>538000.0</td>\n",
       "      <td>3</td>\n",
       "      <td>2.25</td>\n",
       "      <td>2.0</td>\n",
       "      <td>0</td>\n",
       "      <td>3</td>\n",
       "      <td>7</td>\n",
       "      <td>1951</td>\n",
       "      <td>1991</td>\n",
       "      <td>98125</td>\n",
       "      <td>47.7210</td>\n",
       "      <td>-122.319</td>\n",
       "    </tr>\n",
       "    <tr>\n",
       "      <th>2</th>\n",
       "      <td>5631500400</td>\n",
       "      <td>20150225T000000</td>\n",
       "      <td>180000.0</td>\n",
       "      <td>2</td>\n",
       "      <td>1.00</td>\n",
       "      <td>1.0</td>\n",
       "      <td>0</td>\n",
       "      <td>3</td>\n",
       "      <td>6</td>\n",
       "      <td>1933</td>\n",
       "      <td>0</td>\n",
       "      <td>98028</td>\n",
       "      <td>47.7379</td>\n",
       "      <td>-122.233</td>\n",
       "    </tr>\n",
       "    <tr>\n",
       "      <th>3</th>\n",
       "      <td>2487200875</td>\n",
       "      <td>20141209T000000</td>\n",
       "      <td>604000.0</td>\n",
       "      <td>4</td>\n",
       "      <td>3.00</td>\n",
       "      <td>1.0</td>\n",
       "      <td>0</td>\n",
       "      <td>5</td>\n",
       "      <td>7</td>\n",
       "      <td>1965</td>\n",
       "      <td>0</td>\n",
       "      <td>98136</td>\n",
       "      <td>47.5208</td>\n",
       "      <td>-122.393</td>\n",
       "    </tr>\n",
       "    <tr>\n",
       "      <th>4</th>\n",
       "      <td>1954400510</td>\n",
       "      <td>20150218T000000</td>\n",
       "      <td>510000.0</td>\n",
       "      <td>3</td>\n",
       "      <td>2.00</td>\n",
       "      <td>1.0</td>\n",
       "      <td>0</td>\n",
       "      <td>3</td>\n",
       "      <td>8</td>\n",
       "      <td>1987</td>\n",
       "      <td>0</td>\n",
       "      <td>98074</td>\n",
       "      <td>47.6168</td>\n",
       "      <td>-122.045</td>\n",
       "    </tr>\n",
       "  </tbody>\n",
       "</table>\n",
       "</div>"
      ],
      "text/plain": [
       "           id             date     price  bedrooms  bathrooms  floors  \\\n",
       "0  7129300520  20141013T000000  221900.0         3       1.00     1.0   \n",
       "1  6414100192  20141209T000000  538000.0         3       2.25     2.0   \n",
       "2  5631500400  20150225T000000  180000.0         2       1.00     1.0   \n",
       "3  2487200875  20141209T000000  604000.0         4       3.00     1.0   \n",
       "4  1954400510  20150218T000000  510000.0         3       2.00     1.0   \n",
       "\n",
       "   waterfront  condition  grade  yr_built  yr_renovated  zipcode      lat  \\\n",
       "0           0          3      7      1955             0    98178  47.5112   \n",
       "1           0          3      7      1951          1991    98125  47.7210   \n",
       "2           0          3      6      1933             0    98028  47.7379   \n",
       "3           0          5      7      1965             0    98136  47.5208   \n",
       "4           0          3      8      1987             0    98074  47.6168   \n",
       "\n",
       "      long  \n",
       "0 -122.257  \n",
       "1 -122.319  \n",
       "2 -122.233  \n",
       "3 -122.393  \n",
       "4 -122.045  "
      ]
     },
     "execution_count": 93,
     "metadata": {},
     "output_type": "execute_result"
    }
   ],
   "source": [
    "data = pd.read_csv(\"./data/kc_house_data.csv\")\n",
    "data.head()"
   ]
  },
  {
   "cell_type": "code",
   "execution_count": 94,
   "metadata": {},
   "outputs": [],
   "source": [
    "data = data.drop(['id','date','zipcode','lat','long'],axis=1)"
   ]
  },
  {
   "cell_type": "code",
   "execution_count": 95,
   "metadata": {},
   "outputs": [
    {
     "data": {
      "text/plain": [
       "((15129, 8), (6484, 8), (15129,), (6484,))"
      ]
     },
     "execution_count": 95,
     "metadata": {},
     "output_type": "execute_result"
    }
   ],
   "source": [
    "from sklearn.model_selection import train_test_split\n",
    "feature_columns = list(data.columns.difference(['price']))\n",
    "\n",
    "X = data[feature_columns]\n",
    "y = data['price']\n",
    "\n",
    "X_train, X_test, y_train, y_test = train_test_split(X, y, test_size=0.3)\n",
    "X_train.shape, X_test.shape, y_train.shape, y_test.shape"
   ]
  },
  {
   "cell_type": "code",
   "execution_count": 96,
   "metadata": {},
   "outputs": [],
   "source": [
    "from sklearn.preprocessing import StandardScaler\n",
    "\n",
    "ss_scaler = StandardScaler()\n",
    "\n",
    "X_train_scaled = ss_scaler.fit_transform(X_train)\n",
    "X_test_scaled = ss_scaler.transform(X_test)"
   ]
  },
  {
   "cell_type": "markdown",
   "metadata": {},
   "source": [
    "---\n",
    "---"
   ]
  },
  {
   "cell_type": "markdown",
   "metadata": {},
   "source": [
    "## lightgbm을 기본모델로 설정"
   ]
  },
  {
   "cell_type": "code",
   "execution_count": 97,
   "metadata": {},
   "outputs": [],
   "source": [
    "from lightgbm import LGBMRegressor\n",
    "from sklearn.metrics import mean_squared_error"
   ]
  },
  {
   "cell_type": "code",
   "execution_count": 99,
   "metadata": {},
   "outputs": [
    {
     "data": {
      "text/html": [
       "<div>\n",
       "<style scoped>\n",
       "    .dataframe tbody tr th:only-of-type {\n",
       "        vertical-align: middle;\n",
       "    }\n",
       "\n",
       "    .dataframe tbody tr th {\n",
       "        vertical-align: top;\n",
       "    }\n",
       "\n",
       "    .dataframe thead th {\n",
       "        text-align: right;\n",
       "    }\n",
       "</style>\n",
       "<table border=\"1\" class=\"dataframe\">\n",
       "  <thead>\n",
       "    <tr style=\"text-align: right;\">\n",
       "      <th></th>\n",
       "      <th>0</th>\n",
       "      <th>1</th>\n",
       "      <th>2</th>\n",
       "      <th>3</th>\n",
       "      <th>4</th>\n",
       "      <th>5</th>\n",
       "      <th>6</th>\n",
       "      <th>7</th>\n",
       "    </tr>\n",
       "  </thead>\n",
       "  <tbody>\n",
       "    <tr>\n",
       "      <th>13392</th>\n",
       "      <td>-0.469197</td>\n",
       "      <td>-0.412084</td>\n",
       "      <td>-0.626564</td>\n",
       "      <td>-0.915964</td>\n",
       "      <td>-0.554609</td>\n",
       "      <td>-0.084793</td>\n",
       "      <td>-0.130527</td>\n",
       "      <td>-0.210163</td>\n",
       "    </tr>\n",
       "    <tr>\n",
       "      <th>9229</th>\n",
       "      <td>0.501558</td>\n",
       "      <td>1.788558</td>\n",
       "      <td>0.918804</td>\n",
       "      <td>0.937650</td>\n",
       "      <td>0.293792</td>\n",
       "      <td>-0.084793</td>\n",
       "      <td>0.175171</td>\n",
       "      <td>-0.210163</td>\n",
       "    </tr>\n",
       "    <tr>\n",
       "      <th>14178</th>\n",
       "      <td>-0.469197</td>\n",
       "      <td>0.688237</td>\n",
       "      <td>-0.626564</td>\n",
       "      <td>-0.915964</td>\n",
       "      <td>0.293792</td>\n",
       "      <td>-0.084793</td>\n",
       "      <td>0.209138</td>\n",
       "      <td>-0.210163</td>\n",
       "    </tr>\n",
       "    <tr>\n",
       "      <th>10007</th>\n",
       "      <td>0.177973</td>\n",
       "      <td>0.688237</td>\n",
       "      <td>-0.626564</td>\n",
       "      <td>-0.915964</td>\n",
       "      <td>1.142193</td>\n",
       "      <td>-0.084793</td>\n",
       "      <td>-0.198460</td>\n",
       "      <td>-0.210163</td>\n",
       "    </tr>\n",
       "    <tr>\n",
       "      <th>3376</th>\n",
       "      <td>-0.469197</td>\n",
       "      <td>-0.412084</td>\n",
       "      <td>0.918804</td>\n",
       "      <td>-0.915964</td>\n",
       "      <td>-0.554609</td>\n",
       "      <td>-0.084793</td>\n",
       "      <td>0.446904</td>\n",
       "      <td>-0.210163</td>\n",
       "    </tr>\n",
       "  </tbody>\n",
       "</table>\n",
       "</div>"
      ],
      "text/plain": [
       "              0         1         2         3         4         5         6  \\\n",
       "13392 -0.469197 -0.412084 -0.626564 -0.915964 -0.554609 -0.084793 -0.130527   \n",
       "9229   0.501558  1.788558  0.918804  0.937650  0.293792 -0.084793  0.175171   \n",
       "14178 -0.469197  0.688237 -0.626564 -0.915964  0.293792 -0.084793  0.209138   \n",
       "10007  0.177973  0.688237 -0.626564 -0.915964  1.142193 -0.084793 -0.198460   \n",
       "3376  -0.469197 -0.412084  0.918804 -0.915964 -0.554609 -0.084793  0.446904   \n",
       "\n",
       "              7  \n",
       "13392 -0.210163  \n",
       "9229  -0.210163  \n",
       "14178 -0.210163  \n",
       "10007 -0.210163  \n",
       "3376  -0.210163  "
      ]
     },
     "execution_count": 99,
     "metadata": {},
     "output_type": "execute_result"
    }
   ],
   "source": [
    "X_train_scaled = pd.DataFrame(X_train_scaled, index=y_train.index)\n",
    "X_train_scaled.head()"
   ]
  },
  {
   "cell_type": "code",
   "execution_count": 100,
   "metadata": {},
   "outputs": [
    {
     "data": {
      "text/html": [
       "<div>\n",
       "<style scoped>\n",
       "    .dataframe tbody tr th:only-of-type {\n",
       "        vertical-align: middle;\n",
       "    }\n",
       "\n",
       "    .dataframe tbody tr th {\n",
       "        vertical-align: top;\n",
       "    }\n",
       "\n",
       "    .dataframe thead th {\n",
       "        text-align: right;\n",
       "    }\n",
       "</style>\n",
       "<table border=\"1\" class=\"dataframe\">\n",
       "  <thead>\n",
       "    <tr style=\"text-align: right;\">\n",
       "      <th></th>\n",
       "      <th>0</th>\n",
       "      <th>1</th>\n",
       "      <th>2</th>\n",
       "      <th>3</th>\n",
       "      <th>4</th>\n",
       "      <th>5</th>\n",
       "      <th>6</th>\n",
       "      <th>7</th>\n",
       "    </tr>\n",
       "  </thead>\n",
       "  <tbody>\n",
       "    <tr>\n",
       "      <th>1015</th>\n",
       "      <td>-1.439953</td>\n",
       "      <td>-0.412084</td>\n",
       "      <td>-0.626564</td>\n",
       "      <td>-0.915964</td>\n",
       "      <td>-0.554609</td>\n",
       "      <td>-0.084793</td>\n",
       "      <td>0.311038</td>\n",
       "      <td>-0.210163</td>\n",
       "    </tr>\n",
       "    <tr>\n",
       "      <th>14367</th>\n",
       "      <td>-1.439953</td>\n",
       "      <td>-2.612726</td>\n",
       "      <td>-2.171933</td>\n",
       "      <td>-0.915964</td>\n",
       "      <td>-1.403011</td>\n",
       "      <td>-0.084793</td>\n",
       "      <td>-2.202485</td>\n",
       "      <td>-0.210163</td>\n",
       "    </tr>\n",
       "    <tr>\n",
       "      <th>19025</th>\n",
       "      <td>-0.145612</td>\n",
       "      <td>-1.512405</td>\n",
       "      <td>-0.626564</td>\n",
       "      <td>0.010843</td>\n",
       "      <td>-0.554609</td>\n",
       "      <td>-0.084793</td>\n",
       "      <td>-1.659020</td>\n",
       "      <td>4.778336</td>\n",
       "    </tr>\n",
       "    <tr>\n",
       "      <th>3000</th>\n",
       "      <td>0.825143</td>\n",
       "      <td>0.688237</td>\n",
       "      <td>-0.626564</td>\n",
       "      <td>-0.915964</td>\n",
       "      <td>0.293792</td>\n",
       "      <td>-0.084793</td>\n",
       "      <td>0.311038</td>\n",
       "      <td>-0.210163</td>\n",
       "    </tr>\n",
       "    <tr>\n",
       "      <th>2377</th>\n",
       "      <td>-0.145612</td>\n",
       "      <td>1.788558</td>\n",
       "      <td>-0.626564</td>\n",
       "      <td>-0.915964</td>\n",
       "      <td>-0.554609</td>\n",
       "      <td>-0.084793</td>\n",
       "      <td>-0.334326</td>\n",
       "      <td>-0.210163</td>\n",
       "    </tr>\n",
       "  </tbody>\n",
       "</table>\n",
       "</div>"
      ],
      "text/plain": [
       "              0         1         2         3         4         5         6  \\\n",
       "1015  -1.439953 -0.412084 -0.626564 -0.915964 -0.554609 -0.084793  0.311038   \n",
       "14367 -1.439953 -2.612726 -2.171933 -0.915964 -1.403011 -0.084793 -2.202485   \n",
       "19025 -0.145612 -1.512405 -0.626564  0.010843 -0.554609 -0.084793 -1.659020   \n",
       "3000   0.825143  0.688237 -0.626564 -0.915964  0.293792 -0.084793  0.311038   \n",
       "2377  -0.145612  1.788558 -0.626564 -0.915964 -0.554609 -0.084793 -0.334326   \n",
       "\n",
       "              7  \n",
       "1015  -0.210163  \n",
       "14367 -0.210163  \n",
       "19025  4.778336  \n",
       "3000  -0.210163  \n",
       "2377  -0.210163  "
      ]
     },
     "execution_count": 100,
     "metadata": {},
     "output_type": "execute_result"
    }
   ],
   "source": [
    "X_test_scaled = pd.DataFrame(X_test_scaled, index=y_test.index)\n",
    "X_test_scaled.head()"
   ]
  },
  {
   "cell_type": "code",
   "execution_count": 101,
   "metadata": {
    "scrolled": false
   },
   "outputs": [
    {
     "name": "stdout",
     "output_type": "stream",
     "text": [
      "9605\n",
      "209502.35508623754\n",
      "9478\n",
      "204271.8841003677\n",
      "9572\n",
      "202583.7048758024\n",
      "9563\n",
      "203231.36273999474\n",
      "9498\n",
      "207739.2487651943\n",
      "9542\n",
      "207859.86562394793\n",
      "9589\n",
      "202564.16397220947\n",
      "9646\n",
      "204001.43135384095\n",
      "9559\n",
      "203229.7497710792\n",
      "9587\n",
      "207159.26981345282\n"
     ]
    }
   ],
   "source": [
    "bagging_predict_result = []\n",
    "for _ in range(10):\n",
    "    data_index = [data_index for data_index in range(X_train.shape[0])]\n",
    "    random_data_index = np.random.choice(data_index, X_train.shape[0])\n",
    "    print(len(set(random_data_index)))\n",
    "    bg_X_train = X_train_scaled.iloc[random_data_index,]\n",
    "    bg_y_train = y_train.iloc[random_data_index,]\n",
    "    lgbm = LGBMRegressor(n_estimators=500,learning_rate=0.01,max_depth=10)\n",
    "    evals = [(X_test, y_test)]\n",
    "    lgbm.fit(bg_X_train, bg_y_train, verbose=False)\n",
    "    lgbm_pred = lgbm.predict(X_test_scaled)\n",
    "    bagging_predict_result.append(lgbm_pred)\n",
    "    print(np.sqrt(mean_squared_error(y_test,lgbm_pred)))"
   ]
  },
  {
   "cell_type": "code",
   "execution_count": 102,
   "metadata": {},
   "outputs": [],
   "source": [
    "### 주의 values는 빠져야 한다!!!\n",
    "# Bagging을 바탕으로 예측한 결과값에 대한 평균을 계산\n",
    "bagging_predict = [] # 빈 리스트 생성\n",
    "for lst2_index in range(X_test.shape[0]): # 테스트 데이터 개수만큼의 반복\n",
    "    temp_predict = [] # 임시 빈 리스트 생성 (반복문 내 결과값 저장)\n",
    "    for lst_index in range(len(bagging_predict_result)): # Bagging 결과 리스트 반복\n",
    "        temp_predict.append(bagging_predict_result[lst_index][lst2_index]) # 각 Bagging 결과 예측한 값 중 같은 인덱스를 리스트에 저장\n",
    "    bagging_predict.append(np.mean(temp_predict))"
   ]
  },
  {
   "cell_type": "code",
   "execution_count": 103,
   "metadata": {},
   "outputs": [
    {
     "name": "stdout",
     "output_type": "stream",
     "text": [
      "201393.4939051154\n"
     ]
    }
   ],
   "source": [
    "print(np.sqrt(mean_squared_error(y_test,bagging_predict)))"
   ]
  }
 ],
 "metadata": {
  "kernelspec": {
   "display_name": "Python 3",
   "language": "python",
   "name": "python3"
  },
  "language_info": {
   "codemirror_mode": {
    "name": "ipython",
    "version": 3
   },
   "file_extension": ".py",
   "mimetype": "text/x-python",
   "name": "python",
   "nbconvert_exporter": "python",
   "pygments_lexer": "ipython3",
   "version": "3.8.5"
  }
 },
 "nbformat": 4,
 "nbformat_minor": 4
}
