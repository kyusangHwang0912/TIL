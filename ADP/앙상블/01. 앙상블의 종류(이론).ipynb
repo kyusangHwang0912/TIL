{
 "cells": [
  {
   "cell_type": "markdown",
   "metadata": {},
   "source": [
    "# 5장 앙상블(Ensemble)\n",
    "\n",
    "\n",
    "## 5장-0절. 앙상블 기본 개념 설명 "
   ]
  },
  {
   "cell_type": "markdown",
   "metadata": {},
   "source": [
    "### 앙상블의 종류\n",
    "- 투표 방식\n",
    "    - 여러개의 추정기(estimator)가 낸 결과들을 투표를 통해 최종 결과를 내는 방식\n",
    "    - 종류\n",
    "        - Bagging : 같은 유형의 알고리즘들을 조합하되 각각 학습하는 데이터를 다르게 한다.\n",
    "        - Voting : 서로 다른 종류의 알고리즘들을 결합한다.\n",
    "- 부스팅(Boosting)\n",
    "    - 약한 학습기(weak Learner)들을 결합해서 보다 정확하고 강력한 학습기(Strong Learner)를 만든다."
   ]
  },
  {
   "cell_type": "markdown",
   "metadata": {},
   "source": [
    "---\n",
    "---"
   ]
  },
  {
   "cell_type": "markdown",
   "metadata": {},
   "source": [
    "### 타이타닉 강의에서 사용한 매커니즘 설명\n",
    "- 부스팅모델과 배깅모델을 보팅의 여러모델 중 하나로 사용하였다. 결국 이것도 앙상블의 앙상블이라고 볼 수 있다."
   ]
  },
  {
   "cell_type": "markdown",
   "metadata": {},
   "source": [
    "- 매커니즘\n",
    "01. 모델들 하이퍼파라미터 조정없이 교차검증하면서 fit (부스팅, 배깅모델 포함)\n",
    "02. 변수 중요도 얻어내서 상위 381개만 잘라내기(모든변수 원핫인코딩해서 변수가 엄청많음)\n",
    "03. 변수 다시 정의\n",
    "04. 다시 교차검증해서 확인\n",
    "05. 하이퍼파라미터 튜닝\n",
    "06. 튜닝한 모델들로 다시 교차검증\n",
    "07. 정확도 높은모델 골라내기\n",
    "08. 그 모델들을 통해 voting해서 최종 예측"
   ]
  }
 ],
 "metadata": {
  "kernelspec": {
   "display_name": "Python 3",
   "language": "python",
   "name": "python3"
  },
  "language_info": {
   "codemirror_mode": {
    "name": "ipython",
    "version": 3
   },
   "file_extension": ".py",
   "mimetype": "text/x-python",
   "name": "python",
   "nbconvert_exporter": "python",
   "pygments_lexer": "ipython3",
   "version": "3.8.5"
  }
 },
 "nbformat": 4,
 "nbformat_minor": 4
}
