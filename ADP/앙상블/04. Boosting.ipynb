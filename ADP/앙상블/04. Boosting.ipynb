{
 "cells": [
  {
   "cell_type": "markdown",
   "metadata": {},
   "source": [
    "# 5장-3절. Boosting\n",
    "- 정의\n",
    "    - 여러 개의 weak learner를 순차적으로 학습-예측하면서 잘못 예측한 데이터에 가중치 부여를 통해 오류를 개선해 나가면서 학습하는 방식\n",
    "- 종류\n",
    "    - AdaBoost(Adptive boosting)\n",
    "    - Gradient Boosting Machine\n",
    "        - AdaBoost와의 차이는 경사 하강법을 이용하는 것이 큰 차이이다.\n",
    "        - 종류\n",
    "            - XGBoost\n",
    "            - LightGBM\n",
    "            - Catboost\n",
    "- gradienboosting과 adboost, xgboost는 중요변수 추출 메소드가 있다.\n",
    "- XGBoost 학습파라미터를 참고하면 된다."
   ]
  },
  {
   "cell_type": "markdown",
   "metadata": {},
   "source": [
    "---\n",
    "---"
   ]
  },
  {
   "cell_type": "markdown",
   "metadata": {},
   "source": [
    "# 01. AdaBoost\n",
    "- 하이퍼파라미터\n",
    "    - base_estimator\n",
    "        - 부스트 앙상블이 구축되는 기본 추정기 (default는 None = 결정나무)\n",
    "    - n_estimators\n",
    "        - 최대 추정기 수\n",
    "    - learning_rate\n",
    "        - 각 반복에서 각 분류기에 적용되는 가중치\n",
    "        - 학습률 높을수록 각 분류기의 기여도 높아짐\n",
    "        - n_estimators와 상호 보완적으로 조합해야 한다."
   ]
  },
  {
   "cell_type": "code",
   "execution_count": 41,
   "metadata": {},
   "outputs": [],
   "source": [
    "import os\n",
    "import pandas as pd\n",
    "import numpy as np\n",
    "import matplotlib.pyplot as plt\n",
    "%matplotlib inline\n",
    "import seaborn as sns\n",
    "import warnings\n",
    "warnings.filterwarnings('ignore')"
   ]
  },
  {
   "cell_type": "code",
   "execution_count": 42,
   "metadata": {},
   "outputs": [
    {
     "data": {
      "text/html": [
       "<div>\n",
       "<style scoped>\n",
       "    .dataframe tbody tr th:only-of-type {\n",
       "        vertical-align: middle;\n",
       "    }\n",
       "\n",
       "    .dataframe tbody tr th {\n",
       "        vertical-align: top;\n",
       "    }\n",
       "\n",
       "    .dataframe thead th {\n",
       "        text-align: right;\n",
       "    }\n",
       "</style>\n",
       "<table border=\"1\" class=\"dataframe\">\n",
       "  <thead>\n",
       "    <tr style=\"text-align: right;\">\n",
       "      <th></th>\n",
       "      <th>id</th>\n",
       "      <th>feat_1</th>\n",
       "      <th>feat_2</th>\n",
       "      <th>feat_3</th>\n",
       "      <th>feat_4</th>\n",
       "      <th>feat_5</th>\n",
       "      <th>feat_6</th>\n",
       "      <th>feat_7</th>\n",
       "      <th>feat_8</th>\n",
       "      <th>feat_9</th>\n",
       "      <th>...</th>\n",
       "      <th>feat_85</th>\n",
       "      <th>feat_86</th>\n",
       "      <th>feat_87</th>\n",
       "      <th>feat_88</th>\n",
       "      <th>feat_89</th>\n",
       "      <th>feat_90</th>\n",
       "      <th>feat_91</th>\n",
       "      <th>feat_92</th>\n",
       "      <th>feat_93</th>\n",
       "      <th>target</th>\n",
       "    </tr>\n",
       "  </thead>\n",
       "  <tbody>\n",
       "    <tr>\n",
       "      <th>0</th>\n",
       "      <td>1</td>\n",
       "      <td>1</td>\n",
       "      <td>0</td>\n",
       "      <td>0</td>\n",
       "      <td>0</td>\n",
       "      <td>0</td>\n",
       "      <td>0</td>\n",
       "      <td>0</td>\n",
       "      <td>0</td>\n",
       "      <td>0</td>\n",
       "      <td>...</td>\n",
       "      <td>1</td>\n",
       "      <td>0</td>\n",
       "      <td>0</td>\n",
       "      <td>0</td>\n",
       "      <td>0</td>\n",
       "      <td>0</td>\n",
       "      <td>0</td>\n",
       "      <td>0</td>\n",
       "      <td>0</td>\n",
       "      <td>Class_1</td>\n",
       "    </tr>\n",
       "    <tr>\n",
       "      <th>1</th>\n",
       "      <td>2</td>\n",
       "      <td>0</td>\n",
       "      <td>0</td>\n",
       "      <td>0</td>\n",
       "      <td>0</td>\n",
       "      <td>0</td>\n",
       "      <td>0</td>\n",
       "      <td>0</td>\n",
       "      <td>1</td>\n",
       "      <td>0</td>\n",
       "      <td>...</td>\n",
       "      <td>0</td>\n",
       "      <td>0</td>\n",
       "      <td>0</td>\n",
       "      <td>0</td>\n",
       "      <td>0</td>\n",
       "      <td>0</td>\n",
       "      <td>0</td>\n",
       "      <td>0</td>\n",
       "      <td>0</td>\n",
       "      <td>Class_1</td>\n",
       "    </tr>\n",
       "    <tr>\n",
       "      <th>2</th>\n",
       "      <td>3</td>\n",
       "      <td>0</td>\n",
       "      <td>0</td>\n",
       "      <td>0</td>\n",
       "      <td>0</td>\n",
       "      <td>0</td>\n",
       "      <td>0</td>\n",
       "      <td>0</td>\n",
       "      <td>1</td>\n",
       "      <td>0</td>\n",
       "      <td>...</td>\n",
       "      <td>0</td>\n",
       "      <td>0</td>\n",
       "      <td>0</td>\n",
       "      <td>0</td>\n",
       "      <td>0</td>\n",
       "      <td>0</td>\n",
       "      <td>0</td>\n",
       "      <td>0</td>\n",
       "      <td>0</td>\n",
       "      <td>Class_1</td>\n",
       "    </tr>\n",
       "    <tr>\n",
       "      <th>3</th>\n",
       "      <td>4</td>\n",
       "      <td>1</td>\n",
       "      <td>0</td>\n",
       "      <td>0</td>\n",
       "      <td>1</td>\n",
       "      <td>6</td>\n",
       "      <td>1</td>\n",
       "      <td>5</td>\n",
       "      <td>0</td>\n",
       "      <td>0</td>\n",
       "      <td>...</td>\n",
       "      <td>0</td>\n",
       "      <td>1</td>\n",
       "      <td>2</td>\n",
       "      <td>0</td>\n",
       "      <td>0</td>\n",
       "      <td>0</td>\n",
       "      <td>0</td>\n",
       "      <td>0</td>\n",
       "      <td>0</td>\n",
       "      <td>Class_1</td>\n",
       "    </tr>\n",
       "    <tr>\n",
       "      <th>4</th>\n",
       "      <td>5</td>\n",
       "      <td>0</td>\n",
       "      <td>0</td>\n",
       "      <td>0</td>\n",
       "      <td>0</td>\n",
       "      <td>0</td>\n",
       "      <td>0</td>\n",
       "      <td>0</td>\n",
       "      <td>0</td>\n",
       "      <td>0</td>\n",
       "      <td>...</td>\n",
       "      <td>1</td>\n",
       "      <td>0</td>\n",
       "      <td>0</td>\n",
       "      <td>0</td>\n",
       "      <td>0</td>\n",
       "      <td>1</td>\n",
       "      <td>0</td>\n",
       "      <td>0</td>\n",
       "      <td>0</td>\n",
       "      <td>Class_1</td>\n",
       "    </tr>\n",
       "  </tbody>\n",
       "</table>\n",
       "<p>5 rows × 95 columns</p>\n",
       "</div>"
      ],
      "text/plain": [
       "   id  feat_1  feat_2  feat_3  feat_4  feat_5  feat_6  feat_7  feat_8  feat_9  \\\n",
       "0   1       1       0       0       0       0       0       0       0       0   \n",
       "1   2       0       0       0       0       0       0       0       1       0   \n",
       "2   3       0       0       0       0       0       0       0       1       0   \n",
       "3   4       1       0       0       1       6       1       5       0       0   \n",
       "4   5       0       0       0       0       0       0       0       0       0   \n",
       "\n",
       "   ...  feat_85  feat_86  feat_87  feat_88  feat_89  feat_90  feat_91  \\\n",
       "0  ...        1        0        0        0        0        0        0   \n",
       "1  ...        0        0        0        0        0        0        0   \n",
       "2  ...        0        0        0        0        0        0        0   \n",
       "3  ...        0        1        2        0        0        0        0   \n",
       "4  ...        1        0        0        0        0        1        0   \n",
       "\n",
       "   feat_92  feat_93   target  \n",
       "0        0        0  Class_1  \n",
       "1        0        0  Class_1  \n",
       "2        0        0  Class_1  \n",
       "3        0        0  Class_1  \n",
       "4        0        0  Class_1  \n",
       "\n",
       "[5 rows x 95 columns]"
      ]
     },
     "execution_count": 42,
     "metadata": {},
     "output_type": "execute_result"
    }
   ],
   "source": [
    "data = pd.read_csv(\"./data/otto_train.csv\")\n",
    "data.head()"
   ]
  },
  {
   "cell_type": "code",
   "execution_count": 43,
   "metadata": {},
   "outputs": [],
   "source": [
    "data = data.drop(['id'], axis=1)"
   ]
  },
  {
   "cell_type": "code",
   "execution_count": 44,
   "metadata": {},
   "outputs": [],
   "source": [
    "mapping_dict = {\"Class_1\": 1,\n",
    "                \"Class_2\": 2,\n",
    "                \"Class_3\": 3,\n",
    "                \"Class_4\": 4,\n",
    "                \"Class_5\": 5,\n",
    "                \"Class_6\": 6,\n",
    "                \"Class_7\": 7,\n",
    "                \"Class_8\": 8,\n",
    "                \"Class_9\": 9}\n",
    "data['target'] = data['target'].apply(lambda x: mapping_dict[x])"
   ]
  },
  {
   "cell_type": "code",
   "execution_count": 45,
   "metadata": {},
   "outputs": [
    {
     "data": {
      "text/plain": [
       "((49502, 93), (49502,), (12376, 93), (12376,))"
      ]
     },
     "execution_count": 45,
     "metadata": {},
     "output_type": "execute_result"
    }
   ],
   "source": [
    "from sklearn.model_selection import train_test_split\n",
    "\n",
    "feature_columns = list(data.columns.difference(['target'])) # target을 제외한 모든 행\n",
    "\n",
    "X = data[feature_columns]\n",
    "y = data['target']\n",
    "X_train, X_test, y_train, y_test = train_test_split(X, y, test_size = 0.2,stratify=y, random_state = 42)\n",
    "X_train.shape, y_train.shape, X_test.shape, y_test.shape"
   ]
  },
  {
   "cell_type": "code",
   "execution_count": 46,
   "metadata": {},
   "outputs": [
    {
     "name": "stdout",
     "output_type": "stream",
     "text": [
      "0.6860859728506787\n"
     ]
    }
   ],
   "source": [
    "from sklearn.ensemble import AdaBoostClassifier\n",
    "from sklearn.tree import DecisionTreeClassifier\n",
    "from sklearn.metrics import accuracy_score\n",
    "\n",
    "clf = AdaBoostClassifier(n_estimators=100)\n",
    "clf.fit(X_train,y_train)\n",
    "pred1 = clf.predict(X_test)\n",
    "print(accuracy_score(y_test, pred1))"
   ]
  },
  {
   "cell_type": "code",
   "execution_count": 47,
   "metadata": {},
   "outputs": [
    {
     "name": "stdout",
     "output_type": "stream",
     "text": [
      "0.6936005171299289\n"
     ]
    }
   ],
   "source": [
    "tree_model = DecisionTreeClassifier(max_depth=5)\n",
    "clf = AdaBoostClassifier(base_estimator=tree_model, n_estimators=10)\n",
    "clf.fit(X_train,y_train)\n",
    "pred2 = clf.predict(X_test)\n",
    "print(accuracy_score(y_test,pred2))"
   ]
  },
  {
   "cell_type": "markdown",
   "metadata": {},
   "source": [
    "---\n",
    "---"
   ]
  },
  {
   "cell_type": "markdown",
   "metadata": {},
   "source": [
    "# 02. GBM(GradientBoostingMachine)\n",
    "- 하이퍼파라미터\n",
    "    - n_estimators\n",
    "    - max_depth\n",
    "    - max_features\n",
    "    - loss\n",
    "        - 경사 하강법에서 사용할 비용 함수 지정\n",
    "        - [‘deviance’, ‘exponential’], default=’deviance’\n",
    "    - learning_rate\n",
    "        - 학습 진행할 때마다 적용하는 학습률\n",
    "        - 0~1, default=0.1\n",
    "        - 너무 작은 값 적하면 예측 성능 높아질 가능성 높지만 수행시간 오래걸리고, 아예 최소오류값을 찾지 못할 수도 있다.\n",
    "        - 큰 값 적용하면 최소 오류 값 찾지 못하고 그냥 지나쳐버려 예측 성능 떨어질 가능성 높지만 빠른 수행 가능\n",
    "        - n_estimators와 상호 보완적으로 조합해야 한다.\n",
    "    - n_estimators\n",
    "        - weak leaner수의 개수\n",
    "        - 많을수록 일정 수준까지 좋아짐\n",
    "    - subsample\n",
    "        - weakl learner가 학습에 사용하는 데이터 샘플링 비율\n",
    "        - default = 1\n",
    "        - 과적합이 염려되는 경우 subsampling을 1보다 작은 값으로 설정한다."
   ]
  },
  {
   "cell_type": "code",
   "execution_count": 48,
   "metadata": {},
   "outputs": [
    {
     "data": {
      "text/plain": [
       "((49502, 93), (49502,), (12376, 93), (12376,))"
      ]
     },
     "execution_count": 48,
     "metadata": {},
     "output_type": "execute_result"
    }
   ],
   "source": [
    "from sklearn.ensemble import GradientBoostingClassifier\n",
    "\n",
    "X = data[feature_columns]\n",
    "y = data['target']\n",
    "X_train, X_test, y_train, y_test = train_test_split(X, y, test_size = 0.2,stratify=y, random_state = 42)\n",
    "X_train.shape, y_train.shape, X_test.shape, y_test.shape"
   ]
  },
  {
   "cell_type": "code",
   "execution_count": 49,
   "metadata": {},
   "outputs": [
    {
     "name": "stdout",
     "output_type": "stream",
     "text": [
      "GBM 정확도 : 0.7864\n",
      "GBM 수행시간 : 247.1\n"
     ]
    }
   ],
   "source": [
    "import time\n",
    "start_time = time.time()\n",
    "\n",
    "gb_clf = GradientBoostingClassifier()\n",
    "gb_clf.fit(X_train,y_train)\n",
    "gb_pred = gb_clf.predict(X_test)\n",
    "gb_accuracy = accuracy_score(y_test, gb_pred)\n",
    "print('GBM 정확도 : {0:.4f}'.format(gb_accuracy))\n",
    "print('GBM 수행시간 : {0:.1f}'.format(time.time() - start_time))"
   ]
  },
  {
   "cell_type": "markdown",
   "metadata": {},
   "source": [
    "---\n",
    "---"
   ]
  },
  {
   "cell_type": "markdown",
   "metadata": {},
   "source": [
    "# 03. XGBoost(eXtra Grandient Boost)\n",
    "- GBM 기반으로, GBM의 단점인 느린 수행 시간 및 과적합 규제 부재 등이 문제를 해결\n",
    "- 영향을 많이주는 파라미터는 max_depth, learning_rate, n_estimators 정도\n",
    "- 하이퍼파라미터\n",
    "    - n_estimators\n",
    "    - max_depth\n",
    "    - max_features\n",
    "    - learning_rate\n",
    "        - default = 0.1 , 보통 0.01~0.2 사이 값 선호\n",
    "    - n_estimators\n",
    "    - min_child_weight\n",
    "        - 트리에서 추가적으로 가지를 나눌지를 결정하기 위해 필요한 데이터들의 weight 총합\n",
    "        - 이 값이 클수록 분할을 자제한다. 과적합 조절하기 위해 사용\n",
    "        - default=1\n",
    "        \n",
    "    - min_split_loss\n",
    "        - 트리의 리프 노드를 추가적으로 나눌지를 결정할 최소 손실 감소 값\n",
    "        - 해당 값보다 큰 손실이 감소된 경우에 리프 노드를 분리한다. \n",
    "        - 값이 클수록 과적합 감소 효과\n",
    "        - default=0 \n",
    "    - subsample\n",
    "        - weakl learner가 학습에 사용하는 데이터 샘플링 비율\n",
    "        - default = 1\n",
    "        - 과적합이 염려되는 경우 subsampling을 1보다 작은 값으로 설정한다.\n",
    "- 학습 task 파라미터\n",
    "    - objective\n",
    "        - 최솟값을 가져야할 손실 함수 정의\n",
    "            - binary:logistic => 이진 분류일 때 적용\n",
    "            - multi:softmax => 다중 분류일 때 적용, 이때는 레이블 클래스의 개수인 num_class 파라미터를 지정해야 한다.\n",
    "            - multi:softprob => multi:softamx와 유사하나, 개별 레이블 클래스의 해당되는 예측 확률을 반환한다.\n",
    "    - evel_set\n",
    "        - 성능 평가를 수행할 평가용 데이터 세트를 설정\n",
    "    - early_stopping_rounds\n",
    "        - 지정한 수만큼 eval_meric기준 성능향상이 없으면 모델학습을 중단\n",
    "    - eval_metric\n",
    "        - 검증에 사용되는 함수를 정의\n",
    "        - 회귀의 경우 기본값=rmse, 분류일 경우에는 error이다.(주로 분류일 경우에는 error 또는 logloss 사용)\n",
    "            - rmse\n",
    "            - mse\n",
    "            - logloss\n",
    "            - error\n",
    "            - merror\n",
    "            - mlogloss\n",
    "            - auc\n",
    "        "
   ]
  },
  {
   "cell_type": "code",
   "execution_count": 54,
   "metadata": {},
   "outputs": [],
   "source": [
    "from xgboost import XGBClassifier\n",
    "\n",
    "xgb_wrapper = XGBClassifier(objective='multi:softmax',\n",
    "                            num_class= len(set(y_train)) + 1,\n",
    "                            n_estimators=100,\n",
    "                            learning_rate = 0.1,\n",
    "                            max_depth=10)\n",
    "xgb_wrapper.fit(X_train,y_train, eval_metric='merror')\n",
    "w_pred = xgb_wrapper.predict(X_test)\n",
    "w_pred_proba = xgb_wrapper.predict_proba(X_test)[:,1]"
   ]
  },
  {
   "cell_type": "code",
   "execution_count": 55,
   "metadata": {
    "scrolled": true
   },
   "outputs": [
    {
     "data": {
      "text/plain": [
       "0.8142372333548804"
      ]
     },
     "execution_count": 55,
     "metadata": {},
     "output_type": "execute_result"
    }
   ],
   "source": [
    "from sklearn.metrics import confusion_matrix, accuracy_score, f1_score\n",
    "\n",
    "accuracy_score(y_test,w_pred)"
   ]
  },
  {
   "cell_type": "code",
   "execution_count": null,
   "metadata": {},
   "outputs": [],
   "source": []
  },
  {
   "cell_type": "code",
   "execution_count": 58,
   "metadata": {
    "scrolled": true
   },
   "outputs": [
    {
     "name": "stdout",
     "output_type": "stream",
     "text": [
      "[0]\tvalidation_0-mlogloss:1.94112\n",
      "[1]\tvalidation_0-mlogloss:1.76105\n",
      "[2]\tvalidation_0-mlogloss:1.62111\n",
      "[3]\tvalidation_0-mlogloss:1.50690\n",
      "[4]\tvalidation_0-mlogloss:1.41049\n",
      "[5]\tvalidation_0-mlogloss:1.32834\n",
      "[6]\tvalidation_0-mlogloss:1.25596\n",
      "[7]\tvalidation_0-mlogloss:1.19278\n",
      "[8]\tvalidation_0-mlogloss:1.13685\n",
      "[9]\tvalidation_0-mlogloss:1.08689\n",
      "[10]\tvalidation_0-mlogloss:1.04266\n",
      "[11]\tvalidation_0-mlogloss:1.00229\n",
      "[12]\tvalidation_0-mlogloss:0.96534\n",
      "[13]\tvalidation_0-mlogloss:0.93164\n",
      "[14]\tvalidation_0-mlogloss:0.90107\n",
      "[15]\tvalidation_0-mlogloss:0.87300\n",
      "[16]\tvalidation_0-mlogloss:0.84769\n",
      "[17]\tvalidation_0-mlogloss:0.82478\n",
      "[18]\tvalidation_0-mlogloss:0.80361\n",
      "[19]\tvalidation_0-mlogloss:0.78397\n",
      "[20]\tvalidation_0-mlogloss:0.76601\n",
      "[21]\tvalidation_0-mlogloss:0.74928\n",
      "[22]\tvalidation_0-mlogloss:0.73400\n",
      "[23]\tvalidation_0-mlogloss:0.71975\n",
      "[24]\tvalidation_0-mlogloss:0.70669\n",
      "[25]\tvalidation_0-mlogloss:0.69448\n",
      "[26]\tvalidation_0-mlogloss:0.68294\n",
      "[27]\tvalidation_0-mlogloss:0.67222\n",
      "[28]\tvalidation_0-mlogloss:0.66231\n",
      "[29]\tvalidation_0-mlogloss:0.65294\n",
      "[30]\tvalidation_0-mlogloss:0.64430\n",
      "[31]\tvalidation_0-mlogloss:0.63611\n",
      "[32]\tvalidation_0-mlogloss:0.62882\n",
      "[33]\tvalidation_0-mlogloss:0.62180\n",
      "[34]\tvalidation_0-mlogloss:0.61533\n",
      "[35]\tvalidation_0-mlogloss:0.60923\n",
      "[36]\tvalidation_0-mlogloss:0.60332\n",
      "[37]\tvalidation_0-mlogloss:0.59761\n",
      "[38]\tvalidation_0-mlogloss:0.59257\n",
      "[39]\tvalidation_0-mlogloss:0.58762\n",
      "[40]\tvalidation_0-mlogloss:0.58293\n",
      "[41]\tvalidation_0-mlogloss:0.57864\n",
      "[42]\tvalidation_0-mlogloss:0.57473\n",
      "[43]\tvalidation_0-mlogloss:0.57090\n",
      "[44]\tvalidation_0-mlogloss:0.56752\n",
      "[45]\tvalidation_0-mlogloss:0.56395\n",
      "[46]\tvalidation_0-mlogloss:0.56098\n",
      "[47]\tvalidation_0-mlogloss:0.55779\n",
      "[48]\tvalidation_0-mlogloss:0.55481\n",
      "[49]\tvalidation_0-mlogloss:0.55206\n",
      "[50]\tvalidation_0-mlogloss:0.54931\n",
      "[51]\tvalidation_0-mlogloss:0.54708\n",
      "[52]\tvalidation_0-mlogloss:0.54442\n",
      "[53]\tvalidation_0-mlogloss:0.54221\n",
      "[54]\tvalidation_0-mlogloss:0.54003\n",
      "[55]\tvalidation_0-mlogloss:0.53758\n",
      "[56]\tvalidation_0-mlogloss:0.53556\n",
      "[57]\tvalidation_0-mlogloss:0.53365\n",
      "[58]\tvalidation_0-mlogloss:0.53183\n",
      "[59]\tvalidation_0-mlogloss:0.52984\n",
      "[60]\tvalidation_0-mlogloss:0.52805\n",
      "[61]\tvalidation_0-mlogloss:0.52639\n",
      "[62]\tvalidation_0-mlogloss:0.52479\n",
      "[63]\tvalidation_0-mlogloss:0.52346\n",
      "[64]\tvalidation_0-mlogloss:0.52199\n",
      "[65]\tvalidation_0-mlogloss:0.52076\n",
      "[66]\tvalidation_0-mlogloss:0.51953\n",
      "[67]\tvalidation_0-mlogloss:0.51854\n",
      "[68]\tvalidation_0-mlogloss:0.51728\n",
      "[69]\tvalidation_0-mlogloss:0.51618\n",
      "[70]\tvalidation_0-mlogloss:0.51488\n",
      "[71]\tvalidation_0-mlogloss:0.51387\n",
      "[72]\tvalidation_0-mlogloss:0.51277\n",
      "[73]\tvalidation_0-mlogloss:0.51188\n",
      "[74]\tvalidation_0-mlogloss:0.51079\n",
      "[75]\tvalidation_0-mlogloss:0.50973\n",
      "[76]\tvalidation_0-mlogloss:0.50885\n",
      "[77]\tvalidation_0-mlogloss:0.50807\n",
      "[78]\tvalidation_0-mlogloss:0.50719\n",
      "[79]\tvalidation_0-mlogloss:0.50641\n",
      "[80]\tvalidation_0-mlogloss:0.50550\n",
      "[81]\tvalidation_0-mlogloss:0.50455\n",
      "[82]\tvalidation_0-mlogloss:0.50376\n",
      "[83]\tvalidation_0-mlogloss:0.50294\n",
      "[84]\tvalidation_0-mlogloss:0.50225\n",
      "[85]\tvalidation_0-mlogloss:0.50147\n",
      "[86]\tvalidation_0-mlogloss:0.50043\n",
      "[87]\tvalidation_0-mlogloss:0.49975\n",
      "[88]\tvalidation_0-mlogloss:0.49893\n",
      "[89]\tvalidation_0-mlogloss:0.49825\n",
      "[90]\tvalidation_0-mlogloss:0.49775\n",
      "[91]\tvalidation_0-mlogloss:0.49704\n",
      "[92]\tvalidation_0-mlogloss:0.49655\n",
      "[93]\tvalidation_0-mlogloss:0.49589\n",
      "[94]\tvalidation_0-mlogloss:0.49522\n",
      "[95]\tvalidation_0-mlogloss:0.49448\n",
      "[96]\tvalidation_0-mlogloss:0.49384\n",
      "[97]\tvalidation_0-mlogloss:0.49337\n",
      "[98]\tvalidation_0-mlogloss:0.49255\n",
      "[99]\tvalidation_0-mlogloss:0.49218\n"
     ]
    }
   ],
   "source": [
    "from xgboost import XGBClassifier\n",
    "\n",
    "xgb_wrapper = XGBClassifier(objective='multi:softmax',\n",
    "                            num_class= len(set(y_train)) + 1,\n",
    "                            n_estimators=100,\n",
    "                            learning_rate = 0.1,\n",
    "                            max_depth=10)\n",
    "evals = [(X_test, y_test)]\n",
    "xgb_wrapper.fit(X_train,y_train, early_stopping_rounds=30, eval_metric='mlogloss',\n",
    "               eval_set=evals, verbose=True)\n",
    "ws100_pred = xgb_wrapper.predict(X_test)\n",
    "ws100_pred_proba = xgb_wrapper.predict_proba(X_test)[:,1]"
   ]
  },
  {
   "cell_type": "code",
   "execution_count": 75,
   "metadata": {},
   "outputs": [
    {
     "data": {
      "text/plain": [
       "<AxesSubplot:title={'center':'Feature importance'}, xlabel='F score', ylabel='Features'>"
      ]
     },
     "execution_count": 75,
     "metadata": {},
     "output_type": "execute_result"
    },
    {
     "data": {
      "image/png": "[encoded data removed]",
      "text/plain": [
       "<Figure size 720x864 with 1 Axes>"
      ]
     },
     "metadata": {
      "needs_background": "light"
     },
     "output_type": "display_data"
    }
   ],
   "source": [
    "from xgboost import plot_importance\n",
    "\n",
    "f, ax = plt.subplots(figsize=(10,12))\n",
    "plot_importance(xgb_wrapper,ax=ax,max_num_features=20)"
   ]
  },
  {
   "cell_type": "code",
   "execution_count": 79,
   "metadata": {},
   "outputs": [],
   "source": [
    "f_i = pd.Series(xgb_wrapper.feature_importances_, index=X_train.columns)\n",
    "f_i_top20 = f_i.sort_values(ascending=False)[:20]"
   ]
  },
  {
   "cell_type": "code",
   "execution_count": 80,
   "metadata": {},
   "outputs": [
    {
     "data": {
      "image/png": "[encoded data removed]",
      "text/plain": [
       "<Figure size 1080x432 with 1 Axes>"
      ]
     },
     "metadata": {
      "needs_background": "light"
     },
     "output_type": "display_data"
    }
   ],
   "source": [
    "plt.figure(figsize=(15,6))\n",
    "plt.title('Feature importance Top 20')\n",
    "sns.barplot(x=f_i_top20, y=f_i_top20.index)\n",
    "plt.show()"
   ]
  },
  {
   "cell_type": "markdown",
   "metadata": {},
   "source": [
    "---\n",
    "---"
   ]
  },
  {
   "cell_type": "markdown",
   "metadata": {},
   "source": [
    "## 04. LightGBM"
   ]
  },
  {
   "cell_type": "code",
   "execution_count": 81,
   "metadata": {},
   "outputs": [],
   "source": [
    "from sklearn.datasets import load_breast_cancer\n",
    "\n",
    "data = load_breast_cancer()\n",
    "X= data.data\n",
    "y= data.target\n",
    "\n",
    "X_train,X_test,y_train,y_test = train_test_split(X,y,test_size=0.2,stratify=y)"
   ]
  },
  {
   "cell_type": "code",
   "execution_count": 34,
   "metadata": {
    "scrolled": true
   },
   "outputs": [
    {
     "name": "stdout",
     "output_type": "stream",
     "text": [
      "[1]\tvalid_0's binary_logloss: 0.583308\n",
      "Training until validation scores don't improve for 100 rounds\n",
      "[2]\tvalid_0's binary_logloss: 0.52551\n",
      "[3]\tvalid_0's binary_logloss: 0.481243\n",
      "[4]\tvalid_0's binary_logloss: 0.4364\n",
      "[5]\tvalid_0's binary_logloss: 0.399007\n",
      "[6]\tvalid_0's binary_logloss: 0.365214\n",
      "[7]\tvalid_0's binary_logloss: 0.341984\n",
      "[8]\tvalid_0's binary_logloss: 0.318631\n",
      "[9]\tvalid_0's binary_logloss: 0.295924\n",
      "[10]\tvalid_0's binary_logloss: 0.276981\n",
      "[11]\tvalid_0's binary_logloss: 0.258847\n",
      "[12]\tvalid_0's binary_logloss: 0.245438\n",
      "[13]\tvalid_0's binary_logloss: 0.232831\n",
      "[14]\tvalid_0's binary_logloss: 0.221283\n",
      "[15]\tvalid_0's binary_logloss: 0.213049\n",
      "[16]\tvalid_0's binary_logloss: 0.204001\n",
      "[17]\tvalid_0's binary_logloss: 0.196427\n",
      "[18]\tvalid_0's binary_logloss: 0.188865\n",
      "[19]\tvalid_0's binary_logloss: 0.182296\n",
      "[20]\tvalid_0's binary_logloss: 0.176942\n",
      "[21]\tvalid_0's binary_logloss: 0.170566\n",
      "[22]\tvalid_0's binary_logloss: 0.163561\n",
      "[23]\tvalid_0's binary_logloss: 0.159973\n",
      "[24]\tvalid_0's binary_logloss: 0.157001\n",
      "[25]\tvalid_0's binary_logloss: 0.154129\n",
      "[26]\tvalid_0's binary_logloss: 0.151497\n",
      "[27]\tvalid_0's binary_logloss: 0.149848\n",
      "[28]\tvalid_0's binary_logloss: 0.148686\n",
      "[29]\tvalid_0's binary_logloss: 0.14725\n",
      "[30]\tvalid_0's binary_logloss: 0.146105\n",
      "[31]\tvalid_0's binary_logloss: 0.146021\n",
      "[32]\tvalid_0's binary_logloss: 0.145755\n",
      "[33]\tvalid_0's binary_logloss: 0.143994\n",
      "[34]\tvalid_0's binary_logloss: 0.144115\n",
      "[35]\tvalid_0's binary_logloss: 0.143561\n",
      "[36]\tvalid_0's binary_logloss: 0.14374\n",
      "[37]\tvalid_0's binary_logloss: 0.143158\n",
      "[38]\tvalid_0's binary_logloss: 0.143755\n",
      "[39]\tvalid_0's binary_logloss: 0.14344\n",
      "[40]\tvalid_0's binary_logloss: 0.144422\n",
      "[41]\tvalid_0's binary_logloss: 0.144535\n",
      "[42]\tvalid_0's binary_logloss: 0.145824\n",
      "[43]\tvalid_0's binary_logloss: 0.144669\n",
      "[44]\tvalid_0's binary_logloss: 0.146803\n",
      "[45]\tvalid_0's binary_logloss: 0.148983\n",
      "[46]\tvalid_0's binary_logloss: 0.148283\n",
      "[47]\tvalid_0's binary_logloss: 0.151123\n",
      "[48]\tvalid_0's binary_logloss: 0.150742\n",
      "[49]\tvalid_0's binary_logloss: 0.152968\n",
      "[50]\tvalid_0's binary_logloss: 0.152377\n",
      "[51]\tvalid_0's binary_logloss: 0.155221\n",
      "[52]\tvalid_0's binary_logloss: 0.155585\n",
      "[53]\tvalid_0's binary_logloss: 0.155326\n",
      "[54]\tvalid_0's binary_logloss: 0.157973\n",
      "[55]\tvalid_0's binary_logloss: 0.15997\n",
      "[56]\tvalid_0's binary_logloss: 0.159818\n",
      "[57]\tvalid_0's binary_logloss: 0.162371\n",
      "[58]\tvalid_0's binary_logloss: 0.162492\n",
      "[59]\tvalid_0's binary_logloss: 0.16519\n",
      "[60]\tvalid_0's binary_logloss: 0.165826\n",
      "[61]\tvalid_0's binary_logloss: 0.168893\n",
      "[62]\tvalid_0's binary_logloss: 0.169296\n",
      "[63]\tvalid_0's binary_logloss: 0.169965\n",
      "[64]\tvalid_0's binary_logloss: 0.170678\n",
      "[65]\tvalid_0's binary_logloss: 0.169749\n",
      "[66]\tvalid_0's binary_logloss: 0.170592\n",
      "[67]\tvalid_0's binary_logloss: 0.171506\n",
      "[68]\tvalid_0's binary_logloss: 0.174354\n",
      "[69]\tvalid_0's binary_logloss: 0.177553\n",
      "[70]\tvalid_0's binary_logloss: 0.180221\n",
      "[71]\tvalid_0's binary_logloss: 0.18118\n",
      "[72]\tvalid_0's binary_logloss: 0.184177\n",
      "[73]\tvalid_0's binary_logloss: 0.185573\n",
      "[74]\tvalid_0's binary_logloss: 0.18401\n",
      "[75]\tvalid_0's binary_logloss: 0.184707\n",
      "[76]\tvalid_0's binary_logloss: 0.187671\n",
      "[77]\tvalid_0's binary_logloss: 0.18591\n",
      "[78]\tvalid_0's binary_logloss: 0.186638\n",
      "[79]\tvalid_0's binary_logloss: 0.189287\n",
      "[80]\tvalid_0's binary_logloss: 0.191976\n",
      "[81]\tvalid_0's binary_logloss: 0.19194\n",
      "[82]\tvalid_0's binary_logloss: 0.193097\n",
      "[83]\tvalid_0's binary_logloss: 0.196374\n",
      "[84]\tvalid_0's binary_logloss: 0.19862\n",
      "[85]\tvalid_0's binary_logloss: 0.200971\n",
      "[86]\tvalid_0's binary_logloss: 0.202135\n",
      "[87]\tvalid_0's binary_logloss: 0.202973\n",
      "[88]\tvalid_0's binary_logloss: 0.20579\n",
      "[89]\tvalid_0's binary_logloss: 0.206142\n",
      "[90]\tvalid_0's binary_logloss: 0.20761\n",
      "[91]\tvalid_0's binary_logloss: 0.20844\n",
      "[92]\tvalid_0's binary_logloss: 0.211858\n",
      "[93]\tvalid_0's binary_logloss: 0.213267\n",
      "[94]\tvalid_0's binary_logloss: 0.215029\n",
      "[95]\tvalid_0's binary_logloss: 0.216364\n",
      "[96]\tvalid_0's binary_logloss: 0.214715\n",
      "[97]\tvalid_0's binary_logloss: 0.217714\n",
      "[98]\tvalid_0's binary_logloss: 0.216266\n",
      "[99]\tvalid_0's binary_logloss: 0.218444\n",
      "[100]\tvalid_0's binary_logloss: 0.221503\n",
      "[101]\tvalid_0's binary_logloss: 0.224758\n",
      "[102]\tvalid_0's binary_logloss: 0.226938\n",
      "[103]\tvalid_0's binary_logloss: 0.23025\n",
      "[104]\tvalid_0's binary_logloss: 0.231316\n",
      "[105]\tvalid_0's binary_logloss: 0.232424\n",
      "[106]\tvalid_0's binary_logloss: 0.235343\n",
      "[107]\tvalid_0's binary_logloss: 0.238572\n",
      "[108]\tvalid_0's binary_logloss: 0.239408\n",
      "[109]\tvalid_0's binary_logloss: 0.240505\n",
      "[110]\tvalid_0's binary_logloss: 0.243885\n",
      "[111]\tvalid_0's binary_logloss: 0.247186\n",
      "[112]\tvalid_0's binary_logloss: 0.250595\n",
      "[113]\tvalid_0's binary_logloss: 0.253929\n",
      "[114]\tvalid_0's binary_logloss: 0.254858\n",
      "[115]\tvalid_0's binary_logloss: 0.258115\n",
      "[116]\tvalid_0's binary_logloss: 0.26159\n",
      "[117]\tvalid_0's binary_logloss: 0.263759\n",
      "[118]\tvalid_0's binary_logloss: 0.265466\n",
      "[119]\tvalid_0's binary_logloss: 0.264595\n",
      "[120]\tvalid_0's binary_logloss: 0.267935\n",
      "[121]\tvalid_0's binary_logloss: 0.268979\n",
      "[122]\tvalid_0's binary_logloss: 0.269965\n",
      "[123]\tvalid_0's binary_logloss: 0.273405\n",
      "[124]\tvalid_0's binary_logloss: 0.275606\n",
      "[125]\tvalid_0's binary_logloss: 0.27686\n",
      "[126]\tvalid_0's binary_logloss: 0.280339\n",
      "[127]\tvalid_0's binary_logloss: 0.279743\n",
      "[128]\tvalid_0's binary_logloss: 0.281027\n",
      "[129]\tvalid_0's binary_logloss: 0.281076\n",
      "[130]\tvalid_0's binary_logloss: 0.284591\n",
      "[131]\tvalid_0's binary_logloss: 0.28663\n",
      "[132]\tvalid_0's binary_logloss: 0.286499\n",
      "[133]\tvalid_0's binary_logloss: 0.287903\n",
      "[134]\tvalid_0's binary_logloss: 0.291377\n",
      "[135]\tvalid_0's binary_logloss: 0.290994\n",
      "[136]\tvalid_0's binary_logloss: 0.294239\n",
      "[137]\tvalid_0's binary_logloss: 0.295693\n",
      "Early stopping, best iteration is:\n",
      "[37]\tvalid_0's binary_logloss: 0.143158\n"
     ]
    }
   ],
   "source": [
    "from lightgbm import LGBMClassifier\n",
    "\n",
    "lgbm_wrapper = LGBMClassifier(n_estimators=400)\n",
    "\n",
    "evals = [(X_test, y_test)]\n",
    "lgbm_wrapper.fit(X_train, y_train, early_stopping_rounds=100, eval_metric='logloss',\n",
    "                eval_set=evals, verbose=True)\n",
    "lgbm_pred = lgbm_wrapper.predict(X_test)\n",
    "lgbm_pred_proba = lgbm_wrapper.predict_proba(X_test)[:,1]"
   ]
  },
  {
   "cell_type": "code",
   "execution_count": 36,
   "metadata": {},
   "outputs": [
    {
     "name": "stdout",
     "output_type": "stream",
     "text": [
      "[[39  3]\n",
      " [ 1 71]]\n",
      "0.9649122807017544\n"
     ]
    }
   ],
   "source": [
    "from sklearn.metrics import confusion_matrix, accuracy_score\n",
    "\n",
    "print(confusion_matrix(y_test,lgbm_pred))\n",
    "print(accuracy_score(y_test,lgbm_pred))"
   ]
  },
  {
   "cell_type": "markdown",
   "metadata": {},
   "source": [
    "---\n",
    "---"
   ]
  },
  {
   "cell_type": "markdown",
   "metadata": {},
   "source": [
    "# 05. Catboost\n",
    "- categoricla feature를 one-hot-encoding 방식이 아니라, 수치형으로 변환하는 방법 제안한 것\n",
    "    - 따라서, categorical features가 많은 경우 잘 맞는다고 알려져 있다.\n",
    "- 하이퍼파리미터\n",
    "    - eval_metric\n",
    "        - ['Logloss', 'AUC']"
   ]
  },
  {
   "cell_type": "code",
   "execution_count": 93,
   "metadata": {
    "scrolled": true
   },
   "outputs": [
    {
     "name": "stdout",
     "output_type": "stream",
     "text": [
      "Learning rate set to 0.150835\n",
      "0:\ttest: 0.9510582\tbest: 0.9510582 (0)\ttotal: 26.5ms\tremaining: 10.6s\n",
      "1:\ttest: 0.9732143\tbest: 0.9732143 (1)\ttotal: 47.9ms\tremaining: 9.54s\n",
      "2:\ttest: 0.9798280\tbest: 0.9798280 (2)\ttotal: 70ms\tremaining: 9.27s\n",
      "3:\ttest: 0.9761905\tbest: 0.9798280 (2)\ttotal: 98.3ms\tremaining: 9.73s\n",
      "4:\ttest: 0.9785053\tbest: 0.9798280 (2)\ttotal: 117ms\tremaining: 9.21s\n",
      "5:\ttest: 0.9775132\tbest: 0.9798280 (2)\ttotal: 132ms\tremaining: 8.67s\n",
      "6:\ttest: 0.9755291\tbest: 0.9798280 (2)\ttotal: 148ms\tremaining: 8.33s\n",
      "7:\ttest: 0.9742063\tbest: 0.9798280 (2)\ttotal: 166ms\tremaining: 8.15s\n",
      "8:\ttest: 0.9738757\tbest: 0.9798280 (2)\ttotal: 186ms\tremaining: 8.06s\n",
      "9:\ttest: 0.9765212\tbest: 0.9798280 (2)\ttotal: 201ms\tremaining: 7.84s\n",
      "10:\ttest: 0.9735450\tbest: 0.9798280 (2)\ttotal: 216ms\tremaining: 7.63s\n",
      "11:\ttest: 0.9735450\tbest: 0.9798280 (2)\ttotal: 235ms\tremaining: 7.58s\n",
      "12:\ttest: 0.9728836\tbest: 0.9798280 (2)\ttotal: 250ms\tremaining: 7.43s\n",
      "13:\ttest: 0.9718915\tbest: 0.9798280 (2)\ttotal: 265ms\tremaining: 7.29s\n",
      "14:\ttest: 0.9718915\tbest: 0.9798280 (2)\ttotal: 281ms\tremaining: 7.22s\n",
      "15:\ttest: 0.9718915\tbest: 0.9798280 (2)\ttotal: 296ms\tremaining: 7.09s\n",
      "16:\ttest: 0.9715608\tbest: 0.9798280 (2)\ttotal: 310ms\tremaining: 6.98s\n",
      "17:\ttest: 0.9715608\tbest: 0.9798280 (2)\ttotal: 330ms\tremaining: 7.01s\n",
      "18:\ttest: 0.9751984\tbest: 0.9798280 (2)\ttotal: 356ms\tremaining: 7.13s\n",
      "19:\ttest: 0.9745370\tbest: 0.9798280 (2)\ttotal: 374ms\tremaining: 7.1s\n",
      "20:\ttest: 0.9742063\tbest: 0.9798280 (2)\ttotal: 390ms\tremaining: 7.04s\n",
      "21:\ttest: 0.9742063\tbest: 0.9798280 (2)\ttotal: 406ms\tremaining: 6.98s\n",
      "22:\ttest: 0.9745370\tbest: 0.9798280 (2)\ttotal: 428ms\tremaining: 7.02s\n",
      "23:\ttest: 0.9765212\tbest: 0.9798280 (2)\ttotal: 445ms\tremaining: 6.97s\n",
      "24:\ttest: 0.9771825\tbest: 0.9798280 (2)\ttotal: 459ms\tremaining: 6.89s\n",
      "25:\ttest: 0.9765212\tbest: 0.9798280 (2)\ttotal: 474ms\tremaining: 6.81s\n",
      "26:\ttest: 0.9775132\tbest: 0.9798280 (2)\ttotal: 491ms\tremaining: 6.78s\n",
      "27:\ttest: 0.9765212\tbest: 0.9798280 (2)\ttotal: 518ms\tremaining: 6.88s\n",
      "28:\ttest: 0.9801587\tbest: 0.9801587 (28)\ttotal: 533ms\tremaining: 6.82s\n",
      "29:\ttest: 0.9788360\tbest: 0.9801587 (28)\ttotal: 556ms\tremaining: 6.86s\n",
      "30:\ttest: 0.9791667\tbest: 0.9801587 (28)\ttotal: 578ms\tremaining: 6.88s\n",
      "31:\ttest: 0.9778439\tbest: 0.9801587 (28)\ttotal: 595ms\tremaining: 6.84s\n",
      "32:\ttest: 0.9775132\tbest: 0.9801587 (28)\ttotal: 617ms\tremaining: 6.87s\n",
      "33:\ttest: 0.9785053\tbest: 0.9801587 (28)\ttotal: 635ms\tremaining: 6.83s\n",
      "34:\ttest: 0.9778439\tbest: 0.9801587 (28)\ttotal: 653ms\tremaining: 6.81s\n",
      "35:\ttest: 0.9808201\tbest: 0.9808201 (35)\ttotal: 675ms\tremaining: 6.82s\n",
      "36:\ttest: 0.9814815\tbest: 0.9814815 (36)\ttotal: 705ms\tremaining: 6.92s\n",
      "37:\ttest: 0.9814815\tbest: 0.9814815 (36)\ttotal: 737ms\tremaining: 7.02s\n",
      "38:\ttest: 0.9808201\tbest: 0.9814815 (36)\ttotal: 755ms\tremaining: 6.99s\n",
      "39:\ttest: 0.9794974\tbest: 0.9814815 (36)\ttotal: 771ms\tremaining: 6.94s\n",
      "40:\ttest: 0.9798280\tbest: 0.9814815 (36)\ttotal: 821ms\tremaining: 7.19s\n",
      "41:\ttest: 0.9801587\tbest: 0.9814815 (36)\ttotal: 841ms\tremaining: 7.17s\n",
      "42:\ttest: 0.9808201\tbest: 0.9814815 (36)\ttotal: 858ms\tremaining: 7.12s\n",
      "43:\ttest: 0.9801587\tbest: 0.9814815 (36)\ttotal: 882ms\tremaining: 7.14s\n",
      "44:\ttest: 0.9804894\tbest: 0.9814815 (36)\ttotal: 901ms\tremaining: 7.11s\n",
      "45:\ttest: 0.9818122\tbest: 0.9818122 (45)\ttotal: 932ms\tremaining: 7.17s\n",
      "46:\ttest: 0.9821429\tbest: 0.9821429 (46)\ttotal: 956ms\tremaining: 7.18s\n",
      "47:\ttest: 0.9828042\tbest: 0.9828042 (47)\ttotal: 974ms\tremaining: 7.14s\n",
      "48:\ttest: 0.9814815\tbest: 0.9828042 (47)\ttotal: 990ms\tremaining: 7.09s\n",
      "49:\ttest: 0.9814815\tbest: 0.9828042 (47)\ttotal: 1.01s\tremaining: 7.04s\n",
      "50:\ttest: 0.9818122\tbest: 0.9828042 (47)\ttotal: 1.02s\tremaining: 7.02s\n",
      "51:\ttest: 0.9811508\tbest: 0.9828042 (47)\ttotal: 1.04s\tremaining: 6.96s\n",
      "52:\ttest: 0.9811508\tbest: 0.9828042 (47)\ttotal: 1.06s\tremaining: 6.94s\n",
      "53:\ttest: 0.9808201\tbest: 0.9828042 (47)\ttotal: 1.07s\tremaining: 6.88s\n",
      "54:\ttest: 0.9808201\tbest: 0.9828042 (47)\ttotal: 1.09s\tremaining: 6.82s\n",
      "55:\ttest: 0.9811508\tbest: 0.9828042 (47)\ttotal: 1.11s\tremaining: 6.8s\n",
      "56:\ttest: 0.9808201\tbest: 0.9828042 (47)\ttotal: 1.12s\tremaining: 6.76s\n",
      "57:\ttest: 0.9798280\tbest: 0.9828042 (47)\ttotal: 1.14s\tremaining: 6.74s\n",
      "58:\ttest: 0.9794974\tbest: 0.9828042 (47)\ttotal: 1.16s\tremaining: 6.7s\n",
      "59:\ttest: 0.9794974\tbest: 0.9828042 (47)\ttotal: 1.18s\tremaining: 6.66s\n",
      "60:\ttest: 0.9794974\tbest: 0.9828042 (47)\ttotal: 1.19s\tremaining: 6.61s\n",
      "61:\ttest: 0.9804894\tbest: 0.9828042 (47)\ttotal: 1.28s\tremaining: 6.99s\n",
      "62:\ttest: 0.9801587\tbest: 0.9828042 (47)\ttotal: 1.34s\tremaining: 7.16s\n",
      "63:\ttest: 0.9801587\tbest: 0.9828042 (47)\ttotal: 1.37s\tremaining: 7.21s\n",
      "64:\ttest: 0.9801587\tbest: 0.9828042 (47)\ttotal: 1.41s\tremaining: 7.28s\n",
      "65:\ttest: 0.9801587\tbest: 0.9828042 (47)\ttotal: 1.44s\tremaining: 7.27s\n",
      "66:\ttest: 0.9798280\tbest: 0.9828042 (47)\ttotal: 1.46s\tremaining: 7.25s\n",
      "67:\ttest: 0.9798280\tbest: 0.9828042 (47)\ttotal: 1.48s\tremaining: 7.21s\n",
      "68:\ttest: 0.9791667\tbest: 0.9828042 (47)\ttotal: 1.49s\tremaining: 7.17s\n",
      "69:\ttest: 0.9791667\tbest: 0.9828042 (47)\ttotal: 1.51s\tremaining: 7.12s\n",
      "70:\ttest: 0.9791667\tbest: 0.9828042 (47)\ttotal: 1.52s\tremaining: 7.07s\n",
      "71:\ttest: 0.9791667\tbest: 0.9828042 (47)\ttotal: 1.54s\tremaining: 7.01s\n",
      "72:\ttest: 0.9791667\tbest: 0.9828042 (47)\ttotal: 1.56s\tremaining: 6.98s\n",
      "73:\ttest: 0.9798280\tbest: 0.9828042 (47)\ttotal: 1.58s\tremaining: 6.94s\n",
      "74:\ttest: 0.9798280\tbest: 0.9828042 (47)\ttotal: 1.6s\tremaining: 6.92s\n",
      "75:\ttest: 0.9794974\tbest: 0.9828042 (47)\ttotal: 1.61s\tremaining: 6.88s\n",
      "76:\ttest: 0.9794974\tbest: 0.9828042 (47)\ttotal: 1.63s\tremaining: 6.84s\n",
      "77:\ttest: 0.9798280\tbest: 0.9828042 (47)\ttotal: 1.65s\tremaining: 6.79s\n",
      "78:\ttest: 0.9798280\tbest: 0.9828042 (47)\ttotal: 1.66s\tremaining: 6.74s\n",
      "79:\ttest: 0.9798280\tbest: 0.9828042 (47)\ttotal: 1.67s\tremaining: 6.69s\n",
      "80:\ttest: 0.9798280\tbest: 0.9828042 (47)\ttotal: 1.69s\tremaining: 6.65s\n",
      "81:\ttest: 0.9801587\tbest: 0.9828042 (47)\ttotal: 1.7s\tremaining: 6.6s\n",
      "82:\ttest: 0.9798280\tbest: 0.9828042 (47)\ttotal: 1.72s\tremaining: 6.56s\n",
      "83:\ttest: 0.9798280\tbest: 0.9828042 (47)\ttotal: 1.73s\tremaining: 6.52s\n",
      "84:\ttest: 0.9798280\tbest: 0.9828042 (47)\ttotal: 1.75s\tremaining: 6.48s\n",
      "85:\ttest: 0.9798280\tbest: 0.9828042 (47)\ttotal: 1.77s\tremaining: 6.46s\n",
      "86:\ttest: 0.9794974\tbest: 0.9828042 (47)\ttotal: 1.79s\tremaining: 6.45s\n",
      "87:\ttest: 0.9798280\tbest: 0.9828042 (47)\ttotal: 1.84s\tremaining: 6.52s\n",
      "88:\ttest: 0.9798280\tbest: 0.9828042 (47)\ttotal: 1.86s\tremaining: 6.49s\n",
      "89:\ttest: 0.9798280\tbest: 0.9828042 (47)\ttotal: 1.87s\tremaining: 6.46s\n",
      "90:\ttest: 0.9794974\tbest: 0.9828042 (47)\ttotal: 1.89s\tremaining: 6.43s\n",
      "91:\ttest: 0.9794974\tbest: 0.9828042 (47)\ttotal: 1.91s\tremaining: 6.4s\n",
      "92:\ttest: 0.9794974\tbest: 0.9828042 (47)\ttotal: 1.93s\tremaining: 6.38s\n",
      "93:\ttest: 0.9794974\tbest: 0.9828042 (47)\ttotal: 1.95s\tremaining: 6.34s\n",
      "94:\ttest: 0.9794974\tbest: 0.9828042 (47)\ttotal: 1.97s\tremaining: 6.31s\n",
      "95:\ttest: 0.9794974\tbest: 0.9828042 (47)\ttotal: 1.98s\tremaining: 6.28s\n",
      "96:\ttest: 0.9798280\tbest: 0.9828042 (47)\ttotal: 2.01s\tremaining: 6.27s\n",
      "97:\ttest: 0.9801587\tbest: 0.9828042 (47)\ttotal: 2.02s\tremaining: 6.24s\n",
      "98:\ttest: 0.9801587\tbest: 0.9828042 (47)\ttotal: 2.04s\tremaining: 6.2s\n",
      "99:\ttest: 0.9801587\tbest: 0.9828042 (47)\ttotal: 2.06s\tremaining: 6.17s\n",
      "100:\ttest: 0.9801587\tbest: 0.9828042 (47)\ttotal: 2.07s\tremaining: 6.13s\n",
      "101:\ttest: 0.9801587\tbest: 0.9828042 (47)\ttotal: 2.08s\tremaining: 6.09s\n",
      "102:\ttest: 0.9801587\tbest: 0.9828042 (47)\ttotal: 2.1s\tremaining: 6.05s\n",
      "103:\ttest: 0.9801587\tbest: 0.9828042 (47)\ttotal: 2.12s\tremaining: 6.04s\n",
      "104:\ttest: 0.9801587\tbest: 0.9828042 (47)\ttotal: 2.14s\tremaining: 6.01s\n",
      "105:\ttest: 0.9798280\tbest: 0.9828042 (47)\ttotal: 2.15s\tremaining: 5.97s\n",
      "106:\ttest: 0.9798280\tbest: 0.9828042 (47)\ttotal: 2.17s\tremaining: 5.94s\n",
      "107:\ttest: 0.9798280\tbest: 0.9828042 (47)\ttotal: 2.19s\tremaining: 5.93s\n",
      "108:\ttest: 0.9798280\tbest: 0.9828042 (47)\ttotal: 2.21s\tremaining: 5.91s\n",
      "109:\ttest: 0.9798280\tbest: 0.9828042 (47)\ttotal: 2.23s\tremaining: 5.88s\n",
      "110:\ttest: 0.9798280\tbest: 0.9828042 (47)\ttotal: 2.24s\tremaining: 5.84s\n",
      "111:\ttest: 0.9798280\tbest: 0.9828042 (47)\ttotal: 2.26s\tremaining: 5.81s\n",
      "112:\ttest: 0.9798280\tbest: 0.9828042 (47)\ttotal: 2.27s\tremaining: 5.78s\n",
      "113:\ttest: 0.9798280\tbest: 0.9828042 (47)\ttotal: 2.29s\tremaining: 5.75s\n",
      "114:\ttest: 0.9798280\tbest: 0.9828042 (47)\ttotal: 2.31s\tremaining: 5.72s\n",
      "115:\ttest: 0.9798280\tbest: 0.9828042 (47)\ttotal: 2.32s\tremaining: 5.69s\n",
      "116:\ttest: 0.9791667\tbest: 0.9828042 (47)\ttotal: 2.34s\tremaining: 5.66s\n",
      "117:\ttest: 0.9794974\tbest: 0.9828042 (47)\ttotal: 2.35s\tremaining: 5.62s\n",
      "118:\ttest: 0.9798280\tbest: 0.9828042 (47)\ttotal: 2.37s\tremaining: 5.59s\n",
      "119:\ttest: 0.9798280\tbest: 0.9828042 (47)\ttotal: 2.39s\tremaining: 5.57s\n",
      "120:\ttest: 0.9798280\tbest: 0.9828042 (47)\ttotal: 2.4s\tremaining: 5.54s\n"
     ]
    },
    {
     "name": "stdout",
     "output_type": "stream",
     "text": [
      "121:\ttest: 0.9794974\tbest: 0.9828042 (47)\ttotal: 2.42s\tremaining: 5.51s\n",
      "122:\ttest: 0.9794974\tbest: 0.9828042 (47)\ttotal: 2.44s\tremaining: 5.49s\n",
      "123:\ttest: 0.9798280\tbest: 0.9828042 (47)\ttotal: 2.47s\tremaining: 5.49s\n",
      "124:\ttest: 0.9798280\tbest: 0.9828042 (47)\ttotal: 2.51s\tremaining: 5.52s\n",
      "125:\ttest: 0.9798280\tbest: 0.9828042 (47)\ttotal: 2.53s\tremaining: 5.51s\n",
      "126:\ttest: 0.9794974\tbest: 0.9828042 (47)\ttotal: 2.56s\tremaining: 5.49s\n",
      "127:\ttest: 0.9794974\tbest: 0.9828042 (47)\ttotal: 2.58s\tremaining: 5.48s\n",
      "128:\ttest: 0.9794974\tbest: 0.9828042 (47)\ttotal: 2.61s\tremaining: 5.47s\n",
      "129:\ttest: 0.9794974\tbest: 0.9828042 (47)\ttotal: 2.63s\tremaining: 5.45s\n",
      "130:\ttest: 0.9794974\tbest: 0.9828042 (47)\ttotal: 2.64s\tremaining: 5.42s\n",
      "131:\ttest: 0.9794974\tbest: 0.9828042 (47)\ttotal: 2.65s\tremaining: 5.39s\n",
      "132:\ttest: 0.9794974\tbest: 0.9828042 (47)\ttotal: 2.67s\tremaining: 5.36s\n",
      "133:\ttest: 0.9794974\tbest: 0.9828042 (47)\ttotal: 2.68s\tremaining: 5.33s\n",
      "134:\ttest: 0.9798280\tbest: 0.9828042 (47)\ttotal: 2.7s\tremaining: 5.3s\n",
      "135:\ttest: 0.9798280\tbest: 0.9828042 (47)\ttotal: 2.71s\tremaining: 5.27s\n",
      "136:\ttest: 0.9798280\tbest: 0.9828042 (47)\ttotal: 2.73s\tremaining: 5.24s\n",
      "137:\ttest: 0.9798280\tbest: 0.9828042 (47)\ttotal: 2.74s\tremaining: 5.2s\n",
      "138:\ttest: 0.9798280\tbest: 0.9828042 (47)\ttotal: 2.75s\tremaining: 5.17s\n",
      "139:\ttest: 0.9798280\tbest: 0.9828042 (47)\ttotal: 2.77s\tremaining: 5.14s\n",
      "140:\ttest: 0.9798280\tbest: 0.9828042 (47)\ttotal: 2.78s\tremaining: 5.12s\n",
      "141:\ttest: 0.9798280\tbest: 0.9828042 (47)\ttotal: 2.8s\tremaining: 5.08s\n",
      "142:\ttest: 0.9798280\tbest: 0.9828042 (47)\ttotal: 2.82s\tremaining: 5.06s\n",
      "143:\ttest: 0.9798280\tbest: 0.9828042 (47)\ttotal: 2.83s\tremaining: 5.03s\n",
      "144:\ttest: 0.9798280\tbest: 0.9828042 (47)\ttotal: 2.85s\tremaining: 5s\n",
      "145:\ttest: 0.9798280\tbest: 0.9828042 (47)\ttotal: 2.86s\tremaining: 4.97s\n",
      "146:\ttest: 0.9798280\tbest: 0.9828042 (47)\ttotal: 2.87s\tremaining: 4.94s\n",
      "147:\ttest: 0.9794974\tbest: 0.9828042 (47)\ttotal: 2.89s\tremaining: 4.92s\n",
      "Stopped by overfitting detector  (100 iterations wait)\n",
      "\n",
      "bestTest = 0.9828042328\n",
      "bestIteration = 47\n",
      "\n",
      "Shrink model to first 48 iterations.\n"
     ]
    }
   ],
   "source": [
    "from catboost import CatBoostClassifier\n",
    "\n",
    "\n",
    "\n",
    "cat_wrapper = CatBoostClassifier(n_estimators=400,\n",
    "                                 eval_metric='AUC',\n",
    "                                 objective = 'MultiClass',\n",
    "                                )\n",
    "evals = [(X_test, y_test)]\n",
    "\n",
    "cat_wrapper.fit(X_train, y_train,eval_set=evals,early_stopping_rounds=100)\n",
    "cat_pred = cat_wrapper.predict(X_test)\n",
    "cat_pred_proba = cat_wrapper.predict_proba(X_test)[:,1]"
   ]
  }
 ],
 "metadata": {
  "kernelspec": {
   "display_name": "Python 3",
   "language": "python",
   "name": "python3"
  },
  "language_info": {
   "codemirror_mode": {
    "name": "ipython",
    "version": 3
   },
   "file_extension": ".py",
   "mimetype": "text/x-python",
   "name": "python",
   "nbconvert_exporter": "python",
   "pygments_lexer": "ipython3",
   "version": "3.8.5"
  }
 },
 "nbformat": 4,
 "nbformat_minor": 4
}
