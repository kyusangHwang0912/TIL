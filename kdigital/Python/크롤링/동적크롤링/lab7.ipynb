{
 "cells": [
  {
   "cell_type": "code",
   "execution_count": 44,
   "id": "9dcae7b8-4faf-4027-bbe0-04e2d618571e",
   "metadata": {
    "tags": []
   },
   "outputs": [
    {
     "name": "stdout",
     "output_type": "stream",
     "text": [
      "마지막페이지 입니다.\n"
     ]
    }
   ],
   "source": [
    "from selenium import webdriver\n",
    "import time\n",
    "import re\n",
    "\n",
    "driver = webdriver.Chrome('C:/Temp/chromedriver')\n",
    "driver.implicitly_wait(3) \n",
    "driver.get(\"http://gs25.gsretail.com/gscvs/ko/products/event-goods\")\n",
    "\n",
    "goodsname = []\n",
    "goodsprice = []\n",
    "\n",
    "two_one = driver.find_element_by_css_selector('li:nth-child(2) > span')\n",
    "two_one.click()\n",
    "time.sleep(1)\n",
    "\n",
    "while True:\n",
    "    goodsnameList_temp = driver.find_elements_by_css_selector('div.cnt_section.mt50 p.tit')\n",
    "    goodspriceList_temp = driver.find_elements_by_css_selector('div.cnt_section.mt50 p.price > span')\n",
    "\n",
    "    for goodsname_dom,goodsprice_dom in zip(goodsnameList_temp,goodspriceList_temp):\n",
    "        if (len(goodsname_dom.text)>0) | (len(goodsprice_dom.text)>0):\n",
    "            goodsname.append(goodsname_dom.text)\n",
    "            goodsprice.append(re.sub(',|원', '', goodsprice_dom.text))\n",
    "\n",
    "    next_page = driver.find_element_by_css_selector('div.cnt_section.mt50 > div > div > div:nth-child(5) > div > a.next')\n",
    "    next_page.click()\n",
    "    time.sleep(0.5) \n",
    "    \n",
    "    # 마지막페이지 자동종료 위해\n",
    "    goodsnameList = driver.find_elements_by_css_selector('div.cnt_section.mt50 p.tit')\n",
    "    goodspriceList = driver.find_elements_by_css_selector('div.cnt_section.mt50 p.price > span')\n",
    "    \n",
    "    if goodsnameList_temp == goodsnameList:\n",
    "        print(\"마지막페이지 입니다.\")\n",
    "        break\n"
   ]
  },
  {
   "cell_type": "code",
   "execution_count": 46,
   "id": "40ea7381-189b-4660-a994-6e441a052b7a",
   "metadata": {},
   "outputs": [],
   "source": [
    "with open('gs25_twotoone.csv', \"wt\", encoding=\"utf-8\") as f:\n",
    "    f.write('goodsname,goodsprice\\n')  \n",
    "    for i in range(len(goodsname)):\n",
    "        f.write(goodsname[i]+','+goodsprice[i]+'\\n')"
   ]
  }
 ],
 "metadata": {
  "kernelspec": {
   "display_name": "pydatavenv",
   "language": "python",
   "name": "pydatavenv"
  },
  "language_info": {
   "codemirror_mode": {
    "name": "ipython",
    "version": 3
   },
   "file_extension": ".py",
   "mimetype": "text/x-python",
   "name": "python",
   "nbconvert_exporter": "python",
   "pygments_lexer": "ipython3",
   "version": "3.8.8"
  }
 },
 "nbformat": 4,
 "nbformat_minor": 5
}
