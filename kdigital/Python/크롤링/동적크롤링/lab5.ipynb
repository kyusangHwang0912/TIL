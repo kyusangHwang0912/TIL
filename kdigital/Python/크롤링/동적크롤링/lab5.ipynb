{
 "cells": [
  {
   "cell_type": "code",
   "execution_count": 2,
   "id": "10be303e-a22c-4542-aa51-2e97aa8f4f68",
   "metadata": {},
   "outputs": [
    {
     "name": "stdout",
     "output_type": "stream",
     "text": [
      "WebDriver 객체 :  <class 'selenium.webdriver.chrome.webdriver.WebDriver'>\n"
     ]
    }
   ],
   "source": [
    "from selenium import webdriver\n",
    "from selenium.webdriver.common.keys import Keys \n",
    "\n",
    "driver = webdriver.Chrome('C:/Temp/chromedriver')\n",
    "print(\"WebDriver 객체 : \", type(driver))"
   ]
  },
  {
   "cell_type": "code",
   "execution_count": 3,
   "id": "47373406-68f1-426c-9c49-6b3280c0ff36",
   "metadata": {},
   "outputs": [],
   "source": [
    "driver.get('http://www.naver.com')\n",
    "target=driver.find_element_by_css_selector(\"[name = 'query']\")\n",
    "target.send_keys('파이썬')\n",
    "target.send_keys(Keys.ENTER)"
   ]
  },
  {
   "cell_type": "code",
   "execution_count": 4,
   "id": "ac7b2a89-8e08-4c5a-b2a3-c09fa40260fb",
   "metadata": {},
   "outputs": [],
   "source": [
    "driver.get('http://www.naver.com')\n",
    "target=driver.find_element_by_id('query')\n",
    "target.send_keys('파이썬')\n",
    "target.send_keys(Keys.ENTER)"
   ]
  },
  {
   "cell_type": "code",
   "execution_count": 6,
   "id": "86f16bc8-2990-4285-b588-9217ac9125a8",
   "metadata": {},
   "outputs": [],
   "source": [
    "driver.get('http://www.naver.com')\n",
    "target=driver.find_element_by_class_name('input_text')\n",
    "target.send_keys('파이썬')\n",
    "target.send_keys(Keys.ENTER)"
   ]
  }
 ],
 "metadata": {
  "kernelspec": {
   "display_name": "pydatavenv",
   "language": "python",
   "name": "pydatavenv"
  },
  "language_info": {
   "codemirror_mode": {
    "name": "ipython",
    "version": 3
   },
   "file_extension": ".py",
   "mimetype": "text/x-python",
   "name": "python",
   "nbconvert_exporter": "python",
   "pygments_lexer": "ipython3",
   "version": "3.8.8"
  }
 },
 "nbformat": 4,
 "nbformat_minor": 5
}
