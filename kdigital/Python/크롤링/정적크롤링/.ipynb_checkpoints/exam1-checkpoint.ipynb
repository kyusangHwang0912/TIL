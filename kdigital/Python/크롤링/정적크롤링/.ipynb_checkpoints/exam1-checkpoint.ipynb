{
 "cells": [
  {
   "cell_type": "markdown",
   "metadata": {},
   "source": [
    "# 정적크롤링"
   ]
  },
  {
   "cell_type": "markdown",
   "metadata": {},
   "source": [
    "### f스트링 문법"
   ]
  },
  {
   "cell_type": "code",
   "execution_count": 32,
   "metadata": {},
   "outputs": [
    {
     "name": "stdout",
     "output_type": "stream",
     "text": [
      "유니코학생은 나이가 20이고 평균은 95.869입니다\n",
      "유니코학생은 나이가 20이고 평균은 95.869입니다\n",
      "유니코학생은 나이가 20이고 평균은 95.87입니다\n",
      "유니코학생은 나이가 20이고 평균은 95.87입니다\n",
      "유니코학생은 나이가 20이고 평균은 95.87입니다\n"
     ]
    }
   ],
   "source": [
    "stname = \"유니코\"; stage=20; stavg=95.869\n",
    "print(stname+\"학생은 나이가 \"+str(stage)+\"이고 평균은 \"+str(stavg)+\"입니다\")\n",
    "print(stname, \"학생은 나이가 \", stage, \"이고 평균은 \", stavg, \"입니다\", sep=\"\")\n",
    "print(\"%s학생은 나이가 %d이고 평균은 %.2f입니다\" % (stname, stage, stavg))\n",
    "print(\"{}학생은 나이가 {}이고 평균은 {:.2f}입니다\".format(stname, stage, stavg))\n",
    "print(f\"{stname}학생은 나이가 {stage}이고 평균은 {stavg:.2f}입니다\")"
   ]
  },
  {
   "cell_type": "code",
   "execution_count": 33,
   "metadata": {},
   "outputs": [
    {
     "name": "stdout",
     "output_type": "stream",
     "text": [
      "유니코학생은 나이가 20이고 평균은 95.869입니다\n",
      "유니코학생은 나이가 20이고 평균은 95.87입니다\n",
      "유니코학생은 나이가 20이고 평균은 95.87입니다\n",
      "유니코학생은 나이가 20이고 평균은 95.87입니다\n"
     ]
    }
   ],
   "source": [
    "v1 = stname+\"학생은 나이가 \"+str(stage)+\"이고 평균은 \"+str(stavg)+\"입니다\"\n",
    "v2 = \"%s학생은 나이가 %d이고 평균은 %.2f입니다\" % (stname, stage, stavg)\n",
    "v3 = \"{}학생은 나이가 {}이고 평균은 {:.2f}입니다\".format(stname, stage, stavg)\n",
    "v4 = f\"{stname}학생은 나이가 {stage}이고 평균은 {stavg:.2f}입니다\"\n",
    "print(v1)\n",
    "print(v2)\n",
    "print(v3)\n",
    "print(v4)"
   ]
  },
  {
   "cell_type": "markdown",
   "metadata": {},
   "source": [
    "---"
   ]
  },
  {
   "cell_type": "markdown",
   "metadata": {},
   "source": [
    "### sys, os 패키지 "
   ]
  },
  {
   "cell_type": "code",
   "execution_count": 34,
   "metadata": {},
   "outputs": [
    {
     "name": "stdout",
     "output_type": "stream",
     "text": [
      "3.8.8 (default, Apr 13 2021, 15:08:03) [MSC v.1916 64 bit (AMD64)]\n"
     ]
    }
   ],
   "source": [
    "import sys\n",
    "print(sys.version)"
   ]
  },
  {
   "cell_type": "code",
   "execution_count": 35,
   "metadata": {},
   "outputs": [
    {
     "name": "stdout",
     "output_type": "stream",
     "text": [
      "C:\\Users\\rbtkd\\Kdigital\\PYTHONexam\\0927\n"
     ]
    }
   ],
   "source": [
    "import os\n",
    "print(os.getcwd())"
   ]
  },
  {
   "cell_type": "code",
   "execution_count": 36,
   "metadata": {},
   "outputs": [
    {
     "name": "stdout",
     "output_type": "stream",
     "text": [
      "Available kernels:\n",
      "  pydatavenv    C:\\Users\\rbtkd\\AppData\\Roaming\\jupyter\\kernels\\pydatavenv\n",
      "  python3       C:\\Users\\rbtkd\\anaconda3\\share\\jupyter\\kernels\\python3\n"
     ]
    }
   ],
   "source": [
    "!jupyter kernelspec list"
   ]
  },
  {
   "cell_type": "code",
   "execution_count": 37,
   "metadata": {},
   "outputs": [
    {
     "name": "stdout",
     "output_type": "stream",
     "text": [
      " C 드라이브의 볼륨에는 이름이 없습니다.\n",
      " 볼륨 일련 번호: E471-2CEE\n",
      "\n",
      " C:\\Users\\rbtkd\\Kdigital\\PYTHONexam\\0927 디렉터리\n",
      "\n",
      "2021-09-27  오후 02:25    <DIR>          .\n",
      "2021-09-27  오후 02:25    <DIR>          ..\n",
      "2021-09-27  오전 09:37    <DIR>          .ipynb_checkpoints\n",
      "2021-09-27  오전 09:18           114,016 9월27일_1.docx\n",
      "2021-09-27  오전 09:18           130,729 9월27일_2.docx\n",
      "2021-09-27  오후 02:22            30,193 exam1.ipynb\n",
      "2021-09-27  오후 02:25               682 Untitled.ipynb\n",
      "2021-09-27  오전 09:18           649,838 파이썬데이터수집.pdf\n",
      "2021-09-27  오후 02:19           727,396 파이썬데이터수집.pptx\n",
      "               6개 파일           1,652,854 바이트\n",
      "               3개 디렉터리  21,598,629,888 바이트 남음\n"
     ]
    }
   ],
   "source": [
    "!dir"
   ]
  },
  {
   "cell_type": "markdown",
   "metadata": {},
   "source": [
    "---"
   ]
  },
  {
   "cell_type": "markdown",
   "metadata": {},
   "source": [
    "### urllib 패키지 이용한 정적크롤링"
   ]
  },
  {
   "cell_type": "code",
   "execution_count": 38,
   "metadata": {},
   "outputs": [
    {
     "name": "stdout",
     "output_type": "stream",
     "text": [
      "<class 'http.client.HTTPResponse'>\n",
      "200\n",
      "11\n",
      "OK\n",
      "[ header 정보 ]----------\n",
      "('Server', 'NWS')\n",
      "('Date', 'Mon, 27 Sep 2021 05:26:53 GMT')\n",
      "('Content-Type', 'text/html; charset=UTF-8')\n",
      "('Transfer-Encoding', 'chunked')\n",
      "('Connection', 'close')\n",
      "('Set-Cookie', 'PM_CK_loc=3c74d1297aec3c70c8ff0cb195319b576b1259364f9518c3acc6e6369eb3fa59; Expires=Tue, 28 Sep 2021 05:26:53 GMT; Path=/; HttpOnly')\n",
      "('Cache-Control', 'no-cache, no-store, must-revalidate')\n",
      "('Pragma', 'no-cache')\n",
      "('P3P', 'CP=\"CAO DSP CURa ADMa TAIa PSAa OUR LAW STP PHY ONL UNI PUR FIN COM NAV INT DEM STA PRE\"')\n",
      "('X-Frame-Options', 'DENY')\n",
      "('X-XSS-Protection', '1; mode=block')\n",
      "('Strict-Transport-Security', 'max-age=63072000; includeSubdomains')\n",
      "('Referrer-Policy', 'unsafe-url')\n"
     ]
    }
   ],
   "source": [
    "import urllib.request\n",
    "res = urllib.request.urlopen(\"http://www.naver.com/\")\n",
    "print(type(res))\n",
    "print(res.status) # 200은 정상\n",
    "print(res.version) # html 버전\n",
    "print(res.msg) # 상태\n",
    "res_header = res.getheaders()\n",
    "print(\"[ header 정보 ]----------\")\n",
    "for s in res_header :\n",
    "    print(s)"
   ]
  },
  {
   "cell_type": "code",
   "execution_count": 39,
   "metadata": {},
   "outputs": [
    {
     "name": "stdout",
     "output_type": "stream",
     "text": [
      "<http.client.HTTPResponse object at 0x000001DBCE1F7970>\n",
      "[ header 정보 ]----------\n",
      "('Date', 'Mon, 27 Sep 2021 05:26:45 GMT')\n",
      "('Server', 'Apache/2.2.15 (CentOS)')\n",
      "('Content-Length', '461')\n",
      "('Connection', 'close')\n",
      "('Content-Type', 'text/html')\n",
      "[ body 내용 ]-----------\n",
      "<!DOCTYPE html>\n",
      "<html>\n",
      "<head>\n",
      "<meta charset=\"UTF-8\">\n",
      "<title>Insert title here</title>\n",
      "</head>\n",
      "<body>\n",
      "<h1>블럭스타일 태그</h1>\n",
      "<div style=\"background-color:yellow\">테스트입니다1</div>\n",
      "<div>테스트입니다2</div>\n",
      "<div>테스트입니다3</div>\n",
      "<hr>\n",
      "<h1>인라인스타일 태그</h1>\n",
      "<span style=\"background-color:yellow\">테스트입니다1</span>\n",
      "<span>테스트입니다2</span>\n",
      "<span>테스트입니다3</span>\n",
      "</body>\n",
      "</html>\n"
     ]
    }
   ],
   "source": [
    "import urllib.request\n",
    "res = urllib.request.urlopen(\"http://unico2013.dothome.co.kr/crawling/tagstyle.html\")\n",
    "print(res)\n",
    "print(\"[ header 정보 ]----------\")\n",
    "res_header = res.getheaders()\n",
    "for s in res_header :\n",
    "    print(s)\n",
    "print(\"[ body 내용 ]-----------\")\n",
    "#print(res.read()) # utf-8로 decode하지 않으면 한글이 깨져서 나온다.\n",
    "print(res.read().decode('utf-8'))\n"
   ]
  },
  {
   "cell_type": "code",
   "execution_count": 40,
   "metadata": {},
   "outputs": [
    {
     "name": "stdout",
     "output_type": "stream",
     "text": [
      "===========================================================\n",
      "<class 'http.client.HTTPResponse'>\n",
      "<class 'http.client.HTTPMessage'>\n",
      "https://www.python.org/  페이지의 인코딩 정보 : utf-8\n",
      "<!doctype html>\n",
      "<!--[if lt IE 7]>   <html class=\"no-js ie6 lt-ie7 lt-ie8 lt-ie9\">   <![endif]-->\n",
      "<!--[if IE 7]>      <html class=\"no-js ie7 lt-ie8 lt-ie9\">          <![endif]-->\n",
      "<!--[if IE 8]>      <html class=\"no-js ie8 lt-ie9\">                 <![endif]-->\n",
      "<!--[if gt IE 8]><!--><html class=\"no-js\" lang=\"en\" dir=\"ltr\">  <!--<![endif]-->\n",
      "\n",
      "<head>\n",
      "    <meta charset=\"utf-8\">\n",
      "    <meta http-equiv=\"X-UA-Compatible\" content=\"IE=edge\">\n",
      "\n",
      "    <link rel=\"prefetch\" href=\"//ajax.googleapis.com/ajax/libs/jqu\n",
      "===========================================================\n",
      "https://www.daum.net/  페이지의 인코딩 정보 : utf-8\n",
      "<!DOCTYPE html>\n",
      "<html lang=\"ko\" class=\"\">\n",
      "<head>\n",
      "<meta charset=\"utf-8\"/>\n",
      "<title>Daum</title>\n",
      "<meta property=\"og:url\" content=\"https://www.daum.net/\">\n",
      "<meta property=\"og:type\" content=\"website\">\n",
      "<meta property=\"og:title\" content=\"Daum\">\n",
      "<meta property=\"og:image\" content=\"//i1.daumcdn.net/svc/image/U03/common_icon/5587C4E4012FCD0001\">\n",
      "<meta property=\"og:description\" content=\"나의 관심 콘텐츠를 가장 즐겁게 볼 수 있는 Daum\">\n",
      "<meta name=\"msapplication-task\" content=\"name=Daum;action-\n",
      "===========================================================\n",
      "https://www.aladin.co.kr/home/welcome.aspx  페이지의 인코딩 정보 : utf-8\n",
      "\n",
      "<!DOCTYPE HTML PUBLIC \"-//W3C//DTD HTML 4.0 Transitional//EN\" >\n",
      "<html>\n",
      "  <head>    \n",
      "      <title id=\"Title\">알라딘</title>\n",
      "      <meta http-equiv=\"Content-Type\" content=\"text/html; charset=utf-8\"/>\n",
      "\t  <meta content=\"Microsoft Visual Studio .NET 7.1\" name=\"GENERATOR\">\n",
      "\t  <meta content=\"C#\" name=\"CODE_LANGUAGE\">\n",
      "\t  <meta content=\"JavaScript\" name=\"vs_defaultClientScript\">\n",
      "\t  <meta content=\"http://schemas.microsoft.com/intellisense/ie5\" name=\"vs_targetSchema\">\n",
      "      <meta http-equiv=\"\n",
      "===========================================================\n"
     ]
    },
    {
     "data": {
      "text/plain": [
       "'\\n- 한국 표준 코드셋(영문1바이트, 한글 2바이트)\\nksc5601\\neuc-kr\\ncp949\\nansi(메모장)\\n\\n- 유니코드(전세계 표준 코드셋) (영문 1바이트, 한글 3바이트)\\nutf=8\\n\\n'"
      ]
     },
     "execution_count": 40,
     "metadata": {},
     "output_type": "execute_result"
    }
   ],
   "source": [
    "import urllib.request\n",
    "print(\"===========================================================\")\n",
    "url = 'https://www.python.org/'\n",
    "f = urllib.request.urlopen(url)\n",
    "print(type(f))\n",
    "print(type(f.info()))\n",
    "encoding = f.info().get_content_charset()\n",
    "print(url, ' 페이지의 인코딩 정보 :', encoding)\n",
    "text = f.read(500).decode(encoding)\n",
    "print(text)\n",
    "print(\"===========================================================\")\n",
    "\n",
    "url = 'https://www.daum.net/'\n",
    "f = urllib.request.urlopen(url)\n",
    "encoding = f.info().get_content_charset()\n",
    "print(url, ' 페이지의 인코딩 정보 :', encoding)\n",
    "text = f.read(500).decode(encoding)\n",
    "print(text)\n",
    "print(\"===========================================================\")\n",
    "\n",
    "url = 'https://www.aladin.co.kr/home/welcome.aspx'\n",
    "f = urllib.request.urlopen(url)\n",
    "encoding = f.info().get_content_charset()\n",
    "print(url, ' 페이지의 인코딩 정보 :', encoding)\n",
    "\n",
    "text = f.read(500).decode(encoding)\n",
    "print(text)\n",
    "print(\"===========================================================\")\n",
    "\n",
    "'''\n",
    "- 한국 표준 코드셋(영문1바이트, 한글 2바이트)\n",
    "ksc5601\n",
    "euc-kr\n",
    "cp949\n",
    "ansi(메모장)\n",
    "\n",
    "- 유니코드(전세계 표준 코드셋) (영문 1바이트, 한글 3바이트)\n",
    "utf=8\n",
    "\n",
    "'''"
   ]
  },
  {
   "cell_type": "code",
   "execution_count": 41,
   "metadata": {},
   "outputs": [
    {
     "name": "stdout",
     "output_type": "stream",
     "text": [
      "[ URL 문자열 정보 추출 1 ]\n",
      "타입정보 :  <class 'urllib.parse.ParseResult'>\n",
      "도메인정보 :  movie.daum.net\n",
      "패스정보 :  /moviedb/main\n",
      "쿼리정보 :  movieId=93252\n",
      "스킴정보 :  https\n",
      "포트정보 :  None\n",
      "프래그먼트정보 :  \n",
      "URL 문자열정보 :  https://movie.daum.net/moviedb/main?movieId=93252\n",
      "urllib.parse.ParseResult 객체정보 :  ParseResult(scheme='https', netloc='movie.daum.net', path='/moviedb/main', params='', query='movieId=93252', fragment='')\n",
      "\n",
      "[ URL 문자열 정보 추출 2 ]\n",
      "도메인정보 :  docs.python.org\n",
      "패스정보 :  /3/library/urllib.parse.html\n",
      "쿼리정보 :  \n",
      "스킴정보 :  https\n",
      "포트정보 :  None\n",
      "프래그먼트정보 :  urlparse-result-object\n",
      "URL 문자열정보 :  https://docs.python.org/3/library/urllib.parse.html#urlparse-result-object\n",
      "urllib.parse.ParseResult 객체정보 :  ParseResult(scheme='https', netloc='docs.python.org', path='/3/library/urllib.parse.html', params='', query='', fragment='urlparse-result-object')\n",
      "\n",
      "[ Query문자열 또는 요청 파라미터 인코딩 ]\n",
      "number=12524&type=issue&action=show\n",
      "addr=%EC%84%9C%EC%9A%B8%EC%8B%9C+%EA%B0%95%EB%82%A8%EA%B5%AC+%EC%97%AD%EC%82%BC%EB%8F%99\n"
     ]
    }
   ],
   "source": [
    "from urllib.parse import urlparse\n",
    "from urllib.parse import urlencode\n",
    "print(\"[ URL 문자열 정보 추출 1 ]\")\n",
    "url1 = urlparse('https://movie.daum.net/moviedb/main?movieId=93252')\n",
    "print(\"타입정보 : \",type(url1))\n",
    "print(\"도메인정보 : \",url1.netloc) \n",
    "print(\"패스정보 : \",url1.path)\n",
    "print(\"쿼리정보 : \",url1.query) \n",
    "print(\"스킴정보 : \",url1.scheme)\n",
    "print(\"포트정보 : \",url1.port)\n",
    "print(\"프래그먼트정보 : \",url1.fragment)\n",
    "print(\"URL 문자열정보 : \",url1.geturl())\n",
    "print(\"urllib.parse.ParseResult 객체정보 : \",url1)\n",
    "print(\"\\n[ URL 문자열 정보 추출 2 ]\")\n",
    "url2 = urlparse('https://docs.python.org/3/library/urllib.parse.html#urlparse-result-object')\n",
    "print(\"도메인정보 : \",url2.netloc) \n",
    "print(\"패스정보 : \", url2.path)  \n",
    "print(\"쿼리정보 : \",url2.query)\n",
    "print(\"스킴정보 : \",url2.scheme)\n",
    "print(\"포트정보 : \",url2.port)\n",
    "print(\"프래그먼트정보 : \",url2.fragment)\n",
    "print(\"URL 문자열정보 : \",url2.geturl())\n",
    "print(\"urllib.parse.ParseResult 객체정보 : \",url2)\n",
    "\n",
    "print(\"\\n[ Query문자열 또는 요청 파라미터 인코딩 ]\")\n",
    "params1 = urlencode({'number': 12524, 'type': 'issue', 'action': 'show'})\n",
    "print(params1)\n",
    "params2 = urlencode({'addr': '서울시 강남구 역삼동'})\n",
    "print(params2)"
   ]
  },
  {
   "cell_type": "code",
   "execution_count": 42,
   "metadata": {},
   "outputs": [
    {
     "name": "stdout",
     "output_type": "stream",
     "text": [
      "URL 인코딩 규칙이 적용된 문자열 : name=%EC%9C%A0%EB%8B%88%EC%BD%94&age=10\n",
      "﻿<!DOCTYPE html>\n",
      "<html>\n",
      "  <head>\n",
      "    <meta charset=\"utf-8\">\n",
      "    <title>POST TEST</title>\n",
      "  </head>\n",
      "  <body>\n",
      "   <h1>GET : 이름은 유니코이고 나이는 10이네요!!</h1>   </body>\n",
      "</html>\n"
     ]
    }
   ],
   "source": [
    "import urllib.request\n",
    "import urllib.parse\n",
    "params = urllib.parse.urlencode({'name': '유니코', 'age': 10})\n",
    "print(\"URL 인코딩 규칙이 적용된 문자열 : %s\" % params)\n",
    "url = \"http://unico2013.dothome.co.kr/crawling/get.php?%s\" % params\n",
    "with urllib.request.urlopen(url) as f:\n",
    "    print(f.read().decode('utf-8'))"
   ]
  },
  {
   "cell_type": "code",
   "execution_count": 44,
   "metadata": {},
   "outputs": [
    {
     "name": "stdout",
     "output_type": "stream",
     "text": [
      "URL 인코딩 규칙이 적용된 문자열 : name=%EC%9C%A0%EB%8B%88%EC%BD%94&age=10\n",
      "변환된 바이트 문자열 : b'name=%EC%9C%A0%EB%8B%88%EC%BD%94&age=10'\n",
      "﻿<!DOCTYPE html>\n",
      "<html>\n",
      "  <head>\n",
      "    <meta charset=\"utf-8\">\n",
      "    <title>POST TEST</title>\n",
      "  </head>\n",
      "  <body>\n",
      "   <h1>POST : 이름은 유니코이고 나이는 10이네요!!</h1>   </body>\n",
      "</html>\n"
     ]
    }
   ],
   "source": [
    "import urllib.request\n",
    "import urllib.parse\n",
    "data = urllib.parse.urlencode({'name': '유니코', 'age': 10})\n",
    "print(\"URL 인코딩 규칙이 적용된 문자열 : %s\" % data)\n",
    "postdata = data.encode('ascii')\n",
    "print(\"변환된 바이트 문자열 : %s\" % postdata)\n",
    "url = \"http://unico2013.dothome.co.kr/crawling/post.php\"\n",
    "with urllib.request.urlopen(url, postdata) as f:\n",
    "    print(f.read().decode('utf-8'))"
   ]
  },
  {
   "cell_type": "code",
   "execution_count": 43,
   "metadata": {},
   "outputs": [
    {
     "name": "stdout",
     "output_type": "stream",
     "text": [
      "<urllib.request.Request object at 0x000001DBCE371F40>\n",
      "﻿<!DOCTYPE html>\n",
      "<html>\n",
      "  <head>\n",
      "    <meta charset=\"utf-8\">\n",
      "    <title>POST TEST</title>\n",
      "  </head>\n",
      "  <body>\n",
      "   <h1>POST : 이름은 유니코이고 나이는 10이네요!!</h1>   </body>\n",
      "</html>\n"
     ]
    }
   ],
   "source": [
    "import urllib.request\n",
    "import urllib.parse\n",
    "data = urllib.parse.urlencode({'name': '유니코', 'age': 10})\n",
    "postdata = data.encode('ascii')\n",
    "req = urllib.request.Request(url='http://unico2013.dothome.co.kr/crawling/post.php',\n",
    "            data=postdata)\n",
    "print(req)\n",
    "with urllib.request.urlopen(req) as f:\n",
    "    print(f.read().decode('utf-8'))"
   ]
  },
  {
   "cell_type": "markdown",
   "metadata": {},
   "source": [
    "---"
   ]
  },
  {
   "cell_type": "markdown",
   "metadata": {},
   "source": [
    "### requests 패키지 이용한 정적크롤링"
   ]
  },
  {
   "cell_type": "code",
   "execution_count": 24,
   "metadata": {},
   "outputs": [
    {
     "name": "stdout",
     "output_type": "stream",
     "text": [
      "<class 'requests.models.Response'>\n",
      "<!DOCTYPE html>\n",
      "<html>\n",
      "<head>\n",
      "<meta charset=\"UTF-8\">\n",
      "<title>테스트</title>\n",
      "</head>\n",
      "<body>\n",
      "<h1>웹 크롤링을 테스트 합니다.</h1>\n",
      "</body>\n",
      "</html>\n",
      "----------------------------------------------------------\n",
      "<class 'requests.models.Response'>\n",
      "응답된 콘텐츠가 없어요\n",
      "----------------------------------------------------------\n",
      "<class 'requests.models.Response'>\n",
      "﻿<!DOCTYPE html>\n",
      "<html>\n",
      "  <head>\n",
      "    <meta charset=\"utf-8\">\n",
      "    <title>POST TEST</title>\n",
      "  </head>\n",
      "  <body>\n",
      "   <h1>POST : 이름은 백도이고 나이는 12이네요!!</h1>   </body>\n",
      "</html>\n"
     ]
    }
   ],
   "source": [
    "import requests\n",
    "\n",
    "r = requests.request('get', 'http://unico2013.dothome.co.kr/crawling/exam.html')\n",
    "r.encoding = 'utf-8'\n",
    "print(type(r))\n",
    "if r.text :\n",
    "    print(r.text)\n",
    "else :\n",
    "    print('응답된 콘텐츠가 없어요')\n",
    "print('----------------------------------------------------------')\n",
    "r = requests.request('head', 'http://unico2013.dothome.co.kr/crawling/exam.html')\n",
    "r.encoding = 'utf-8'\n",
    "print(type(r))\n",
    "if r.text :\n",
    "    print(r.text)\n",
    "else :\n",
    "    print('응답된 콘텐츠가 없어요')\n",
    "print('----------------------------------------------------------')\n",
    "r = requests.request('post', 'http://unico2013.dothome.co.kr/crawling/post.php', data= {'name':'백도', 'age' : 12})\n",
    "r.encoding = 'utf-8'\n",
    "print(type(r))\n",
    "if r.text :\n",
    "    print(r.text)\n",
    "else :\n",
    "    print('응답된 콘텐츠가 없어요')\n"
   ]
  },
  {
   "cell_type": "code",
   "execution_count": 25,
   "metadata": {},
   "outputs": [
    {
     "name": "stdout",
     "output_type": "stream",
     "text": [
      "<class 'requests.models.Response'>\n",
      "{'Date': 'Mon, 27 Sep 2021 05:14:39 GMT', 'Server': 'Apache/2.2.15 (CentOS)', 'Content-Length': '164', 'Connection': 'close', 'Content-Type': 'text/html'}\n",
      "<!DOCTYPE html>\n",
      "<html>\n",
      "<head>\n",
      "<meta charset=\"UTF-8\">\n",
      "<title>테스트</title>\n",
      "</head>\n",
      "<body>\n",
      "<h1>웹 크롤링을 테스트 합니다.</h1>\n",
      "</body>\n",
      "</html>\n"
     ]
    }
   ],
   "source": [
    "import requests\n",
    "\n",
    "r = requests.get('http://unico2013.dothome.co.kr/crawling/exam.html')\n",
    "r.encoding = 'utf-8'\n",
    "print(type(r))\n",
    "print(r.headers)\n",
    "if r.text :\n",
    "    print(r.text)\n",
    "else :\n",
    "    print('응답된 콘텐츠가 없어요')"
   ]
  },
  {
   "cell_type": "code",
   "execution_count": 26,
   "metadata": {},
   "outputs": [
    {
     "name": "stdout",
     "output_type": "stream",
     "text": [
      "<class 'requests.models.Response'>\n",
      "{'Date': 'Mon, 27 Sep 2021 05:14:46 GMT', 'Server': 'Apache/2.2.15 (CentOS)', 'Connection': 'close', 'Content-Type': 'text/html'}\n",
      "응답된 콘텐츠가 없어요\n"
     ]
    }
   ],
   "source": [
    "import requests\n",
    "\n",
    "r = requests.head('http://unico2013.dothome.co.kr/crawling/exam.html')\n",
    "print(type(r))\n",
    "print(r.headers)\n",
    "if r.text :\n",
    "    print(r.text)\n",
    "else :\n",
    "    print('응답된 콘텐츠가 없어요')"
   ]
  },
  {
   "cell_type": "code",
   "execution_count": 27,
   "metadata": {},
   "outputs": [
    {
     "name": "stdout",
     "output_type": "stream",
     "text": [
      "http://unico2013.dothome.co.kr/crawling/get.php?key1=value1&key2=value2\n",
      "------------------------------------\n",
      "http://unico2013.dothome.co.kr/crawling/get.php?key1=value1&key2=value2&key2=value3\n",
      "------------------------------------\n",
      "http://unico2013.dothome.co.kr/crawling/get.php?key1=value1&key1=value2\n"
     ]
    }
   ],
   "source": [
    "import requests\n",
    "\n",
    "dicdata = {'key1': 'value1', 'key2': 'value2'}\n",
    "urlstr = 'http://unico2013.dothome.co.kr/crawling/get.php'\n",
    "r = requests.get(urlstr, params=dicdata)\n",
    "print(r.url)\n",
    "print('------------------------------------')\n",
    "dicdata = {'key1': 'value1', 'key2': ['value2', 'value3']}\n",
    "r = requests.request('GET', urlstr, params=dicdata)\n",
    "print(r.url)\n",
    "print('------------------------------------')\n",
    "tupledata = [('key1', 'value1'), ('key1', 'value2')]\n",
    "r = requests.get(urlstr, params=tupledata)\n",
    "print(r.url)"
   ]
  },
  {
   "cell_type": "code",
   "execution_count": 28,
   "metadata": {},
   "outputs": [
    {
     "name": "stdout",
     "output_type": "stream",
     "text": [
      "ï»¿<!DOCTYPE html>\n",
      "<html>\n",
      "  <head>\n",
      "    <meta charset=\"utf-8\">\n",
      "    <title>POST TEST</title>\n",
      "  </head>\n",
      "  <body>\n",
      "   <h1>GET : ì´ë¦ê³¼ ëì´ë¥¼ ì ë¬í´ ì£¼ì¸ì!!</h1>   </body>\n",
      "</html>\n",
      "------------------------------------\n",
      "﻿<!DOCTYPE html>\n",
      "<html>\n",
      "  <head>\n",
      "    <meta charset=\"utf-8\">\n",
      "    <title>POST TEST</title>\n",
      "  </head>\n",
      "  <body>\n",
      "   <h1>GET : 이름과 나이를 전달해 주세요!!</h1>   </body>\n",
      "</html>\n",
      "------------------------------------\n",
      "b'\\xef\\xbb\\xbf<!DOCTYPE html>\\r\\n<html>\\r\\n  <head>\\r\\n    <meta charset=\"utf-8\">\\r\\n    <title>POST TEST</title>\\r\\n  </head>\\r\\n  <body>\\r\\n   <h1>GET : \\xec\\x9d\\xb4\\xeb\\xa6\\x84\\xea\\xb3\\xbc \\xeb\\x82\\x98\\xec\\x9d\\xb4\\xeb\\xa5\\xbc \\xec\\xa0\\x84\\xeb\\x8b\\xac\\xed\\x95\\xb4 \\xec\\xa3\\xbc\\xec\\x84\\xb8\\xec\\x9a\\x94!!</h1>   </body>\\r\\n</html>'\n",
      "------------------------------------\n",
      "﻿<!DOCTYPE html>\n",
      "<html>\n",
      "  <head>\n",
      "    <meta charset=\"utf-8\">\n",
      "    <title>POST TEST</title>\n",
      "  </head>\n",
      "  <body>\n",
      "   <h1>GET : 이름과 나이를 전달해 주세요!!</h1>   </body>\n",
      "</html>\n"
     ]
    }
   ],
   "source": [
    "import requests\n",
    "\n",
    "urlstr = 'http://unico2013.dothome.co.kr/crawling/get.php'\n",
    "r = requests.get(urlstr)\n",
    "print(r.text)\n",
    "print('------------------------------------')\n",
    "r.encoding = 'utf-8'\n",
    "print(r.text)\n",
    "print('------------------------------------')\n",
    "print(r.content)\n",
    "print('------------------------------------')\n",
    "print(r.content.decode('utf-8'))"
   ]
  },
  {
   "cell_type": "code",
   "execution_count": 29,
   "metadata": {},
   "outputs": [
    {
     "name": "stdout",
     "output_type": "stream",
     "text": [
      "<class 'PIL.JpegImagePlugin.JpegImageFile'>\n"
     ]
    }
   ],
   "source": [
    "import requests\n",
    "from PIL import Image\n",
    "from io import BytesIO\n",
    "\n",
    "r = requests.get('http://unico2013.dothome.co.kr/image/flower.jpg')\n",
    "i = Image.open(BytesIO(r.content)) #BytesIO 객체 생성\n",
    "print(type(i))\n",
    "i.save(\"c:/Temp/test.jpg\")"
   ]
  },
  {
   "cell_type": "markdown",
   "metadata": {},
   "source": [
    "---"
   ]
  },
  {
   "cell_type": "markdown",
   "metadata": {},
   "source": [
    "### beautifulsoup 이용한 정적 크롤링 "
   ]
  },
  {
   "cell_type": "markdown",
   "metadata": {},
   "source": [
    "- 기초실습"
   ]
  },
  {
   "cell_type": "code",
   "execution_count": 47,
   "metadata": {},
   "outputs": [
    {
     "name": "stdout",
     "output_type": "stream",
     "text": [
      "<class 'bs4.BeautifulSoup'>\n"
     ]
    }
   ],
   "source": [
    "html_doc = \"\"\"\n",
    "<!DOCTYPE html>\n",
    "<html>\n",
    "    <head>\n",
    "        <meta charset=\"utf-8\">\n",
    "        <title>Test BeautifulSoup</title>\n",
    "    </head>\n",
    "    <body>\n",
    "        <h1>테스트</h1>\n",
    "    </body>\n",
    "</html> \"\"\"\n",
    "from bs4 import BeautifulSoup\n",
    "bs = BeautifulSoup(html_doc, 'html.parser')\n",
    "print(type(bs))"
   ]
  },
  {
   "cell_type": "code",
   "execution_count": 48,
   "metadata": {},
   "outputs": [
    {
     "name": "stdout",
     "output_type": "stream",
     "text": [
      "<!DOCTYPE html>\n",
      "<html>\n",
      " <head>\n",
      "  <meta charset=\"utf-8\"/>\n",
      "  <title>\n",
      "   Test BeautifulSoup\n",
      "  </title>\n",
      " </head>\n",
      " <body>\n",
      "  <p align=\"center\">\n",
      "   P태그의 컨텐트\n",
      "  </p>\n",
      "  <img src=\"http://unico2013.dothome.co.kr/image/flower.jpg\" width=\"300\"/>\n",
      " </body>\n",
      "</html>\n",
      "\n",
      "\n",
      "<!DOCTYPE html>\n",
      "\n",
      "<html>\n",
      "<head>\n",
      "<meta charset=\"utf-8\"/>\n",
      "<title>Test BeautifulSoup</title>\n",
      "</head>\n",
      "<body>\n",
      "<p align=\"center\">P태그의 컨텐트</p>\n",
      "<img src=\"http://unico2013.dothome.co.kr/image/flower.jpg\" width=\"300\"/>\n",
      "</body>\n",
      "</html> \n"
     ]
    }
   ],
   "source": [
    "html_doc = \"\"\"\n",
    "<!DOCTYPE html>\n",
    "<html>\n",
    "     <head>\n",
    "          <meta charset='utf-8'>\n",
    "          <title>Test BeautifulSoup</title>\n",
    "     </head>\n",
    "     <body>\n",
    "          <p align=\"center\">P태그의 컨텐트</p>\n",
    "          <img src=\"http://unico2013.dothome.co.kr/image/flower.jpg\" width=\"300\">\n",
    "     </body>\n",
    "</html> \"\"\"\n",
    "from bs4 import BeautifulSoup\n",
    "bs = BeautifulSoup(html_doc, 'html.parser')\n",
    "print(bs.prettify())\n",
    "print(bs)"
   ]
  },
  {
   "cell_type": "code",
   "execution_count": 49,
   "metadata": {},
   "outputs": [
    {
     "name": "stdout",
     "output_type": "stream",
     "text": [
      "<class 'bs4.element.Tag'> : <title>Test BeautifulSoup</title>\n",
      "<class 'str'> : title\n",
      "<class 'bs4.element.NavigableString'> : Test BeautifulSoup\n",
      "-------------------------\n",
      "<class 'str'> : center\n",
      "<class 'str'> : http://unico2013.dothome.co.kr/image/flower.jpg\n",
      "<class 'dict'> : {'src': 'http://unico2013.dothome.co.kr/image/flower.jpg', 'width': '300'}\n"
     ]
    }
   ],
   "source": [
    "html_doc = \"\"\"\n",
    "<!DOCTYPE html>\n",
    "<html>\n",
    "     <head>\n",
    "          <meta charset='utf-8'>\n",
    "          <title>Test BeautifulSoup</title>\n",
    "     </head>\n",
    "     <body>\n",
    "          <p align=\"center\">P태그의 컨텐트</p>\n",
    "          <img src=\"http://unico2013.dothome.co.kr/image/flower.jpg\" width=\"300\">\n",
    "          <ul>\n",
    "               <li>테스트1<strong>강조</strong></li>\n",
    "               <li>테스트2</li>\n",
    "               <li>테스트3</li>\n",
    "          </ul>\n",
    "     </body>\n",
    "</html> \"\"\"\n",
    "from bs4 import BeautifulSoup\n",
    "bs = BeautifulSoup(html_doc, 'html.parser')\n",
    "print(type(bs.title), ':', bs.title)\n",
    "print(type(bs.title.name), ':', bs.title.name)\n",
    "print(type(bs.title.string), ':', bs.title.string)\n",
    "print('-------------------------')\n",
    "print(type(bs.p['align']), ':', bs.p['align'])\n",
    "print(type(bs.img['src']), ':', bs.img['src'])\n",
    "print(type(bs.img.attrs), ':', bs.img.attrs)"
   ]
  },
  {
   "cell_type": "code",
   "execution_count": 11,
   "metadata": {},
   "outputs": [
    {
     "name": "stdout",
     "output_type": "stream",
     "text": [
      "[ string 속성 ]\n",
      "<class 'bs4.element.NavigableString'> : P태그의 컨텐트\n",
      "<class 'NoneType'> : None\n",
      "<class 'NoneType'> : None\n",
      "<class 'bs4.element.NavigableString'> : 강조\n",
      "[ text 속성 ]\n",
      "<class 'str'> : P태그의 컨텐트\n",
      "<class 'str'> : \n",
      "테스트1강조\n",
      "테스트2\n",
      "테스트3\n",
      "\n",
      "<class 'str'> : 테스트1강조\n",
      "<class 'str'> : 강조\n",
      "[ contents 속성 ]\n",
      "<class 'list'> : ['P태그의 컨텐트']\n",
      "<class 'list'> : ['\\n', <li>테스트1<strong>강조</strong></li>, '\\n', <li>테스트2</li>, '\\n', <li>테스트3</li>, '\\n']\n",
      "<class 'list'> : ['테스트1', <strong>강조</strong>]\n",
      "<class 'list'> : ['강조']\n",
      "[ find_all()의 text=True 매개변수 ]\n",
      "[<li>테스트2</li>, <li>테스트3</li>]\n"
     ]
    }
   ],
   "source": [
    "html_doc = \"\"\"\n",
    "<!DOCTYPE html>\n",
    "<html>\n",
    "     <head>\n",
    "          <meta charset='utf-8'>\n",
    "          <title>Test BeautifulSoup</title>\n",
    "     </head>\n",
    "     <body>\n",
    "          <p align=\"center\">P태그의 컨텐트</p>\n",
    "          <img src=\"http://unico2013.dothome.co.kr/image/flower.jpg\" width=\"300\">\n",
    "          <ul>\n",
    "               <li>테스트1<strong>강조</strong></li>\n",
    "               <li>테스트2</li>\n",
    "               <li>테스트3</li>\n",
    "          </ul>\n",
    "     </body>\n",
    "</html> \"\"\"\n",
    "from bs4 import BeautifulSoup\n",
    "bs = BeautifulSoup(html_doc, 'html.parser')\n",
    "print(\"[ string 속성 ]\")\n",
    "print(type(bs.p.string), ':', bs.p.string)\n",
    "print(type(bs.ul.string), ':', bs.ul.string)\n",
    "print(type(bs.ul.li.string), ':', bs.ul.li.string)\n",
    "print(type(bs.ul.li.strong.string), ':', bs.ul.li.strong.string)\n",
    "print(\"[ text 속성 ]\")\n",
    "print(type(bs.p.text), ':', bs.p.text)\n",
    "print(type(bs.ul.text), ':', bs.ul.text)\n",
    "print(type(bs.ul.li.text), ':', bs.ul.li.text)\n",
    "print(type(bs.ul.li.strong.text), ':', bs.ul.li.strong.text)\n",
    "print(\"[ contents 속성 ]\")\n",
    "print(type(bs.p.contents), ':', bs.p.contents)\n",
    "print(type(bs.ul.contents), ':', bs.ul.contents)\n",
    "print(type(bs.ul.li.contents), ':', bs.ul.li.contents)\n",
    "print(type(bs.ul.li.strong.contents), ':', bs.ul.li.strong.contents)\n",
    "print('[ find_all()의 text=True 매개변수 ]') # 콘텐츠가 text로만 구성됨(sub태그이거나 sub태그 포함하면 찾지않음)\n",
    "print(bs.find_all('li',text=True))"
   ]
  },
  {
   "cell_type": "code",
   "execution_count": 53,
   "metadata": {},
   "outputs": [
    {
     "name": "stdout",
     "output_type": "stream",
     "text": [
      "<class 'bs4.element.Tag'>\n",
      "<class 'bs4.element.ResultSet'>\n",
      "---------------------------------\n",
      "<title>Test BeautifulSoup</title>\n",
      "<p align=\"center\"> text contents </p>\n",
      "<img src=\"http://unico2013.dothome.co.kr/image/flower.jpg\" width=\"500\"/>\n",
      "---------------------------------\n",
      "[<p align=\"center\"> text contents </p>, <p align=\"right\">  text contents 2 </p>, <p align=\"left\">   text contents 3 </p>, <p>text contents 4</p>]\n",
      "----------------\n",
      "<p align=\"center\"> text contents </p>\n",
      "<p align=\"right\">  text contents 2 </p>\n",
      "<p align=\"left\">   text contents 3 </p>\n",
      "<p>text contents 4</p>\n"
     ]
    }
   ],
   "source": [
    "html_doc=\"\"\"\n",
    "<!DOCTYPE html>\n",
    "<html>\n",
    "  <head>\n",
    "     <meta charset='utf-8'>\n",
    "     <title>Test BeautifulSoup</title>\n",
    "  </head>\n",
    "  <body>\n",
    "     <p align=\"center\"> text contents </p>\n",
    "     <p align=\"right\">  text contents 2 </p>\n",
    "     <p align=\"left\">   text contents 3 </p>\n",
    "     <img src=\"http://unico2013.dothome.co.kr/image/flower.jpg\" width=\"500\">\n",
    "     <div>\n",
    "       <p>text contents 4</p> \n",
    "     </div>\n",
    "  </body>\n",
    "</html> \"\"\"\n",
    "\n",
    "from bs4 import BeautifulSoup\n",
    "bs = BeautifulSoup(html_doc, 'html.parser')\n",
    "print(type(bs.find('p')))\n",
    "print(type(bs.find_all('p')))\n",
    "print(\"---------------------------------\")\n",
    "print(bs.find('title'))\n",
    "print(bs.find('p'))\n",
    "print(bs.find('img'))\n",
    "print(\"---------------------------------\")\n",
    "ptags = bs.find_all('p')\n",
    "print(ptags)\n",
    "print(\"----------------\")\n",
    "for tag in ptags :\n",
    "    print(tag)"
   ]
  },
  {
   "cell_type": "code",
   "execution_count": 56,
   "metadata": {},
   "outputs": [
    {
     "name": "stdout",
     "output_type": "stream",
     "text": [
      "<p align=\"center\"> text contents </p>\n",
      "<p align=\"right\" class=\"myp\">  text contents 2 </p>\n",
      "<p a=\"b\" align=\"left\">   text contents 3 </p>\n",
      "-------------------------------------\n",
      "<p align=\"center\"> text contents </p>\n",
      "<p align=\"right\" class=\"myp\">  text contents 2 </p>\n",
      "<p a=\"b\" align=\"left\">   text contents 3 </p>\n",
      "[   text contents 3 ]\n",
      "[text contents 3]\n",
      "[text contents 3]\n"
     ]
    }
   ],
   "source": [
    "html=\"\"\"\n",
    "<!DOCTYPE html>\n",
    "<html>\n",
    "  <head>\n",
    "     <meta charset='utf-8'>\n",
    "     <title>Test BeautifulSoup</title>\n",
    "  </head>\n",
    "  <body>\n",
    "     <p align=\"center\"> text contents </p>\n",
    "     <p align=\"right\" class=\"myp\">  text contents 2 </p>\n",
    "     <p align=\"left\" a=\"b\">   text contents 3 </p>\n",
    "     <img src=\"http://unico2013.dothome.co.kr/image/flower.jpg\" width=\"500\">\n",
    "  </body>\n",
    "</html> \"\"\"\n",
    "\n",
    "from bs4 import BeautifulSoup\n",
    "bs = BeautifulSoup(html, 'html.parser')\n",
    "print(bs.find('p', align=\"center\"))\n",
    "print(bs.find('p', class_=\"myp\"))\n",
    "print(bs.find('p', align=\"left\"))\n",
    "print(\"-------------------------------------\")\n",
    "print(bs.find('p', attrs={\"align\":\"center\"}))\n",
    "print(bs.find('p', attrs={\"align\":\"right\", \"class\":\"myp\"}))\n",
    "print(bs.find('p', attrs={\"align\":\"left\"}))\n",
    "\n",
    "pdom = bs.find('p', align=\"left\")\n",
    "print(\"[\"+pdom.text+\"]\")\n",
    "print(\"[\"+pdom.get_text(strip=True)+\"]\")\n",
    "print(\"[\"+pdom.string.strip()+\"]\")"
   ]
  },
  {
   "cell_type": "code",
   "execution_count": 57,
   "metadata": {},
   "outputs": [
    {
     "name": "stdout",
     "output_type": "stream",
     "text": [
      "<class 'bytes'>\n",
      "==============================\n",
      "[<h1>CSS 선택자 학습</h1>]\n",
      "<class 'bs4.element.ResultSet'>\n",
      "<class 'bs4.element.Tag'>\n",
      "<h1>태그의 갯수 : 1 \n",
      "f_subtitle이라는 id 속성을 갖는 태그 갯수 : 1 \n",
      "subtitle이라는 class 속성을 갖는 태그 갯수 : 2 \n",
      "aside 태그의 <h2> 자식 태그 갯수 : 1 \n",
      "src 속성을 갖는 태그 갯수 : 1 \n",
      "CSS 선택자 학습\n",
      "------------------------------\n",
      "교육과정 소개\n",
      "------------------------------\n",
      "웹 클라이언트 기술\n",
      "학습 순서(수집)\n",
      "------------------------------\n",
      "학습 순서(수집)\n",
      "------------------------------\n",
      "https://www.python.org/static/img/python-logo.png\n"
     ]
    }
   ],
   "source": [
    "import requests\n",
    "from bs4 import BeautifulSoup\n",
    "\n",
    "req = requests.get('http://unico2013.dothome.co.kr/crawling/exercise_css.html')\n",
    "html = req.content\n",
    "print(type(html))\n",
    "html = html.decode('utf-8')\n",
    "#print(html)\n",
    "print(\"==============================\")\n",
    "bs = BeautifulSoup(html, 'html.parser')\n",
    "title = bs.select('h1')\n",
    "title1 = bs.select('#f_subtitle')\n",
    "title2 = bs.select('.subtitle')\n",
    "title3 = bs.select('aside > h2')\n",
    "img = bs.select('[src]')\n",
    "print(title)\n",
    "print(type(title))\n",
    "print(type(title[0]))\n",
    "print(\"<h1>태그의 갯수 : %d \" %len(title))\n",
    "print(\"f_subtitle이라는 id 속성을 갖는 태그 갯수 : %d \" %len(title1))\n",
    "print(\"subtitle이라는 class 속성을 갖는 태그 갯수 : %d \" %len(title2))\n",
    "print(\"aside 태그의 <h2> 자식 태그 갯수 : %d \" %len(title3))\n",
    "print(\"src 속성을 갖는 태그 갯수 : %d \" %len(img))\n",
    "\n",
    "for content in title:\n",
    "    print(content.string)\n",
    "print(\"------------------------------\")\n",
    "for content in title1:\n",
    "    print(content.text)\n",
    "print(\"------------------------------\")\n",
    "for content in title2:\n",
    "    print(content.text)\n",
    "print(\"------------------------------\")\n",
    "for content in title3:\n",
    "    print(content.text)\n",
    "print(\"------------------------------\")\n",
    "for content in img:\n",
    "   print(content[\"src\"])"
   ]
  },
  {
   "cell_type": "markdown",
   "metadata": {},
   "source": [
    "---"
   ]
  },
  {
   "cell_type": "markdown",
   "metadata": {},
   "source": [
    "- 네이버 영화리뷰 페이지 크롤링 : 한페이지"
   ]
  },
  {
   "cell_type": "code",
   "execution_count": 1,
   "metadata": {
    "tags": []
   },
   "outputs": [
    {
     "name": "stdout",
     "output_type": "stream",
     "text": [
      "영화 제목 : 택시운전사\n",
      "평점 : 1\n",
      "리뷰글 : 진지하게 이게 평점9.3?영화계 좌파입김이 장난아니네정치색 싹빼고 신파극 극혐임 \n",
      "-----------------------------------------\n",
      "영화 제목 : 그것: 광대의 저주\n",
      "평점 : 10\n",
      "리뷰글 : 나는 보지않았다 ㅋㅋㅋ \n",
      "-----------------------------------------\n",
      "영화 제목 : 보이스\n",
      "평점 : 10\n",
      "리뷰글 : 액션도 시원하고 쫄리는 맛이 있고 재밌었음 주연 순정미 미쳐... \n",
      "-----------------------------------------\n",
      "영화 제목 : 기적\n",
      "평점 : 6\n",
      "리뷰글 : 평점에 낚인 기분.. 반전이 너무 일찍 나와서 그런지 중반 이후 부터 억지감동 연속.. \n",
      "-----------------------------------------\n",
      "영화 제목 : 극장판 귀멸의 칼날: 무한열차편\n",
      "평점 : 10\n",
      "리뷰글 : 인물표현도 잘하고 그림체도 좋고 너무 주술을 이용하는 것도 아닌 검을 이용하여 귀멸을 한다는 자체가 아날로그적이고 현실적으로 납득이 가능하며 철학적인 포인트도 들어가있고.. 시청자를 어떻게 하면 쥐락펴락할 수 있는지 아는 것 같다. 드래곤볼보다 재밌는 정도.. \n",
      "-----------------------------------------\n",
      "영화 제목 : 히든 페이스\n",
      "평점 : 10\n",
      "리뷰글 : 연출 연기도 좋았지만, 스토리가 대박~~ \n",
      "-----------------------------------------\n",
      "영화 제목 : 오살\n",
      "평점 : 10\n",
      "리뷰글 : 엄마 왜케 이쁘냐 ㅋㅋㅋ \n",
      "-----------------------------------------\n",
      "영화 제목 : 007 스카이폴\n",
      "평점 : 10\n",
      "리뷰글 : 노타임투다이 개봉전 복습겸 다시 봤는데 십여년만에 다시 봐도 다니엘이 출연한 007중 역대급 \n",
      "-----------------------------------------\n",
      "영화 제목 : 나쁜 녀석들: 더 무비\n",
      "평점 : 8\n",
      "리뷰글 : 역시 타격감은 마동석, 몸매는 김아중이 최고! \n",
      "-----------------------------------------\n",
      "영화 제목 : 기적\n",
      "평점 : 10\n",
      "리뷰글 : 영화 리뷰 처음이네요..진짜 안 쓸수가 없는 기적 ㅎㅎㅎ그냥 최고예요  스토리 , 연기 할 것 없이진짜 진짜 안보시면 후회할 영화~~이성민 배우, 박정민 배우, 이수경 배우 찐팬됐어융 ㅠㅠ \n",
      "-----------------------------------------\n"
     ]
    }
   ],
   "source": [
    "import requests\n",
    "from bs4 import BeautifulSoup\n",
    "import re\n",
    "req = requests.get('http://movie.naver.com/movie/point/af/list.nhn?page=1')\n",
    "html = req.text\n",
    "soup = BeautifulSoup(html, 'html.parser')\n",
    "titles = soup.select('.movie')\n",
    "points = soup.select('td.title > div > em')\n",
    "reviews = soup.select('td.title')\n",
    "movie_title = []\n",
    "movie_point = []\n",
    "movie_review = [] \n",
    "\n",
    "for dom in titles:\n",
    "    movie_title.append(dom.text)\n",
    "for dom in points:\n",
    "    movie_point.append(dom.text)\n",
    "for dom in reviews:\n",
    "    content = dom.contents[6] \n",
    "    #content=re.sub(\"신고\", '', content)\n",
    "    content=re.sub(\"[\\n\\t]\", '', content)    \n",
    "    movie_review.append(content)\n",
    "commentLength = len(movie_title)   \n",
    "for i in range(commentLength):\n",
    "    print(\"영화 제목 : \" + movie_title[i])\n",
    "    print(\"평점 : \" + movie_point[i])\n",
    "    print(\"리뷰글 : \" + movie_review[i])\n",
    "    print(\"-----------------------------------------\")   \n"
   ]
  },
  {
   "cell_type": "code",
   "execution_count": 7,
   "metadata": {},
   "outputs": [
    {
     "data": {
      "text/plain": [
       "['\\n',\n",
       " <a class=\"movie color_b\" href=\"?st=mcode&amp;sword=146469&amp;target=after\">택시운전사</a>,\n",
       " '\\n',\n",
       " <div class=\"list_netizen_score\">\n",
       " <span class=\"st_off\"><span class=\"st_on\" style=\"width:10%\">별점 - 총 10점 중</span></span><em>1</em>\n",
       " </div>,\n",
       " '\\n',\n",
       " <br/>,\n",
       " '진지하게 이게 평점9.3?영화계 좌파입김이 장난아니네정치색 싹빼고 신파극 극혐임 \\n\\t\\t\\t\\n\\t\\t\\t\\n\\t\\t\\t\\n\\t\\t\\t\\t\\n\\t\\t\\t\\t\\n\\t\\t\\t\\t\\n\\t\\t\\t\\t',\n",
       " <a class=\"report\" href=\"#\" onclick=\"report('woal****', 'Hel2gF+wI7y2cEWbSpr0c4AUlJyoY8UCRhRAiSdi3z0=', '진지하게 이게 평점9.3?영화계 좌파입김이 장난아니네정치색 싹빼고 신파극 극혐임', '17723101', 'point_after');\" style=\"color:#8F8F8F\" title=\"새 창\">신고</a>,\n",
       " '\\n']"
      ]
     },
     "execution_count": 7,
     "metadata": {},
     "output_type": "execute_result"
    }
   ],
   "source": [
    "reviews[0].contents"
   ]
  },
  {
   "cell_type": "markdown",
   "metadata": {},
   "source": [
    "- 네이버 리뷰 페이지 크롤링 : 페이지 이동(30페이지)"
   ]
  },
  {
   "cell_type": "code",
   "execution_count": 8,
   "metadata": {
    "tags": []
   },
   "outputs": [
    {
     "name": "stdout",
     "output_type": "stream",
     "text": [
      "1,택시운전사,진지하게 이게 평점9.3?영화계 좌파입김이 장난아니네정치색 싹빼고 신파극 극혐임 \n",
      "10,그것: 광대의 저주,나는 보지않았다 ㅋㅋㅋ \n",
      "10,보이스,액션도 시원하고 쫄리는 맛이 있고 재밌었음 주연 순정미 미쳐... \n",
      "6,기적,평점에 낚인 기분.. 반전이 너무 일찍 나와서 그런지 중반 이후 부터 억지감동 연속.. \n",
      "10,극장판 귀멸의 칼날: 무한열차편,인물표현도 잘하고 그림체도 좋고 너무 주술을 이용하는 것도 아닌 검을 이용하여 귀멸을 한다는 자체가 아날로그적이고 현실적으로 납득이 가능하며 철학적인 포인트도 들어가있고.. 시청자를 어떻게 하면 쥐락펴락할 수 있는지 아는 것 같다. 드래곤볼보다 재밌는 정도.. \n",
      "10,히든 페이스,연출 연기도 좋았지만, 스토리가 대박~~ \n",
      "10,오살,엄마 왜케 이쁘냐 ㅋㅋㅋ \n",
      "10,007 스카이폴,노타임투다이 개봉전 복습겸 다시 봤는데 십여년만에 다시 봐도 다니엘이 출연한 007중 역대급 \n",
      "8,나쁜 녀석들: 더 무비,역시 타격감은 마동석, 몸매는 김아중이 최고! \n",
      "10,기적,영화 리뷰 처음이네요..진짜 안 쓸수가 없는 기적 ㅎㅎㅎ그냥 최고예요  스토리 , 연기 할 것 없이진짜 진짜 안보시면 후회할 영화~~이성민 배우, 박정민 배우, 이수경 배우 찐팬됐어융 ㅠㅠ \n",
      "-----------------------------------------------------\n",
      "10,캐치 미 이프 유 캔,\n",
      "10,우주 전쟁,\n",
      "10,레전드 오브 조로,\n",
      "10,기적,재밌고 올해 영화관에서 본 영화중에 최고였음윤아 미모랑 정민이형 연기력 보러갔다가 이수경 매력에 빠져버린 영화 \n",
      "1,메이드 인 루프탑,아~~ 씨알!!! 양반 채면에 욕은 못하겠고... 욕나오는 영화 \n",
      "10,기적,이수경 배우님을 보면서 너무나 감동을 받았다내 멍청한 머리로 다 표현할수는 없지만, 머리보다 마음이 먼저이게 해주셨다이수경 배우님 정말 너무 매력적 이셨다.매 순간에 내가 다락방에 있는거 같았고, 같이 걷는거 같았다 극장에서 보길 잘했다이 영화를 보며 아주 오랜만에 순수했던 그때의 나로 돌아가 그 감정을 만났다 오랜만이어서… 반가웠다이 영화를 꼭 보시기를 바래요.보실때 이수경 배우님 눈을 꼭 보세요 \n",
      "6,디스트릭트 9,근접해있는 달여행도 불가능한 하등수준의 인간이 은하계를 건너며 대우주를 탐험하고 인류로써는 상상조차도 하기힘든 초고도수준의 과학기술을 보유한 종족을 학살하고 형상은 벌레처럼 표현한 이상한 영화. \n",
      "5,낫아웃,어린 나이에 안따깝네요. 좀 긴장감이 부족 \n",
      "2,액션히어로,ㅍㅎㅎㅎ 기도 안차서 웃고 갑니다. \n",
      "9,솔저 발터,\n",
      "-----------------------------------------------------\n",
      "8,아수라,정우성 화내는연기 원툴, 다큐인거 거르고 그냥 영화 자체만 봐도 재밌었음 \n",
      "10,아수라,오호~기대안했는디 괘안네^^ \n",
      "8,여자의 일생,\n",
      "1,보이스,보는 내내 언제 끝나나 싶더라 \n",
      "10,슬픔보다 더 슬픈 이야기,정주행 3번 해도 가슴까지 울리는 영화 \n",
      "9,디파티드,엇갈릴수밖에없는 두 역할극. 패닉인 와중에도 본분을 다하는 빌리가 압권이었고 대조적인 군상들이 평행하면서 대비효과를, 일치되면서 다소 허무하지만 간결하고 매력적인 여운을 남긴다 \n",
      "10,말리그넌트,일단 소재가 신선해서 좋았고 스토리 개연성도 나쁘지않았음. 공포 영화 못보는 사람도 볼 만 했을듯 \n",
      "10,아수라,다큐멘터리 영화였네요~ \n",
      "4,좋은 사람,일단 믿고 걸러야 하는 영화아카데미 학생들이 만든 졸렬독립영화. 제2의 봉준호를 꿈꾸며 영화아카데미에 입학했지만 그닥 희망은 보이지 않는다. 뻔한 소재를 부풀려 장편으로 만들기 위한 스토리텔링 억지 디벨롭. 배우 김태훈이 이 작품의 유일한 구원투수. 솔까 여기 평점 10쩜만쩜 남긴 것들 전부 영화아카데미 동기, 선배, 후배, 부모, 형제, 자매, 남매, 지인 때거지라는것도 잘 안다. 영화 좀 잘 만들자. 특히 형사 단역의 연기가 진짜 싸가지없고 삶에 의욕없는 형사랑 똑같아서 놀랬다. 암튼 이런 졸렬 학생 독립영화는 평쩜 4점이면 후한거다. \n",
      "10,보이스,\n",
      "-----------------------------------------------------\n",
      "10,위대한 개츠비,사랑에 모든걸 바친 위대한 개츠비 \n",
      "10,자도빌 포위작전,쓰레기같은 프랑스놈들ㅋㅋㅋ \n",
      "10,아이 앰 히스 레저,히스레저 니까  무조건 보게 된 영화이지만 보고나서 더 많이 좋아진 영화 \n",
      "1,올드,영화 질이 낮다 뭔가 엉성하고 완성도도 떨어지고 \n",
      "8,왕의 남자,천민에게도 어미의 향을 느끼는 연산이 그저 가엽구려. \n",
      "1,제8일의 밤,끝나고 바로  번뇌옴 진짜 이건  좀 아니다... \n",
      "1,싱크홀,1명이 쓴 시나리오아니고  3000명이 시나리오 1줄씩  앞에내용 모른채 지 줏대로 만든시나리오진짜 다른말필요없이 지줏대로임 \n",
      "10,디파티드,왜 이제야  이영화를 자세히 보았지재시청에도 감동 생생 \n",
      "10,나의 PS 파트너,지성ㅡ신소율 이별장면이 최고인듯 \n",
      "8,어디선가 누군가에 무슨 일이 생기면 틀림없이 나타난다 홍반장,담백한 스토리도 좋고 배우분들도 풋풋하고 특히 엄정화님이 더 윤혜진 연기에 어울려서 보기 편했어요 ㅋㅋㅋ 근데 그시절 저급한 농락과 고구마 연출은 어쩔 수 없이 눈살 찌푸리고 봤네요 나중에는 그런 부분은 스킵하면서 봤습니다 ㅋㅋ 보실분 있으면 참고 하시길.. \n",
      "-----------------------------------------------------\n",
      "10,소년시절의 너,위아래로 질질 싼다.. \n",
      "10,소공녀,자신의 신념에 따라 당당히 살아가는 미소가 너무 멋있었다. 옛 친구들의 집에 머무르면서 그들에게 나누어준 따뜻한 사랑이 스크린 밖까지 전해졌다. 가장 철없어 보일지라도, 누구보다 단단한 그녀. 캐릭터가 정말 매력적인 영화. 지금 이 순간에도 자유롭게 여행하고 있을 미소들을 응원한다. \n",
      "10,싱크홀,여기서 별로라고 하는 사람 특) 명확하게 왜 별론지 말 안함ㅋㅋ 그냥 지 기준에 마음에 안 들어서 1점 준거지 평점 읽어보면 한국인 평균 수준이 참... 맞춰주기 어렵다 그죠? 모두를 만족시키는건 어려운데 뭔 요구가 이리 많은지 모르겠네 영화볼 때 참 힘들게 본다 편안하게 순수하게 보면 덜 피곤한데 왜 그래요? 상대적이라는걸 모르는게 아니야 라면 한 봉지가 누군가에겐 과식일 수도 있고 누군가에겐 새발의 피일 수도 있지 그런데 지 기준에 재미없다고 돈 주고 보지마라? 이걸 강요하는 건 진짜 수준나오지 나는 돈 주고 영화관에서 한번 더 볼 의향있다 내가 봤을 땐 스토리도 괜찮았고 연기가 만점인데? 몰입감도 장난 아니었고 특히 수찬이 구해서 클라이밍할 때 하이라이트지 \n",
      "10,샹치와 텐 링즈의 전설,스토리는 별로고 액션신만 볼만하다는 얘기를 듣고 봤는데 액션신은 정말 히어로 단독영화중에서는 최고의 액션신이었고 스토리도 재밌었요. \n",
      "8,엽문3: 최후의 대결,4편도 나왔는데 뭐가 최후의 대결이여, 하여간,,, \n",
      "10,발신제한,몰입감있고 스릴있고 잼잇네요 \n",
      "5,엽문4: 더 파이널,엽문은 계속 자기네가 상을 주네.. \n",
      "10,남산의 부장들,방송해줄때마다봄ㅎㅎ \n",
      "2,더스트맨,너무 진부하고 지루하여 보기가 힘들 정도네요. 왠만해선 편점 안남기는데.. 하 심각하네요. 그래서 남겨봅니다. 힘든 상황에 있는 사람들의 배경을 보며 가끔 위안 삼을때도 있긴하지만 이건 좀 아닌듯 ;; 일단 너무 지루하여 20분 넘겨보기가 힘들 정도네요. 요즘 현실과도 너무 안맞고.. 보고 짜증이 다 나는 영화는 참 오랫만이네 ㅎㅎ 영화평이 좋아서 봤더니 전부 조작인가 싶기도 할 정도로 어처구니 없네요. \n",
      "10,올드,신선하지 않은 소재인데 신선한 연출  평점 조작단 때문에 10점 줌 \n",
      "-----------------------------------------------------\n",
      "4,명량, 이순신 장군을 스크린에서 볼 수 있다는 것은 좋았으나 영화의 완성도는 상당히 낮습니다 같은 감독이 후속편을 준비중이라는데 후속편은 애국마케팅 말고 완성도로 승부해 주세요~ \n",
      "10,그린 북,마지막 볼리롱가의 눈물젖은 눈... 진짜 나도 모르게 두 눈에서 눈물이 또르르...세상에...  세상에... \n",
      "10,기적,오랜만에  느낌 있는 영화 \n",
      "10,파파로티,\n",
      "10,1987,이 시대 배경 영화중 제일 잘 만든 영화라는 생각이든다. 이한열 열사 조형물앞에서 부마항쟁인가 라는 말 하지 않게 더 많은 국민들이 봤으면 좋겠다 \n",
      "10,기적,진짜 주변에 안 본 사람이 보자고 하면 영화관 가서 또 볼 영화 .... ㅠㅠ 후회 안 합니다 진짜 \n",
      "1,싱크홀,재난영화 매니아로써 진짜 최악ㅋㅋㅋ \n",
      "10,섀도우 헌터스 : 뼈의 도시,완전 잼있음간만에 제일 재밌었다.첨부터 지루한게 없는 영화 \n",
      "10,고지전,영화관에서 보지 못한게 한이다. 너무 가슴이 아픈 우리나라 한민족의 역사 \n",
      "7,비스티 보이즈,나랑 아무 상관 없는데 공감하려고 애쓰며 본 유일의 영화 \n",
      "-----------------------------------------------------\n",
      "10,도굴,빅잼 비비빅잼 꿀잼 딸기쨈 포도쨈 저가본 주관적인 영화 베스트 10 안에듬 ㅂㄷㅂㄷ잼 \n",
      "4,더 헌팅,힐하우스의 유령이 훨씬 낫다 \n",
      "8,도가니,너무나도 불편해서 속이 안 좋았던 영화이지만 이러한 영화가 더욱 만들어져야 한다는 생각에 1점을 더 주는. 절제된 연출이 인상적. \n",
      "10,카센타,\n",
      "10,낙원의 밤,보는내내 마음먹먹해지면서 아파오는...슬프네요 마지막까지 그냥 슬퍼요 ㅠ 볼거리랍시고 화려한액션신 기교범벅인 영화보다 연기하는배우들에 감정이입해서 여운이 강하게 남는 이런영화가 흥행에 성공했음좋겠어요 \n",
      "10,위쳐: 늑대의 악몽,영화나 드라마로는 표현할 수 없는 그런 세계를 애니메이션이라서 만들 수 있었음. 몰입감 최고임. \n",
      "8,프리 가이,캬 ~ 게임이 발달하니 이런 영화도 나오는구나 !중간에 살짝 지루했지만 후반에가서 대박 카메오까지 그냥 빵빵 터져준다 ㅋ \n",
      "5,더 울프 오브 월 스트리트,역겹네선동하는 게 공산주의자 못지않네 \n",
      "10,아수라,명작을 몰라봤습니다. 재평가중인 아수라... \n",
      "1,모가디슈,그 사람이 있다는 것 부터 비호감 \n",
      "-----------------------------------------------------\n",
      "8,싱크홀, ___차승원은 불사신 \n",
      "7,기적, 신촌 메박] 210925일 오후 12시30분 극장서 혼자 보게된 영화다. 상영관서 혼자본게 4번 째인가? 5번째 인가? 아무튼 전체적으로 착해 보이게 만든 영화인데 캐릭터부터 공감이 안된다. 시골서 뜬금없는 전국적 천재와 그 의 무관심에도 쫓아다니며 헌신하는 국회의원의 딸 이라니. 연출이나 분위기는 좋았지만 황당한 반전에 헛 웃음도 터졌다. 그러나 편안하고 따뜻했다. 뭔가 아련하기도.하다. 그 후에 주인공들은 어떻게 됬을까? 궁금하다. \n",
      "10,싱크홀,한국형 재난 블록버스터 탄탄한 스토리와 안정된 연출 그리고 감동과 재미 두마리 다 잡았네요 잘 보았습니다 \n",
      "10,샹치와 텐 링즈의 전설,시간이 붕떠서 우연히 보게 되었는데 엄청 재미있게 봤습니다 \n",
      "10,악녀,김옥빈 예쁘기만했었는데 넘 멋있음 \n",
      "7,두 남자,남주가 모든 사건의 원흉이네 여자하나때문에 ㅉㅉ \n",
      "10,죽여주는 여자,\n",
      "10,벤자민 버튼의 시간은 거꾸로 간다,거꾸로 가나 똑바로 가나 만남과 이별은 같다 \n",
      "10,리틀 포레스트,가장 편안하고 단단하게 만들어주는 안식처가 누구에게나 있다. 그런 안식처에서 자라난 혜원, 그렇게 자라게 해주고 싶었던 엄마, 모녀간의 이상적인 그림은 아니였지만 이상하게도 서로에 대한 사랑이 깊게 느껴지던 영화 !이 영화를 보면 늘 마음이 편안해진다 \n",
      "1,걸캅스,\n",
      "-----------------------------------------------------\n",
      "8,조조 래빗,아직도 할 말이 많은가 싶은 나치와 유태인 스토리를 웨스엔더슨이라는 장르에 잘 녹여 내셨네 \n",
      "10,남자가 사랑할 때,하.. 미쳤어용.. 눈물 안흘리면 고ㅈ.. \n",
      "2,늑대와 빨간 재킷,ㅋㅋㅋ .코미디 영화인줄마지막 소리지르고 파란물감맞는거아 킬링포인트엿음!!!감동은없는데 얘기도 산으로가서산에서찍는건데겁나재미잇음 코미디영화로강추 \n",
      "10,승리호,난 개인적으로 이런 영화가 재미있다. 알바아니고. 몬헌 이후로 재미있게 봤음. ㅎ \n",
      "10,어시스턴트,인생은 40 훌쩍 넘어서부터다. 그때까지 모든 일은 공부한다고 생각하고 참아야 한다. 생각은 나중에 하고. \n",
      "10,아수라,\n",
      "2,늑대와 빨간 재킷,무슨내용??  감독의 정신세계가 궁금... \n",
      "10,좋은 사람,맨날 독립영화 비스무리한데만 나오고, 항상 어둡고 축 쳐지는 연기로만 일관하는데, 넷플릭스 시리즈로 대박 한번 터추시길. \n",
      "9,세인트,정말 너무 너무 재미있었다...개인적으로 완전 내취향...꺄...엘리자베스 슈 엄청 예쁘다 \n",
      "10,해리 포터와 불의 잔,\n",
      "-----------------------------------------------------\n",
      "10,해리 포터와 아즈카반의 죄수,\n",
      "10,해리 포터와 비밀의 방,\n",
      "2,혼자 사는 사람들,이게 영화인가? 혼자사는 가정사있는 싸이코끼있는 까칠한여자의 몆일간 일상이 무슨 영화라고참 아직도 대한민국 마이너 영화수준 참,,, \n",
      "1,늑대와 빨간 재킷,별 쓰잘때기없이 더럽고 공포스럽고 피흘리는 영화. 보고 난 후에 그냥 기분이 더러워짐. 별 하나도 아까움 \n",
      "9,첨밀밀,꿈을 찾는 젊은이들의 열정과 노력을 시대적 배경에 맞게 잘 그려냈고 잔잔한 사랑이지만 격정적인 헤어짐과 만남을 통해 스케일있는 깊은 감정과 감동을 불러내는 우수한 작품 인것 같습니다. \n",
      "10,프리 가이,올해 본 영화중에 아니, 최근 몇년안에 본 영화중에 가장 마음에 드는 영화네요. 감동도 있고... 정말 재미있게 봤습니다. 아무생각없이 봤다가 정말 괜찮은 영화 봤네요. 이런 영화가 흥행해야 하는데....^^ \n",
      "10,리치 리치,개인적으로 너무나 재밌게 본 영화다.절대 광고 아니니까 지우지 마라.개이버 영화판 운영자야 \n",
      "6,올드,B.B B.B B.B B.B급 \n",
      "10,LA 컨피덴셜,1초도 버릴 곳 없이 이렇게 알찬 영화는 몇 없다. 오프닝 15분만에 각 캐릭터들의 성격, 시대상을 깔끔하게 파악시키는 각색과 연출의 힘. 타이타닉이라는 거대한 함선만 없었더라면... \n",
      "1,극장판 귀멸의 칼날: 무한열차편,우익 애니 쳐보는 개돼지들 제사는 왜 지내는 지 모르겠네 ㅋㅋ \n",
      "-----------------------------------------------------\n",
      "10,너는 내 운명,\"\"\"\"밥상\"\"\"\" \n",
      "10,튼튼이의 모험,픽션과 논픽션의 경계투박한 날 것의 영화같지만보다보면 어느샌가 현실의 나를바라보게 되는 묘한 매력의 영화 \n",
      "10,기적,오랜만에 보는 따뜻한 영화였습니다 \n",
      "4,올드,와씨 샤말라니 ㅅㅋ 죽고싶냐? \n",
      "10,더 퍼지:거리의 반란,내용도 좋아서 흥미진진하게 봤습니다 \n",
      "10,아수라,다시보는 아수라~ 느낌이 다르다! 불공정한 사회가 없는 깨끗한대한민국이 되길 바랍니다! \n",
      "10,클래식,연출,연기,스토리,영상미,ost 하나도 빠짐 없이 완벽했다. 연출로 인해 영상미가 너무 올라가고 배우들의 연기가 영화의 스토리를 더 몰입 시켰다. 거기에 더해진 잔잔하면서도 장면의 분위기를 띄워주는 ost가 정말 장난 아니였다.. 정말 재밌기도 하고 막판에 눈물도 많이 흘렀던 거 같다... 한 번 쯤은 꼭 보길 바라는 영화...첫사랑이 아픔을 고독하게 보여준다.. \n",
      "10,기적,정말 마음이 따듯해지는 영화.. 여운이 굉장히 길게남고 눈물은 주체할 수 없이 계속 흐른다 \n",
      "10,안녕 베일리,반려인들은 모두 뭉클뭉클ㅠ \n",
      "9,추격자,감독판은 더 잔인했다고 한다...피해자의 토막난 사체를 휘둘러대며 싸움.개이버 영화판 운영진 모지리들아.무조껀 함부로 쳐 지우지 마.대한민국 국민에겐 기본적인 발언권 이라는게 있다 \n",
      "-----------------------------------------------------\n",
      "10,1987,이런 영화를 만들어 주셔서 감사합니다 \n",
      "3,온다,츠마부키사토시를 믿고 보았으나 실패 \n",
      "3,싱크홀,싱크홀에 빠진 후부터 재미가 없어진다. \n",
      "10,완벽한 타인,지극히 현실적이다 ㅋㅋ \n",
      "10,월터의 상상은 현실이 된다,\n",
      "2,말리그넌트,딱 B급 영화의 정석 \n",
      "9,습도 다소 높음,감독님 진심으로 감사합니다.  조만간 감독님의 시대가 올 것 같습니다.영화가 한층 풍성하고 미묘해 졌습니다. 코메디 적인 요소는 여전하고 거기다 시대를 관통하는 해학까지 있습니다. 웃기면서 감동스럽스니다. 항상 낮은 위치를 바라봐주고 기다려주네요. \n",
      "1,극장판 귀멸의 칼날: 무한열차편,씹뜨억하면 화낸다는게 사실인가요? \n",
      "10,내 머리 속의 지우개,\n",
      "1,승리호,끝까지 꾹참고 본 시간이 아깝.. \n",
      "-----------------------------------------------------\n",
      "9,남매의 여름밤,\n",
      "6,기적,뻔한 해피엔딩을 향해 가는 전형적인 신파영화...감흥이 없네... \n",
      "8,샹치와 텐 링즈의 전설,\n",
      "10,라이언,스토리에 흠뻑 빠져서 봤음. 그 작은 꼬마가 얼마나 무섭고 외로웠을까 상상도 안된다. 입양후의 성장 후 고통과 어려움을 섬세하게 잘 보여주고 가족을 찾아야만 하는 절실함의 이유를 생각하면 너무 가슴이 아팠고 가족을 찾는 사루를 영화내내 응원하게 했다. \n",
      "8,미나리,16부작 드라마가 5회로 마무리 \n",
      "9,남한산성,삼전도의 굴욕이 이렇게 가슴아픈 사건인 줄 처음 느꼈습니다 \n",
      "2,언니,이시영은 좋아하지만 커버 불가능한 영화..억지전개가 상상을 초월....ㅜㅜ \n",
      "1,배트맨 대 슈퍼맨: 저스티스의 시작,이게 왜 망했냐면 마블로 치면 아이언맨 나오고 시빌 워 나온거랑 똑같아서 망함 \n",
      "10,프리 가이,간만의 수작탄생추천함 \n",
      "9,몬스터 콜,\n",
      "-----------------------------------------------------\n",
      "10,새콤달콤,굿입니다 이런 영화 최고.. \n",
      "7,신이 말하는 대로,국뽕도 적당히하자... ㅉㅉ \n",
      "10,아들,평생 돌이킬 수 없는 끔찍하고 치명적인 잘못을 너무나도 어린 나이 11살에 저지른 소년에게 사회가, 그리고 우리가 갖춰야 할 태도는 무엇일까. 올리비에의 마지막 눈빛은 마치 말하는 것 같다. 소년아, 너의 잘못을 잊지도, 이해하지도, 용서하지도 않겠으나 바르게 살 두 번째 기회를 주겠다고. \n",
      "7,말리그넌트,아이디어는 기똥찬데... 풀어가는 과정은 지루하넹.. \n",
      "9,환상의 마로나,강아지, 자기를 버리고 가는 사람을 보며, 자기 없이 공놀이 하지 못해서 심심하진 않을까 하며 오히려 사람을 걱정해주는 존재 \n",
      "10,디 아워스,하루로 설명되는 삶은 걷 하루하루 반복되는 절망적인 삶일 터. 그렇게 우울은 세대를 넘나들며 내면을 잠식한다. \n",
      "10,프리 가이,음....GTA5 하러갑니다 \n",
      "10,타이타닉,완벽 짱 짱 디카프리오 존잘 \n",
      "1,청년경찰,스토리도 부실 년기도 부실 \n",
      "8,비포 미드나잇,제시가 셀린느 기분 풀어주려는 마지막 장면 너무 사랑스러웠다 \n",
      "-----------------------------------------------------\n",
      "10,극장판 귀멸의 칼날: 무한열차편,노래만 들어도 가슴이 웅장 해진다 \n",
      "10,기적,보는 내내 마음이 따뜻해지고 가슴에 오래 남을 영화입니다. 영상이 참 아름다워요. 스토리도 감동적이고 재미있고 연기도 빼어나서 시간가는 줄 모르고 봤어요. \n",
      "10,클레멘타인,2021년 9월 다시 이 영화를 새기다,,, \n",
      "10,아수라,재평가가 필요한 작품입니다. \n",
      "10,변산,고향이 시골인 사람은 누구나 공감할 수 있는  멋진 영화 \n",
      "10,극장판 귀멸의 칼날: 무한열차편,아카자 렌고쿠 전투씬 술식전개나 렌고쿠의 연옥 티비에서 보는것도 좋긴한데 극장에서 봤던 느낌의 반의반도 못살림....ㅠㅠ 중간광고가 많아서 몰입도도 떨어지고 재개봉하면 다시 보러 갈생각임. 무한열차는 극장용입니다ㅎㅎ 티비에서 첨 접해본 사람들이 그저 안타까울뿐 \n",
      "10,비포 미드나잇,\n",
      "7,혼자 사는 사람들,주인공은 지금즈음 어떻게 살고 있을까. 궁금해진다 \n",
      "1,낙원의 밤,진짜 50분동안 참다참다가 이문식 쎈척하는거에서 종료버튼 누름 \n",
      "10,프리 가이,오랜만에 정말 재밌는 영화를 봤네요~! \n",
      "-----------------------------------------------------\n",
      "10,추격자,영화도 영화지만 김윤석 배우가 정말 최고에요.. 우와.. \n",
      "6,샹치와 텐 링즈의 전설,흑흑 돌아와요 로다쥬... \n",
      "8,더 폴: 오디어스와 환상의 문,알렉산드리아의 순수함과 어울리는 뛰어난 색체 영상미 \n",
      "10,팬도럼,와우 ㄷㄷ 이게 10년전 영화라니 손에 땀을 쥐고 봤네요 \n",
      "8,모가디슈,그럭저럭 볼만한데 두번은 안볼듯 \n",
      "10,메기,믿음을 검으로, 의심을 방패로. 전진, 전~진! \n",
      "2,올드,vod로 봤는데 진심으로 보는걸 말리고싶다 설정은 진짜 좋았는데 개연성이 들죽날죽하고 자기가 정한 설정도 못지키고 대사도 갑자기 뜬금없슴 ㅋㅋ \n",
      "10,맨 인 블랙 2,이게 어떻게 평점이 7이지; 8점 후반은 돼야한다 \n",
      "10,늑대아이,\n",
      "8,낙원의 밤,남자들이 좋아할 영화 재밌게 봤습니다 \n",
      "-----------------------------------------------------\n",
      "10,마이너리티 리포트,최고다… 진짜 지금봐도 대단함 \n",
      "8,기적,그냥 좋아하는 배우들 많이 나와서 보러 갔는데 실화를 바탕으로 한 영화인지 몰랐고 이런 간이역이 있는지도 몰랐는데 영화를 통해서 알게 됐고 간이역을 만들고 싶었던 주민들의 노력과 절실함이 일궈낸 잔잔한 감동 스토리였다. 윤아 때문에 본 것도 있는데 너무 이쁘게 나왔고 좋아하는 사람한테 적극적인 여자 캐릭터가 사랑스러웠고 사투리 연습을 많이 했는지 어색하지 않았고 거기에 박정민, 이성민, 이수경 연기 잘하는 배우들과 주조연들의 앙상블이 좋았다. 준경과 라희의 알콩달콩 러브 스토리가 너무 귀여웠고 둘이 사랑스러웠음 ㅋ 중간 중간에 코믹 코드도 과하지 않게 넣어서 영화를 지루하지 않게 해줬다. 준경이 왜 간이역을 만들고 싶어 했는지 이유가 반전 이야기로 이어지는데 그 반전 마저도 감동적이었음.. 뭐 약간 신파이긴 했지만..;; 암튼 오래간만에 본 가슴 따듯해지는 영화였다. \n",
      "6,샹치와 텐 링즈의 전설,액션은 좋으나 딱 거기까지... 디워가 생각났다 \n",
      "10,새콤달콤,내 로맨스 돌려내...근데 결국 나중에 다시 못잊고 만날 것 같음 둘 다 미련이 남은 듯함ㅠㅠ그나저나 채수빈 장기용 너무너무넘무 잘 어울려ㅠㅠ \n",
      "10,기적,진짜 이거보고 너무 감동적이고 마음이 아련해지는 최고의 영화였습니다....♥? \n",
      "1,랑종,놀이방아기 쳐밀어서 눈물흘리게 만드는 장면. 보는 내가 매우 기분 잣을 깟음. 영화로 사람 기분 더럽게 하는 재주는 인정다만 아무 감흥도 없고 떡밥건지고 회수하는게 영화라면 곡성이나 이거나 거창한 장치만 있을뿐 속빈 껍데기 디렉팅 \n",
      "10,기적,오랜만에 포근한 마음으로 보았어요;) \n",
      "10,증인,선한 영향력을 주는 영화라고 생각되네요.. \n",
      "8,변산,나름 재미있게 보았습니다 \n",
      "10,인셉션,최고입니다. 다시보고싶어요 \n",
      "-----------------------------------------------------\n",
      "10,극적인 하룻밤,\"오늘을 살자\" 넘 좋음 교훈이예요-~~ 벌써 네번째 보는 것 같은데 배우들 감초 연기도 참 자연스럽고 한예리 캐릭터가 정말 매력있습니다. \n",
      "10,기동전사 건담: 섬광의 하사웨이,오랜만에 보면서 계속 생각하고 곱씹는 전통 우주세기 건담이 나와서 참 좋다... 식상할수도 있지만 인간의 불완전성 때문에 선악을 구분짓기 어려운 세상 속에 고뇌하는 주인공을 보는 맛이 일품...서막이라 치고받고 싸우는 씬이 부족함에도 서사가 충분히 매력적이라 런닝타임 내내 긴장하면서 봤고 영상미도 훌륭함. 올드건담팬들은 1초뿐인 과거회상씬과 그분의 목소리만으로도 기절할 듯! \n",
      "10,더 스파이,추천합니다 사상을 떠나 연기 연출 뭐 하나 부족한 것 없는 여운을 주는 영화입니다 \n",
      "10,악마는 사라지지 않는다,그 어떤 영화보다 전개가 빠르고 이해하기 쉬운 친절한 영화. \n",
      "8,게이샤의 추억,비록 그 문화는 다 이해하지 못하지만영화 그 자체로 작품! \n",
      "10,미스 슬로운,완전 몰입해서 보느라 러닝타임 이렇게 긴거 영화 다 끝나고 알았다. 너무 재밌다 진짜 \n",
      "10,기적,나에게도 뮤즈가..나에게도 멘토같은 선생님이..나에게도 멋지고 솔직한 아버지가 있었으면... \n",
      "10,비밥바룰라,불혹의 나이를 넘어서는 시점에 꼭 한번은 볼만한 영화입니다. 감동적이에요.. \n",
      "4,캔디맨,재미 없는 미국판 분신사바 \n",
      "6,침묵,기본 스토리 보고 영화 제목보니까 결말까지 다 예상이 가서 좀 뻔했네요.. \n",
      "-----------------------------------------------------\n",
      "9,혼자 사는 사람들,\n",
      "10,기적,영화 잘 봤니더 나도 내 동네의 추억을 영화로 만들어볼까하는 마음이 들 만큼 특별하거나 유별나지 않은 내 동네 이웃이야기를 보고와서 내내 흐뭇합니다 \n",
      "10,샹치와 텐 링즈의 전설,마블 역시 눈이 즐거운 영화 재밌었어용 \n",
      "2,싱크홀,와 ... 진짜 출연진보고 돈주고봣는디...실망스럽다 \n",
      "1,말리그넌트,장난하냐.. 이런걸 영화라고 \n",
      "10,소년시절의 너,\n",
      "10,쥬라기 공원,아니 선생님들아... 이게 누가 소리지르고 말고 캐릭터를 논할게 아니라.. 93년도에 이런 영화를 만들어낸건 진짜 충격 그 자체였어.. 그래픽과 특수분장의 새 지평을 열어준 진짜 말도 안되는 영화. 다시봐도 소름돋는다. \n",
      "10,밀리언 달러 베이비,플롯은 단순하지만 임펙트 있는 메시지 딱 하나만으로도 내 인생 최고의 영화. \n",
      "5,좋은 사람,독립영화답게 호흡이길다.런닝타임을 더 짧았음 몰입감이라도 있었을텐데 지루했음. \n",
      "10,기적,평식이형이 6점 준거면 말 다했지 오랜만에괜찮은 한국영화 나온듯 더 흥행했으면 좋겠다 \n",
      "-----------------------------------------------------\n",
      "8,프리 가이,데드풀 엄청 순한맛을 보는 듯한 느낌?ㅎㅎ \n",
      "10,가타카,열성과 우성, 이 2가지 만으로 '인간'을 구분 짓는다는 것은 인간의 '오만함'이다. 꿈을 쫓을 때 인간은 비로소 무한한 우주와 같음을 보여주는 영화. \n",
      "6,우리도 사랑일까,Video killed the Radio star! \n",
      "10,우리들의 행복한 시간, 연출 연기 모두 남 감동적이에요.수작이네요.비교적 오래된 영화인데도 시대에 뒤떨어진 감이 없어요.오랜만에 본 감동적인 수작입니다. \n",
      "10,아수라,배우들 연기에 소름.... \n",
      "8,가면,기대치보다 훨 높아요 잼있네요 \n",
      "9,팬도럼,배우와 연출, 소재는 좋았으나 상황전달에 디테일이 살짝 부족.. +금발의 남자주연 두명 잘생겼다 \n",
      "8,싱크홀,오래만에 보는 영화라 그런지 나름 재밌었음 \n",
      "8,최선의 삶,현실적이면서도 영화적인 스토리! \n",
      "10,아수라,논픽션 다큐멘터리인데 캐스팅 하는 재연 배우들이 엄청나네요,,,  감독님 개인 SNS에다가 자살 안한다고 꼭 글 올려주세요~~ \n",
      "-----------------------------------------------------\n",
      "6,신이 말하는 대로,소재는 괜찮다 근데 캐릭터와 전개가 받쳐주지 못 해 안타깝다 \n",
      "10,야수와 미녀,이런게 영화지요즘은 이런거 안찍냐? \n",
      "7,샹치와 텐 링즈의 전설,스케일은 그대로 색다른 마블영화라 볼만했어요 \n",
      "9,이웃사람,재미는있었다좋았는듯 \n",
      "9,미드나이트 스카이,조지클루니의 연기만 봐도 평점은 8점이상 먹고 드간다고 생각함. 영상미 또한 좋았고 잔잔하면서도 끊어질듯한 긴장감. 오거스틴의 과거가 현재가 오가며 주는 떡밥 또한 좋았다. 다만 인물의 서사가 부족하다 느꼇고 마야의 내용이 너무 길지않았나...여튼 좋은 영화다. \n",
      "10,히트,드니로와 알파치노의 최고의 연기 \n",
      "1,서울역,하나도 재미있지않음 망 \n",
      "10,아수라,\n",
      "10,엽기적인 그녀,모텔 사장님은깡패로도 역무원으로도 나오네 ㅋㅋㅋ \n",
      "4,나에게 오라,전라도 말 뭐라하는지 모르겄소. 이거시 전라도의 삶인지라. 연기력 하나는 좋소. 끝까지는 못보것소 \n",
      "-----------------------------------------------------\n",
      "8,스타 이즈 본,조금 지루해서아쉬웠다 \n",
      "10,내가 죽던 날,\n",
      "7,신라의 달밤,김혜수의 연기는 참 다 똑같애..그래도 경주의 달밤 분위기가 좋아서 7점 준다 \n",
      "10,미안해요, 리키,감독님 리얼이 너무 심하잖소...ㅠㅠ  보면서 시간줄어드는거 걱정해본영화. 근데 배우들 딱 한작품씩만 찍은거 맞음? 출연배우 영화볼라니 없네요. \n",
      "10,모가디슈,\n",
      "7,사바하,깊숙히 들어가지 못하고 겉만 핥는 느낌 \n",
      "6,검객,장혁의 액션신 말고는 크게 남는게 없네요. 그저 개인의 이야기일 뿐 \n",
      "8,프리 가이,로튼토마토 imdb다 좋은데 1점 주는 새기들은 그냥 지 취향 안맞는다고 땡깡부리네 ㅋㅋㅋㅋ 영화보지마라 너넨 \n",
      "10,기적,\n",
      "8,굴뚝마을의 푸펠,재미있게 잘 봣습니다. \n",
      "-----------------------------------------------------\n",
      "10,기적,오랜만에 영화관에서 울컥 했습니다. 코로나 시대에 다들 힘든데 좋은 연기와 연출 감사합니다. 인생영화에요...ㅠㅠ \n",
      "7,혐오스런 마츠코의 일생,장르만 보고는 단지 오락영화라고만 생각했었다. 그리고  한 여인의 슬픈 인생을 보았다. \n",
      "5,싱크홀,차줌마는 좋은데, 영화는 진짜 아닌듯... 차승원 영화는 거른다... \n",
      "10,프리 가이,영화관에서 이걸안보고 모가디슈나봤다니... \n",
      "10,기적,백신완료덕에 몇년만에 극장인가... 내용도 좋고 배우들도 좋고.. 특히 누나역 배우 응팔에서 봤던 노을이 여친 좋은배우가 될듯..소녀시대 윤아(?)도 연기잘하네...오랜만에 극장와서 좋고 영화다운 영화라 더욱 좋다 \n",
      "7,어시스턴트,보기 불편하지만 지금도 벌어지고 있고 충분히 일어날 수 있는 이야기 \n",
      "10,라라랜드,그땐몰랐다. 이렇게색감이 이쁘고 아름다운 영화인줄.. 다시보니 보인다. \n",
      "10,아수라,영알못 새끼들ㅋㅋ 이게 실화였는줄도 모르고 별점 낮게 준거 보니까 개웃기네ㅋㅋㅋ \n",
      "10,1987,현재 대한민국을 있게해준 분들께 감사합니다. \n",
      "10,기적,휴먼 드라마는 지루해야하는데, 시간이 너무 후딱 감! 진짜 이렇게 띵작을 또 만납니다. 다시 한 번 더 질질 짜러 가겠습니다. \n",
      "-----------------------------------------------------\n",
      "10,싱크홀,간만에 재미도 있고 눈물도 나고 ..생각없이 잘봤습니다^^ \n",
      "6,샹치와 텐 링즈의 전설,주인공이 매력이 없음ㅋㅋㅋ \n",
      "10,코다,여운이 오래 남는다.. \n",
      "8,프리 가이,데드풀이 주인공이아니었구만 ㅋㅋ \n",
      "8,보이스,하이 텐션 연기 원툴 김무열, 진지하고 듬직한 연기 원툴 변요한... 강점 제대로 파고든 캐스팅 좋았다 \n",
      "10,변산,재밌었음 가볍게 옛생각하면서 볼수있는 영화 \n",
      "9,튼튼이의 모험,영화인걸 알지만 연기가 실제같은 느낌 일반 리얼다큐보는것같았다 \n",
      "10,싱크홀,ㅋㅋ재밌구만 1점주고 10점준사람욕할건아닌듯 뭐 개개인차이가있으니 킬링타임용으로딱임 \n",
      "9,프리 가이,화려한 영상,   쉼없이  신나고 재미있음. \n",
      "8,포가튼,댓글에 스포가 많으니 아닥하고 봐라. 후회는 안한다. \n",
      "-----------------------------------------------------\n",
      "10,여름날 우리,한국판은 개연성과 인물간의 관계에 더 집중했다면 중국판은 두 주인공의 감정선에 훨씬 중점을 둔 느낌이었다 개인적으로 헤어지는 장면에서의 주인공들의 감정과 생각이 원작보다 훨씬 이해갔는데 아마 감정선을 원작보다 더 살려서 표현했기 때문인 것 같다 아무래도 감정선에 집중하다보니 스토리가 뚝뚝 끊기는 부분이 없잖아 있었는데 그 부분이 조금 아쉬웠을 뿐 이외에는 훌륭했다 주인공들의 연기실력, 원작의 빠구리를 숲으로 묘사한 것처럼 현지화도 아주 잘했다! 많은 장면에 겹치는 ost가 자주 등장해서 조금 피곤하긴했지만 ost 자체가 워낙 좋아서 귀가 행복했다 여운이 오래 남아서 엔딩크레딧 올라가는 동안 계속 앉아있었음! \n",
      "7,랑종,뭔가 굉장히 잘 만든것 같으면서 시간도 잘 가는데 썩 재밌지도 않으면서 별로 무섭진 않은 그런 영화? \n",
      "10,올드,영화..신박하네..기발하다..재밌게 봄 \n",
      "10,기적,정말 오랜만에 영화다운 영화를 본 것 같습니다. 배우들의 연기력은 말한 것도 없고요. 처음 도입부에서는 스릴러인줄알았다가 배우들 연기에 로맨틱 코미디인줄 알았다가 다시 반전에 소름이 돋았다가 중간부턴 눈물 좔좔 흘렸습니다. 참고로  임윤아 배우님 너무 아름다우셨습니다. 강추입니다! 기적 화이팅! \n",
      "7,이웃사람,진짜 있을 것 같은 동네형들 \n",
      "1,싱크홀,1점도 아깝습니다아아 \n",
      "5,동네사람들,마동석 너만 믿는다! 라고 외치며 다른거 다 놓치면서 만든 영화 \n",
      "10,말리그넌트,정말 짱 재미있습니다. 꼭 보세요.마지막 반전은...어질어질합니다. \n",
      "1,여고괴담 여섯번째 이야기 : 모교,반전에 매달리다시피한 영화라는 생각이 드네요 극장에서 봤다면 초장에 바로 나와서 진상소리듯든 말든 환불 얘기했을거 같은 심정이었지만 다행히? 넷플로 봤습니다 편집을 어떻게 저따위로 했지 싶은건 클라이막스 반전을 위한 \"절개\"였다하더라도 초반부터 중반까지 아무리 주인공 심리를 반영했다해도 너무 중구난방이었고 공포연출은 쌍팔년도 수준이었습니다 그리고 요즘 애들이 아무리 되바라지고 사연이 있다선치더라도 선생에게 초반부터 발언하는 태도라고 생각하기 어려울만큼 전혀 일반적이지 않아요 반전을 위해 극과 캐릭터들을 질질 끌고가기만한 느낌입니다 그래도 반전에 모든걸 쏟아부어서인지 마무리는 잘 끝맺었네요 모교 이전에 본 공포영화 암전보단 나아요 암전은 건질게 뭣도 없었거든요 \n",
      "10,보이스,시간 가는줄 모르고 봄 ㅋㅋㅋㅋ 재밌어요 완전 \n",
      "-----------------------------------------------------\n",
      "7,올드,혹평을 많이 봤는데 막상보니 괜찮음 \n",
      "8,프리 가이,조금 부족해도 호쾌한 영상미와 유쾌한 개그가 꽤 괜찮습니다 \n",
      "10,너의 결혼식,제가 본 로맨스 영화 중 가장 좋았어요!!! \n",
      "4,싱크홀,아니 7광구 감독이라니까 배우들이 불쌍했다 \n",
      "10,아웃포스트,특별한 영화 \n",
      "10,후궁 : 제왕의 첩,\n",
      "9,야쿠자와 가족,이 영화에서 야쿠자에 대한 환상보단 현실에 더 많은 감정을 느낄겁니다. 야쿠자 그들 또한 결국 사람이었고, 나름의 정의를 지키는 야쿠자는 도태될 뿐이었습니다. 일말의 숨통조차 주지않는 조례는 야쿠자에게 삶의 희망조차 앗아갔지만, 야쿠자를 없애는데에는 완벽할 따름이었습니다. 따듯하면서도 차가운... 희망차면서도 암울한... 정말 감정을 잘 녹여낸 작품이 아닌가 싶네요. 재미로 영화를 보는 사람입장에서, 재미보단 몰입과 감정이입을 시켜주는 아름답지만 아름답다고 말하기 어려운 영화.아무래도 주인공의 연기력이 가장 빛나지 않았나..싶네요. \n",
      "1,좋은 사람,인간 자체가 원래 아름답질 못해... 빤스만 입고 산속에서 혼자살자... \n",
      "10,미드소마,최고의 힐링영화 \n",
      "10,히트,역대급 최고로 기억되는 영화. \n",
      "-----------------------------------------------------\n",
      "10,아저씨,한국 영화중에 가장 기억에 남는 영화 꼽으라면 주저 없이 '아저씨'를 꼽습니다. 배우들의 연기와 마지막 OST는 여운이 깊이 남네요. \n",
      "9,클래식,제목을 이것보다 잘 만들수 있을까? 일부러 연기를 만들고 연기를 최대화 하고 어느새 고전이 된 그당시의 노래가 분위기를 극대화 한다. 영화를 '조율'하고 현대가 고전이 된 음악같은 영화. 클래식. \n",
      "10,사이다처럼 말이 톡톡 솟아올라,마지막 장면이 계속 제 마음속에 남아있어요 절대 못 잊을 것 같아요 \n",
      "10,머니백,진짜 웃겼는데 완전 게속 웃으면서 봣는데 잼없다는사람모징ㅡㅡ \n",
      "7,말리그넌트,항상 최소 기본빵은 해주는 제임스 완 \n",
      "10,그린 북,그냥 킬링타임용으로 볼까 말까 고민 했는데 제가 잘못 생각했네요 꼭 보시길 바랍니다. \n",
      "1,랑종,태국인들은 이딴걸 공포라고 생각하는거야? 목요일 밤에 심야괴담회 프로가 훨무섭네태국은 귀신없냐 밤에 휘파람 불면 귀신나온다며?난 매일 밤에 휘파람 부는데 귀신보다 뱀나올까봐 더무서워ㅋㅋㅋ1시9분쯤 밍 쮸쮸 노출씬 말고볼게 없더라 뭐,,,타이랜드 깜한 ㅈ꼭지봐서 뭐하겠냐만,, \n",
      "10,쎄시봉,굳 완전재밋게봤습니다 \n",
      "6,프리 가이,전체이용가 수준의 가상현실 게임 모티브로 트루먼쇼 게임버젼이라 할 수 있다킬링타임용 영화이다 \n",
      "10,기적,\n",
      "-----------------------------------------------------\n",
      "10,인터스텔라,\n",
      "10,보이스,주연배우들의 연기가 매우 훌륭했고, 정말 잘 만든 영화네요.시작부터 몰입해서 봤어요. \n",
      "10,남극의 쉐프,재미있게 잘 봤습니다. \n",
      "10,말리그넌트,믿고 보는 제임스 완 반전이 개대박임 이건가? 저건가? 추리하면서 보는데 응 다 틀렸고 요거임ㅋㅋ 진짜 참신했고 기존의 제임스 완과 사뭇 다른 장르같은 느낌이었다 이래서 내가 제임스 완 못끊음 \n",
      "10,연애, 그 참을 수 없는 가벼움,와.. 감독님이 영화에서 악역으로 자주 뵙던 분이시네.~~ 영화 20번도 넘게 봤는데 오늘도 보다가 그냥 한번 검색해보니 . 감독님을 알게되었네요~ 제 인생 최고의 영화  1. 타이타닉 2. 노팅힐  3. 연애그참을수없는 가벼움 정말 최고의 실화같은 영화 그리고 마지막씬의 표현은 정말 너무 멋지다. 절대 벗어날수없는. \n",
      "2,아들의 방,이게 무슨 12세 관람가입니까? 아주 욕 나오네ㅠ부부관계하는 장면 보여주고 적나라한 환자 대사까지 ㅠ 당장 등급 변경하세욧!!!! \n",
      "2,보이스,변요한 원맨쇼... 김무열이 조금만 더 또라이였다면 재밌었을텐데... 콜센터에 대한 설명이 더 자세하고 인물 관계가 치밀했으면 좋았을텐데... 계속 빡쳐있는 변요한이 콜센터 꼬붕들한테 \"여기 짱이 누구야 sibal!\" 하면 꼬붕들은 \"야 알면 다쳐 신삥아ㅡㅡ\" 하면서 다 알려줌... 읭? 2탄이 나와야할 것 같은 느낌... 1시간짜리 예고편 본 느낌이었음. 러닝타임때문에 설명이 부족하고 개연성이 조금 아쉽다. 김희원 기자회견 장면은 너무 직설적이라서 조금 오글거렸다... 공익광고같아... 웃기라고 넣은 장면이 딱히 웃기진 않았음. 그냥 가볍게 보기 좋아요. \n",
      "10,나이브스 아웃,범인은 바로 하정우 10자 됐나 \n",
      "7,골든슬럼버,도주극으로서의 재미는 있으나 평이한 스토리 \n",
      "4,미 비포 유,장애를 견디며노력하는분들에게 다소비관적일수있는내용. 긍적적인 결론이었다면 더 좋았을텐데. 위라클의 박위 님의 스토리를영화화하는게 더 좋을듯 \n",
      "-----------------------------------------------------\n",
      "10,나 홀로 집에,가족이란 ... 나이드니 더 생각나는 \n",
      "10,보이스,배우들의 연기에서 고생이 많이 묻어나는 영화네요  너무너무 재밌게 잘봤어요~ \n",
      "10,신서유기 : 몽키킹의 부활,잼있다 그러나 중국어버전이 훨씬 낫네 \n",
      "10,언플랜드,너무 가슴아픈 영화네요보는 내내 마음이 무겁고 눈물이 나 힘들었네요 \n",
      "10,기적,\n",
      "10,기적,재밌게 잘 봤습니다!! \n",
      "8,새콤달콤,괜찮았다 연애의 처절함과 박철민의 옛날식개그포인트가  괜찮았다.남자도불쌍하고 여자도 불쌍한데 둘다서로믿음이없다. 노력은 하지만 쉽지않다. 그리고 애기 지운연인이 끝까지 가는걸  본적이없는데 현실반영 같다. 다 불쌍하고 웃프다ㅋ그리고 오덕도 결국엔 다은이에게 차였을것이다. \n",
      "10,시카리오: 데이 오브 솔다도,다시봐도 지겹지 않은 영화. \n",
      "10,폴링 스노우,\n",
      "2,미드나이트,최근본영화중에 제일 답답한 영화였어요 \n",
      "-----------------------------------------------------\n",
      "2,스파이럴,차라리 쏘우시리즈물로 계속만들지 직쏘모방한 새씨리즈로 나가려고해도 고문장치랑 내용 반전 고어장면 전부 다 약하고 재미없음 고어영화 매니아로써 실망임 지루함 \n",
      "10,날, 보러와요,연기 연출 다 넘 좋아요 꼭 보세요 \n",
      "10,보이스,나는 흥미진진하고 재미있었다변요한 김무열 연기 ㅈㄴ잘함!!보이스피싱 너무 무서워ㅠㅠ \n",
      "8,변강쇠 3,2편하고 내용이 거의 비슷한데, 3편이 더 재미남. \n",
      "8,보이스,보이스피싱에 대한 경각심은 확실히 각인시켜주는 영화이었다. 극장보다는 각회사나 공공기관에서 국민들에게 홍보용으로 보여주면 좋겠다. \n",
      "6,샹치와 텐 링즈의 전설,보지마세용~ 시간 낭비그시간에 영어 단어 하나 더 외우세용 쯱~~~ \n",
      "10,아수라,영화가 아니라 현실 그 자체 \n",
      "5,블러드 레드 스카이,뱀파이어와 싸우는 사람은 그 과정에서  싸움의 선을 넘어 스스로 뱀파이어가 된다. \n",
      "10,보이스,영화 스토리와 전개는 완벽하였당~ 변요한 역시  믿고 보는 배우!!!자유로 자동차 극장ㅇㅔ서 와이프랑 봐서 더 행복한 영화!!! \n",
      "4,프리 가이,진심 애들도 재미없을듯...보다가 졸아서 껐다;;; \n",
      "-----------------------------------------------------\n"
     ]
    }
   ],
   "source": [
    "import requests\n",
    "from bs4 import BeautifulSoup\n",
    "import re\n",
    "for n in range(1,31):\n",
    "    req = requests.get('http://movie.naver.com/movie/point/af/list.nhn?page='+str(n))\n",
    "    html = req.text\n",
    "    soup = BeautifulSoup(html, 'html.parser')\n",
    "    titles = soup.select('.movie' )\n",
    "    points = soup.select('td.title > div > em')\n",
    "    reviews = soup.select('td.title')\n",
    "    movie_title = []\n",
    "    movie_point = []\n",
    "    movie_review = [] \n",
    "    for dom in titles:\n",
    "        movie_title.append(dom.text)\n",
    "    for dom in points:\n",
    "        movie_point.append(dom.text)\n",
    "    for dom in reviews:\n",
    "        content = dom.contents[6]\n",
    "        #content=re.sub(\"신고\", '', content)\n",
    "        content=re.sub(\"[\\n\\t]\", '', content)\n",
    "        movie_review.append(content)\n",
    "\n",
    "    commentLength = len(movie_title)   \n",
    "    for i in range(commentLength):\n",
    "        print(movie_point[i] + \",\"+movie_title[i]+\",\"+movie_review[i])\n",
    "    print(\"-----------------------------------------------------\")\n"
   ]
  },
  {
   "cell_type": "markdown",
   "metadata": {},
   "source": [
    "---"
   ]
  },
  {
   "cell_type": "markdown",
   "metadata": {},
   "source": [
    "- yes24 페이지 크롤링 : 한 페이지"
   ]
  },
  {
   "cell_type": "code",
   "execution_count": 9,
   "metadata": {},
   "outputs": [
    {
     "name": "stdout",
     "output_type": "stream",
     "text": [
      "-- 도서 제목 --\n",
      "['Do it! 점프 투 파이썬', '혼자 공부하는 머신러닝+딥러닝', '혼자 공부하는 파이썬', '두근두근 파이썬', '이것이 취업을 위한 코딩 테스트다 with 파이썬 ', '파이썬 for Beginner', '핸즈온 머신러닝', '밑바닥부터 시작하는 딥러닝 ', '파이썬 알고리즘 인터뷰', '파이썬 머신러닝 완벽 가이드', 'Do it! 첫 파이썬', 'Do it! 점프 투 파이썬 + Do it! 첫 파이썬 ', '따라하며 배우는 파이썬과 데이터 과학', 'Do it! 자료구조와 함께 배우는 알고리즘 입문 : 파이썬 편', '모두의 데이터 분석 with 파이썬', '미국 주식으로 시작하는 슬기로운 퀀트투자', '파이썬 증권 데이터 분석 ', '파이썬으로 쉽게 풀어쓴 자료구조', 'Do it! 파이썬 생활 프로그래밍', 'Do it! 점프 투 파이썬 + Do it! 자료구조와 함께 배우는 알고리즘 입문 : 파이썬 편 + Do it! 파이썬 생활 프로그래밍']\n",
      "-- 도서 링크 URL --\n",
      "['/Product/Goods/74419916?OzSrank=1', '/Product/Goods/96024871?OzSrank=2', '/Product/Goods/74269975?OzSrank=3', '/Product/Goods/35279965?OzSrank=4', '/Product/Goods/91433923?OzSrank=5', '/Product/Goods/83849188?OzSrank=6', '/Product/Goods/89959711?OzSrank=7', '/Product/Goods/34970929?OzSrank=8', '/Product/Goods/91084402?OzSrank=9', '/Product/Goods/87044746?OzSrank=10', '/Product/Goods/89904189?OzSrank=11', '/Product/Goods/91446188?OzSrank=12', '/Product/Goods/96555988?OzSrank=13', '/Product/Goods/91219874?OzSrank=14', '/Product/Goods/72227684?OzSrank=15', '/Product/Goods/103915601?OzSrank=16', '/Product/Goods/90578506?OzSrank=17', '/Product/Goods/89141599?OzSrank=18', '/Product/Goods/91437485?OzSrank=19', '/Product/Goods/91446242?OzSrank=20']\n"
     ]
    }
   ],
   "source": [
    "import requests\n",
    "from bs4 import BeautifulSoup\n",
    "title = []\n",
    "link = []\n",
    "urlstr = 'http://www.yes24.com/SearchCorner/Search?domain=BOOK&query=python'\n",
    "r = requests.get(urlstr)\n",
    "#r.encoding = \"utf-8\" # 알아서 utf-8로 읽어준다.\n",
    "bs = BeautifulSoup(r.text, 'html.parser')\n",
    "titleList = bs.select('p.goods_name.goods_icon > a > strong')\n",
    "linklList = bs.select('p.goods_name.goods_icon > a')\n",
    "\n",
    "for titleDom in titleList:\n",
    "    title.append(titleDom.string)\n",
    "for linkDom in linklList:\n",
    "    link.append(linkDom[\"href\"])\n",
    "\n",
    "print(\"-- 도서 제목 --\")\n",
    "print(title)\n",
    "print(\"-- 도서 링크 URL --\")\n",
    "print(link)\n",
    "with open('booklink.csv', \"wt\", encoding=\"utf-8\") as f:\n",
    "    f.write('booktitle,booklink\\n')  \n",
    "    for i in range(len(title)):\n",
    "        f.write(title[i]+\",\"+link[i]+'\\n')  "
   ]
  },
  {
   "cell_type": "markdown",
   "metadata": {},
   "source": [
    "---"
   ]
  },
  {
   "cell_type": "markdown",
   "metadata": {},
   "source": [
    "- 날씨 XML 페이지 크롤링"
   ]
  },
  {
   "cell_type": "code",
   "execution_count": 12,
   "metadata": {},
   "outputs": [
    {
     "name": "stdout",
     "output_type": "stream",
     "text": [
      "{'서울': ['18~26', '18~26', '17~25', '17~25', '18~26', '18~26', '18~26', '18~26', '19~25', '19~25', '19~26', '18~24', '16~22'], '인천': ['19~24', '19~24', '19~24', '19~24', '19~25', '19~25', '19~25', '19~25', '20~25', '20~25', '19~24', '19~24', '17~22'], '수원': ['18~26', '18~26', '17~25', '17~25', '17~26', '17~26', '18~26', '18~26', '19~26', '19~26', '19~26', '17~25', '16~23'], '파주': ['16~26', '16~26', '15~25', '15~25', '15~25', '15~25', '17~25', '17~25', '17~25', '17~25', '17~25', '17~24', '14~22'], '이천': ['15~27', '15~27', '15~25', '15~25', '14~26', '14~26', '15~26', '15~26', '17~25', '17~25', '17~26', '16~24', '14~22'], '평택': ['17~27', '17~27', '16~26', '16~26', '16~26', '16~26', '18~26', '18~26', '19~26', '19~26', '18~26', '18~25', '16~22'], '춘천': ['17~27', '17~27', '16~25', '16~25', '16~25', '16~25', '16~25', '16~25', '17~24', '17~24', '18~25', '17~23', '14~22'], '원주': ['16~26', '16~26', '15~24', '15~24', '15~25', '15~25', '16~25', '16~25', '17~25', '17~25', '17~25', '17~24', '15~22'], '강릉': ['18~27', '18~27', '18~26', '18~26', '18~26', '18~26', '19~26', '19~26', '19~24', '19~24', '19~25', '18~22', '16~20'], '대전': ['17~27', '17~27', '17~26', '17~26', '16~26', '16~26', '18~26', '18~26', '19~27', '19~27', '19~26', '18~25', '17~24'], '세종': ['16~27', '16~27', '16~25', '16~25', '15~26', '15~26', '17~26', '17~26', '18~26', '18~26', '18~26', '17~25', '16~23'], '홍성': ['16~26', '16~26', '16~25', '16~25', '16~26', '16~26', '17~26', '17~26', '19~26', '19~26', '18~25', '17~25', '16~23'], '청주': ['17~27', '17~27', '17~26', '17~26', '16~27', '16~27', '17~27', '17~27', '19~26', '19~26', '19~26', '18~25', '17~23'], '충주': ['16~26', '16~26', '16~25', '16~25', '15~26', '15~26', '16~26', '16~26', '17~25', '17~25', '17~25', '16~24', '15~22'], '영동': ['15~27', '15~27', '15~26', '15~26', '14~27', '14~27', '15~26', '15~26', '17~26', '17~26', '17~25', '16~24', '14~23'], '광주': ['18~28', '18~28', '17~27', '17~27', '17~28', '17~28', '18~28', '18~28', '19~28', '19~28', '19~27', '19~26', '17~25'], '목포': ['20~26', '20~26', '18~25', '18~25', '19~27', '19~27', '20~27', '20~27', '20~26', '20~26', '20~26', '19~25', '18~24'], '여수': ['20~27', '20~27', '20~26', '20~26', '20~26', '20~26', '21~26', '21~26', '21~26', '21~26', '20~25', '20~25', '20~24'], '순천': ['19~30', '19~30', '18~28', '18~28', '17~28', '17~28', '19~28', '19~28', '20~27', '20~27', '19~27', '19~27', '19~25'], '광양': ['19~29', '19~29', '18~27', '18~27', '18~27', '18~27', '19~27', '19~27', '20~26', '20~26', '20~26', '19~26', '20~24'], '나주': ['16~29', '16~29', '15~27', '15~27', '15~28', '15~28', '17~28', '17~28', '19~28', '19~28', '19~27', '18~26', '15~25'], '전주': ['17~28', '17~28', '17~27', '17~27', '16~28', '16~28', '18~28', '18~28', '20~28', '20~28', '19~27', '18~26', '17~24'], '군산': ['17~26', '17~26', '17~25', '17~25', '17~26', '17~26', '18~26', '18~26', '19~27', '19~27', '18~26', '18~25', '17~23'], '정읍': ['16~27', '16~27', '16~27', '16~27', '16~27', '16~27', '18~27', '18~27', '19~27', '19~27', '19~27', '18~26', '17~24'], '남원': ['16~28', '16~28', '15~28', '15~28', '15~28', '15~28', '17~27', '17~27', '18~27', '18~27', '18~26', '17~25', '16~24'], '고창': ['16~27', '16~27', '16~26', '16~26', '16~27', '16~27', '17~27', '17~27', '19~27', '19~27', '19~26', '19~26', '18~24'], '무주': ['14~27', '14~27', '14~26', '14~26', '13~27', '13~27', '14~26', '14~26', '17~26', '17~26', '16~25', '16~24', '15~22'], '부산': ['19~27', '19~27', '20~26', '20~26', '20~26', '20~26', '21~27', '21~27', '21~26', '21~26', '21~26', '20~26', '20~25'], '울산': ['19~27', '19~27', '17~27', '17~27', '17~26', '17~26', '18~27', '18~27', '19~25', '19~25', '19~26', '18~25', '18~23'], '창원': ['18~28', '18~28', '18~27', '18~27', '19~27', '19~27', '19~27', '19~27', '20~27', '20~27', '19~26', '19~26', '19~25'], '진주': ['15~29', '15~29', '16~27', '16~27', '15~27', '15~27', '17~27', '17~27', '18~26', '18~26', '17~26', '17~26', '16~25'], '거창': ['15~28', '15~28', '13~26', '13~26', '13~27', '13~27', '14~27', '14~27', '16~25', '16~25', '16~25', '16~25', '15~23'], '통영': ['19~27', '19~27', '20~26', '20~26', '20~26', '20~26', '20~27', '20~27', '21~26', '21~26', '20~26', '20~26', '20~25'], '대구': ['17~28', '17~28', '17~27', '17~27', '17~28', '17~28', '18~26', '18~26', '19~27', '19~27', '18~26', '18~26', '18~23'], '안동': ['15~27', '15~27', '15~26', '15~26', '15~25', '15~25', '15~25', '15~25', '17~25', '17~25', '16~25', '16~24', '15~22'], '포항': ['19~27', '19~27', '19~27', '19~27', '18~27', '18~27', '19~26', '19~26', '20~25', '20~25', '20~25', '20~25', '19~22'], '경주': ['16~28', '16~28', '15~28', '15~28', '15~28', '15~28', '16~26', '16~26', '18~26', '18~26', '18~26', '17~25', '17~22'], '울진': ['16~26', '16~26', '16~26', '16~26', '16~25', '16~25', '17~26', '17~26', '18~24', '18~24', '18~25', '18~24', '16~20'], '울릉도': ['19~23', '19~23', '19~23', '19~23', '19~24', '19~24', '20~24', '20~24', '19~22', '19~22', '19~23', '18~22', '17~19'], '제주': ['22~26', '22~26', '20~27', '20~27', '20~28', '20~28', '21~28', '21~28', '22~28', '22~28', '21~27', '21~26', '20~25'], '서귀포': ['21~27', '21~27', '21~26', '21~26', '21~27', '21~27', '23~27', '23~27', '23~27', '23~27', '22~27', '22~27', '22~26']}\n"
     ]
    }
   ],
   "source": [
    "from bs4 import BeautifulSoup\n",
    "import urllib.request as req\n",
    "import io\n",
    "\n",
    "url = \"http://www.kma.go.kr/weather/forecast/mid-term-rss3.jsp?stnId=108\"\n",
    "savename = \"C:/Temp/forecast.xml\"\n",
    "req.urlretrieve(url, savename)\n",
    "\n",
    "xml = open(savename, \"r\", encoding=\"utf-8\").read()\n",
    "soup = BeautifulSoup(xml, 'html.parser') #html.parser가 에러나면 lxml 사용해보자\n",
    "\n",
    "info = {}\n",
    "for location in soup.find_all(\"location\"):\n",
    "    loc = location.find('city').string\n",
    "    min_w = location.find_all('tmn')\n",
    "    max_w = location.find_all('tmx')\n",
    "    weather = [a.string+\"~\"+b.string for a, b in zip(min_w, max_w)]\n",
    "\n",
    "    if not (loc in info):\n",
    "        info[loc] = []\n",
    "    for data in weather:\n",
    "        info[loc].append(data)\n",
    "print(info)\n",
    "\n",
    "with open('C:/Temp/forecast.txt', \"wt\", encoding=\"utf-8\") as f:\n",
    "    for loc in sorted(info.keys()):\n",
    "        f.write(str(loc)+'\\n')\n",
    "        for name in info[loc]:\n",
    "            f.write('\\t'+str(name)+'\\n')"
   ]
  },
  {
   "cell_type": "markdown",
   "metadata": {},
   "source": [
    "---"
   ]
  },
  {
   "cell_type": "markdown",
   "metadata": {},
   "source": [
    "- 크롤링을 통한 요청을 막아놓은 사이트인 경우"
   ]
  },
  {
   "cell_type": "code",
   "execution_count": 15,
   "metadata": {},
   "outputs": [
    {
     "name": "stdout",
     "output_type": "stream",
     "text": [
      "b'\\xef\\xbb\\xbf{ \"result\" : \"\\xeb\\xb8\\x8c\\xeb\\x9d\\xbc\\xec\\x9a\\xb0\\xec\\xa0\\x80 \\xec\\x9a\\x94\\xec\\xb2\\xad\\xec\\x9e\\x85\\xeb\\x8b\\x88\\xeb\\x8b\\xa4.\" }'\n",
      "﻿{ \"result\" : \"브라우저 요청입니다.\" }\n",
      "브라우저 요청입니다.\n"
     ]
    }
   ],
   "source": [
    "import json\n",
    "import urllib.request\n",
    "\n",
    "#User-Agent를 조작하는 경우 \n",
    "hdr = {'User-Agent':'Mozilla/5.0 (Windows NT 10.0; Win64; x64) '+ \n",
    "        'AppleWebKit/537.36 (KHTML, like Gecko) Chrome/75.0.3770.80 Safari/537.36'}\n",
    "\n",
    "req = urllib.request.Request('http://unico2013.dothome.co.kr/crawling/header.php', headers = hdr) # 브라우저요청인것처럼 속이는 것\n",
    "#req = urllib.request.Request('http://unico2013.dothome.co.kr/crawling/header.php') # headers를 지정안해주면 브라우저의 요청으로 안받아들임\n",
    "# 브라우저요청이 아니면 응답을 안해주는 사이트들도 있음.\n",
    "data = urllib.request.urlopen(req).read()\n",
    "print(data)\n",
    "page = data.decode('utf-8', 'ignore') # ignore는 만약 decode하다가 에러나도 무시하라는 의미\n",
    "print(page)\n",
    "res_content = json.loads(data) # jason을 dictionary로 만들어준다.\n",
    "\n",
    "print(res_content[\"result\"])\n"
   ]
  }
 ],
 "metadata": {
  "kernelspec": {
   "display_name": "pydatavenv",
   "language": "python",
   "name": "pydatavenv"
  },
  "language_info": {
   "codemirror_mode": {
    "name": "ipython",
    "version": 3
   },
   "file_extension": ".py",
   "mimetype": "text/x-python",
   "name": "python",
   "nbconvert_exporter": "python",
   "pygments_lexer": "ipython3",
   "version": "3.8.8"
  }
 },
 "nbformat": 4,
 "nbformat_minor": 4
}
