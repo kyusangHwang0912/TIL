{
 "cells": [
  {
   "cell_type": "code",
   "execution_count": 189,
   "id": "d68e3f78-7079-49c2-b638-b5adb88391d0",
   "metadata": {},
   "outputs": [
    {
     "name": "stdout",
     "output_type": "stream",
     "text": [
      "[<h1> 태그의 컨텐트] HTML의 링크 태그\n",
      "[텍스트 형식으로 내용을 가지고 있는 <a> 태그의 컨텐트와 href 속성값]\n",
      "World Wide Consortium : http://www.w3.org/\n",
      "Java Page : http://java.sun.com/\n",
      "Python Page : http://www.python.org/\n",
      "Web Client 기술 학습 : http://www.w3schools.com/\n",
      "[<img> 태그의 src 속성값] http://unico2013.dothome.co.kr/image/duke.jpg\n",
      "[첫 번째 <h2> 태그의 컨텐트] 좋아하는 색\n",
      "[<ul> 태그의 자식 태그들중 style 속성의 값이 green으로 끝나는 태그의 컨텐트] 녹색\n",
      "[두 번째 <h2> 태그의 컨텐트] 먹고싶은 음식\n",
      "[<ol> 태그의 모든 자식 태그들의 컨텐트] \n",
      "짜장면\n",
      "냉면\n",
      "돈까스\n",
      "갈비\n",
      "[<table> 태그의 모든 자손 태그들의 컨텐트] \n",
      "둘리또치도우너\n",
      "케라토사우루스타조외계인\n",
      "도봉구 쌍문동아프리카깐따삐아 별\n",
      "[name이라는 클래스 속성을 갖는 <tr> 태그의 컨텐트] 둘리또치도우너\n",
      "[target이라는 아이디 속성을 갖는 <td> 태그의 컨텐트] 아프리카\n"
     ]
    }
   ],
   "source": [
    "import requests\n",
    "import re\n",
    "from bs4 import BeautifulSoup\n",
    "\n",
    "req = requests.get('http://unico2013.dothome.co.kr/crawling/exercise_bs.html')\n",
    "html = req.content\n",
    "html = html.decode('utf-8')\n",
    "\n",
    "bs = BeautifulSoup(html, 'html.parser')\n",
    "\n",
    "print('[<h1> 태그의 컨텐트]', bs.h1.text)\n",
    "a = bs.find_all('a')\n",
    "print('[텍스트 형식으로 내용을 가지고 있는 <a> 태그의 컨텐트와 href 속성값]')\n",
    "for i in range(len(a)-1):\n",
    "    print(a[i].text,':',a[i]['href'])\n",
    "print('[<img> 태그의 src 속성값]',bs.img['src'])\n",
    "print('[첫 번째 <h2> 태그의 컨텐트]',bs.h2.text)\n",
    "print('[<ul> 태그의 자식 태그들중 style 속성의 값이 green으로 끝나는 태그의 컨텐트]',bs.ul.find_all(attrs={'style':re.compile('green$')})[0].text)\n",
    "print('[두 번째 <h2> 태그의 컨텐트]',bs.find_all('h2')[1].text)\n",
    "print('[<ol> 태그의 모든 자식 태그들의 컨텐트]',bs.find_all('ol')[0].text,end='')\n",
    "print('[<table> 태그의 모든 자손 태그들의 컨텐트]',bs.find_all('table')[0].text,end='')\n",
    "print('[name이라는 클래스 속성을 갖는 <tr> 태그의 컨텐트]',bs.find_all('tr',class_='name')[0].text)\n",
    "print('[target이라는 아이디 속성을 갖는 <td> 태그의 컨텐트]',bs.find_all('td',id='target')[0].text)"
   ]
  },
  {
   "cell_type": "code",
   "execution_count": null,
   "id": "d2066119-360b-4dc3-bb25-c74bb8787a98",
   "metadata": {},
   "outputs": [],
   "source": []
  }
 ],
 "metadata": {
  "kernelspec": {
   "display_name": "pydatavenv",
   "language": "python",
   "name": "pydatavenv"
  },
  "language_info": {
   "codemirror_mode": {
    "name": "ipython",
    "version": 3
   },
   "file_extension": ".py",
   "mimetype": "text/x-python",
   "name": "python",
   "nbconvert_exporter": "python",
   "pygments_lexer": "ipython3",
   "version": "3.8.8"
  }
 },
 "nbformat": 4,
 "nbformat_minor": 5
}
