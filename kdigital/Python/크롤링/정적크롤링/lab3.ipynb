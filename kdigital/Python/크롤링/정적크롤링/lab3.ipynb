{
 "cells": [
  {
   "cell_type": "code",
   "execution_count": 29,
   "id": "1f562265-8103-4757-984c-737355077b67",
   "metadata": {},
   "outputs": [],
   "source": [
    "import requests\n",
    "from bs4 import BeautifulSoup\n",
    "newstitle = []\n",
    "newscomname = []\n",
    "req = requests.get('http://media.daum.net/ranking/popular/')\n",
    "html = req.text\n",
    "soup = BeautifulSoup(html, 'html.parser')\n",
    "\n",
    "newstitleList = soup.select('ul.list_news2 div.cont_thumb > strong > a')\n",
    "newscomnameList = soup.select('ul.list_news2 div.cont_thumb > strong > span')\n",
    "\n",
    "for dom in newstitleList:\n",
    "    newstitle.append(dom.text)\n",
    "for dom in newscomnameList:\n",
    "    newscomname.append(dom.text)\n",
    "    \n",
    "with open('news.csv', \"wt\", encoding=\"utf-8\") as f:\n",
    "    f.write('newstitle,newscomname\\n')  \n",
    "    for i in range(len(newstitle)):\n",
    "        f.write(newstitle[i]+\",\"+newscomname[i]+'\\n')"
   ]
  }
 ],
 "metadata": {
  "kernelspec": {
   "display_name": "pydatavenv",
   "language": "python",
   "name": "pydatavenv"
  },
  "language_info": {
   "codemirror_mode": {
    "name": "ipython",
    "version": 3
   },
   "file_extension": ".py",
   "mimetype": "text/x-python",
   "name": "python",
   "nbconvert_exporter": "python",
   "pygments_lexer": "ipython3",
   "version": "3.8.8"
  }
 },
 "nbformat": 4,
 "nbformat_minor": 5
}
