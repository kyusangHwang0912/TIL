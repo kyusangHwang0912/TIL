{
 "cells": [
  {
   "cell_type": "code",
   "execution_count": null,
   "id": "b790fdb5-e924-47da-a9b7-dfd325d54cf7",
   "metadata": {},
   "outputs": [],
   "source": [
    "import urllib.request\n",
    "import urllib.parse\n",
    "params = urllib.parse.urlencode({'category': '역사', 'page': 25})\n",
    "url = 'http://unico2013.dothome.co.kr/crawling/exercise.php?%s' % params\n",
    "print(url)\n",
    "with urllib.request.urlopen(url) as f:\n",
    "    print(f.read().decode('utf-8'))"
   ]
  },
  {
   "cell_type": "code",
   "execution_count": null,
   "id": "999562a9-6eee-4990-817a-054967112e7c",
   "metadata": {},
   "outputs": [],
   "source": [
    "import requests\n",
    "\n",
    "dicdata = {'category':'여행', 'page' : 100}\n",
    "urlstr = 'http://unico2013.dothome.co.kr/crawling/exercise.php'\n",
    "r = requests.get(urlstr, params=dicdata)\n",
    "r.encoding = 'utf-8'\n",
    "print(r.text)"
   ]
  }
 ],
 "metadata": {
  "kernelspec": {
   "display_name": "pydatavenv",
   "language": "python",
   "name": "pydatavenv"
  },
  "language_info": {
   "codemirror_mode": {
    "name": "ipython",
    "version": 3
   },
   "file_extension": ".py",
   "mimetype": "text/x-python",
   "name": "python",
   "nbconvert_exporter": "python",
   "pygments_lexer": "ipython3",
   "version": "3.8.11"
  }
 },
 "nbformat": 4,
 "nbformat_minor": 5
}
