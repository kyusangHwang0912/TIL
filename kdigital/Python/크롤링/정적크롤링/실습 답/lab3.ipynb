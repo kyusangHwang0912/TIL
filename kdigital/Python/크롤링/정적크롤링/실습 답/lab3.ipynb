{
 "cells": [
  {
   "cell_type": "code",
   "execution_count": null,
   "metadata": {},
   "outputs": [],
   "source": [
    "import requests\n",
    "from bs4 import BeautifulSoup\n",
    "\n",
    "req = requests.get('http://media.daum.net/ranking/popular/')\n",
    "html = req.content\n",
    "html = html.decode('utf-8')\n",
    "\n",
    "bs = BeautifulSoup(html, 'html.parser')\n",
    "newstitle = ['newstitle']\n",
    "newscomename = ['newscomname']\n",
    "\n",
    "titles = bs.select('#mArticle > div.rank_news > ul.list_news2 > li > div.cont_thumb > strong > a')\n",
    "\n",
    "for dom in titles:\n",
    "    newstitle.append(dom.text)\n",
    "\n",
    "comename = bs.select('#mArticle > div.rank_news > ul.list_news2 > li > div.cont_thumb > strong > span')\n",
    "for dom in comename:\n",
    "    newscomename.append(dom.text)\n",
    "\n",
    "with open('output/news1.csv', \"wt\", encoding=\"utf-8\") as f:\n",
    "    #f.write('newstitle,newscomename\\n')  \n",
    "    for i in range(len(newstitle)):\n",
    "        f.write(newstitle[i] + \",\" + newscomename[i] + '\\n')"
   ]
  },
  {
   "cell_type": "code",
   "execution_count": null,
   "metadata": {},
   "outputs": [],
   "source": [
    "import requests\n",
    "from bs4 import BeautifulSoup\n",
    "newstitle = []\n",
    "newscomname = []\n",
    "urlstr = 'https://news.daum.net/ranking/popular/'\n",
    "r = requests.get(urlstr)\n",
    "#r.encoding = \"utf-8\"\n",
    "bs = BeautifulSoup(r.text, 'html.parser')\n",
    "\n",
    "newstitleList = bs.select('#mArticle > div.rank_news > ul.list_news2 > li > div.cont_thumb > strong > a')\n",
    "newscomnameList = bs.select('#mArticle > div.rank_news > ul.list_news2 > li > div.cont_thumb > strong > span')\n",
    "\n",
    "for titleDom in newstitleList:\n",
    "    newstitle.append(titleDom.string)\n",
    "for comnameDom in newscomnameList:\n",
    "    newscomname.append(comnameDom.string)\n",
    "\n",
    "with open('output/news2.csv', \"wt\", encoding=\"utf-8\") as f:\n",
    "    f.write('newstitle,newscomname\\n')  \n",
    "    for i in range(50):\n",
    "        f.write(newstitle[i]+\",\"+newscomname[i]+'\\n')"
   ]
  },
  {
   "cell_type": "code",
   "execution_count": null,
   "metadata": {},
   "outputs": [],
   "source": [
    "import requests\n",
    "from bs4 import BeautifulSoup\n",
    "\n",
    "newstitle=[]\n",
    "newscomname = []\n",
    "\n",
    "urlstr = 'http://media.daum.net/ranking/popular/'\n",
    "r = requests.get(urlstr)\n",
    "bs = BeautifulSoup(r.text, 'html.parser')\n",
    "\n",
    "title_list = bs.select(\"div.rank_news > ul.list_news2 > li > div.cont_thumb > strong > a\")\n",
    "name_list = bs.select(\"ul.list_news2 > li > div.cont_thumb > strong > span\")\n",
    "\n",
    "\n",
    "for titles in title_list:\n",
    "    newstitle.append(titles.text)\n",
    "for names in name_list:\n",
    "    newscomname.append(names.text)\n",
    "\n",
    "print(newstitle)\n",
    "print(\"===============================================================\")\n",
    "print(newscomname)\n",
    "\n",
    "\n",
    "with open('output/news3.csv', \"wt\", encoding=\"utf-8\") as f:\n",
    "    f.write('newstitle,newscomname\\n')  \n",
    "    for i in range (len(newstitle)):\n",
    "        f.write(newstitle[i]+\",\"+newscomname[i]+'\\n')"
   ]
  }
 ],
 "metadata": {
  "kernelspec": {
   "display_name": "pydatavenv",
   "language": "python",
   "name": "pydatavenv"
  },
  "language_info": {
   "codemirror_mode": {
    "name": "ipython",
    "version": 3
   },
   "file_extension": ".py",
   "mimetype": "text/x-python",
   "name": "python",
   "nbconvert_exporter": "python",
   "pygments_lexer": "ipython3",
   "version": "3.8.11"
  }
 },
 "nbformat": 4,
 "nbformat_minor": 4
}
